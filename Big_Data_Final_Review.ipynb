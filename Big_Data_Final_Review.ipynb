{
  "cells": [
    {
      "cell_type": "markdown",
      "source": [
        "# **BIG DATA FRAMEWORKS FINAL CODE**\n",
        "\n"
      ],
      "metadata": {
        "id": "_5R1xFtJxusv"
      }
    },
    {
      "cell_type": "code",
      "execution_count": null,
      "metadata": {
        "id": "_uLMP98liOXE",
        "colab": {
          "base_uri": "https://localhost:8080/"
        },
        "outputId": "66c9680c-2a86-4db2-828b-46c7e9a6a677"
      },
      "outputs": [
        {
          "output_type": "stream",
          "name": "stdout",
          "text": [
            "Python 3.7.13\n"
          ]
        }
      ],
      "source": [
        "!python --version"
      ]
    },
    {
      "cell_type": "code",
      "execution_count": null,
      "metadata": {
        "id": "E0UZ8wVciic8",
        "colab": {
          "base_uri": "https://localhost:8080/"
        },
        "outputId": "4fcd0f83-b1ba-4739-b3bc-874c38f1c505"
      },
      "outputs": [
        {
          "output_type": "stream",
          "name": "stdout",
          "text": [
            "/content\n"
          ]
        }
      ],
      "source": [
        "!pwd"
      ]
    },
    {
      "cell_type": "code",
      "execution_count": null,
      "metadata": {
        "id": "wRK6Qz_a1Cqh",
        "colab": {
          "base_uri": "https://localhost:8080/"
        },
        "outputId": "1ad2739e-9659-4103-dd13-845aa7098aee"
      },
      "outputs": [
        {
          "output_type": "stream",
          "name": "stdout",
          "text": [
            "spark-3.0.3-bin-hadoop3.2/\n",
            "spark-3.0.3-bin-hadoop3.2/NOTICE\n",
            "spark-3.0.3-bin-hadoop3.2/kubernetes/\n",
            "spark-3.0.3-bin-hadoop3.2/kubernetes/tests/\n",
            "spark-3.0.3-bin-hadoop3.2/kubernetes/tests/worker_memory_check.py\n",
            "spark-3.0.3-bin-hadoop3.2/kubernetes/tests/py_container_checks.py\n",
            "spark-3.0.3-bin-hadoop3.2/kubernetes/tests/pyfiles.py\n",
            "spark-3.0.3-bin-hadoop3.2/kubernetes/dockerfiles/\n",
            "spark-3.0.3-bin-hadoop3.2/kubernetes/dockerfiles/spark/\n",
            "spark-3.0.3-bin-hadoop3.2/kubernetes/dockerfiles/spark/entrypoint.sh\n",
            "spark-3.0.3-bin-hadoop3.2/kubernetes/dockerfiles/spark/bindings/\n",
            "spark-3.0.3-bin-hadoop3.2/kubernetes/dockerfiles/spark/bindings/R/\n",
            "spark-3.0.3-bin-hadoop3.2/kubernetes/dockerfiles/spark/bindings/R/Dockerfile\n",
            "spark-3.0.3-bin-hadoop3.2/kubernetes/dockerfiles/spark/bindings/python/\n",
            "spark-3.0.3-bin-hadoop3.2/kubernetes/dockerfiles/spark/bindings/python/Dockerfile\n",
            "spark-3.0.3-bin-hadoop3.2/kubernetes/dockerfiles/spark/Dockerfile\n",
            "spark-3.0.3-bin-hadoop3.2/jars/\n",
            "spark-3.0.3-bin-hadoop3.2/jars/hive-vector-code-gen-2.3.7.jar\n",
            "spark-3.0.3-bin-hadoop3.2/jars/guice-servlet-4.0.jar\n",
            "spark-3.0.3-bin-hadoop3.2/jars/kerb-crypto-1.0.1.jar\n",
            "spark-3.0.3-bin-hadoop3.2/jars/kerby-asn1-1.0.1.jar\n",
            "spark-3.0.3-bin-hadoop3.2/jars/derby-10.12.1.1.jar\n",
            "spark-3.0.3-bin-hadoop3.2/jars/hadoop-annotations-3.2.0.jar\n",
            "spark-3.0.3-bin-hadoop3.2/jars/hadoop-mapreduce-client-jobclient-3.2.0.jar\n",
            "spark-3.0.3-bin-hadoop3.2/jars/commons-beanutils-1.9.4.jar\n",
            "spark-3.0.3-bin-hadoop3.2/jars/httpcore-4.4.12.jar\n",
            "spark-3.0.3-bin-hadoop3.2/jars/scala-library-2.12.10.jar\n",
            "spark-3.0.3-bin-hadoop3.2/jars/parquet-format-2.4.0.jar\n",
            "spark-3.0.3-bin-hadoop3.2/jars/kerb-identity-1.0.1.jar\n",
            "spark-3.0.3-bin-hadoop3.2/jars/kryo-shaded-4.0.2.jar\n",
            "spark-3.0.3-bin-hadoop3.2/jars/commons-logging-1.1.3.jar\n",
            "spark-3.0.3-bin-hadoop3.2/jars/okio-1.15.0.jar\n",
            "spark-3.0.3-bin-hadoop3.2/jars/commons-compiler-3.0.16.jar\n",
            "spark-3.0.3-bin-hadoop3.2/jars/jdo-api-3.0.1.jar\n",
            "spark-3.0.3-bin-hadoop3.2/jars/spire-macros_2.12-0.17.0-M1.jar\n",
            "spark-3.0.3-bin-hadoop3.2/jars/arrow-memory-0.15.1.jar\n",
            "spark-3.0.3-bin-hadoop3.2/jars/JLargeArrays-1.5.jar\n",
            "spark-3.0.3-bin-hadoop3.2/jars/jsp-api-2.1.jar\n",
            "spark-3.0.3-bin-hadoop3.2/jars/hadoop-yarn-server-web-proxy-3.2.0.jar\n",
            "spark-3.0.3-bin-hadoop3.2/jars/logging-interceptor-3.12.6.jar\n",
            "spark-3.0.3-bin-hadoop3.2/jars/javax.servlet-api-3.1.0.jar\n",
            "spark-3.0.3-bin-hadoop3.2/jars/jcl-over-slf4j-1.7.30.jar\n",
            "spark-3.0.3-bin-hadoop3.2/jars/hive-cli-2.3.7.jar\n",
            "spark-3.0.3-bin-hadoop3.2/jars/parquet-common-1.10.1.jar\n",
            "spark-3.0.3-bin-hadoop3.2/jars/json-smart-2.3.jar\n",
            "spark-3.0.3-bin-hadoop3.2/jars/stax-api-1.0.1.jar\n",
            "spark-3.0.3-bin-hadoop3.2/jars/jackson-dataformat-yaml-2.10.0.jar\n",
            "spark-3.0.3-bin-hadoop3.2/jars/algebra_2.12-2.0.0-M2.jar\n",
            "spark-3.0.3-bin-hadoop3.2/jars/spark-graphx_2.12-3.0.3.jar\n",
            "spark-3.0.3-bin-hadoop3.2/jars/kubernetes-client-4.9.2.jar\n",
            "spark-3.0.3-bin-hadoop3.2/jars/spire-util_2.12-0.17.0-M1.jar\n",
            "spark-3.0.3-bin-hadoop3.2/jars/jakarta.activation-api-1.2.1.jar\n",
            "spark-3.0.3-bin-hadoop3.2/jars/spark-network-shuffle_2.12-3.0.3.jar\n",
            "spark-3.0.3-bin-hadoop3.2/jars/jline-2.14.6.jar\n",
            "spark-3.0.3-bin-hadoop3.2/jars/breeze_2.12-1.0.jar\n",
            "spark-3.0.3-bin-hadoop3.2/jars/metrics-jvm-4.1.1.jar\n",
            "spark-3.0.3-bin-hadoop3.2/jars/dropwizard-metrics-hadoop-metrics2-reporter-0.1.2.jar\n",
            "spark-3.0.3-bin-hadoop3.2/jars/spark-launcher_2.12-3.0.3.jar\n",
            "spark-3.0.3-bin-hadoop3.2/jars/machinist_2.12-0.6.8.jar\n",
            "spark-3.0.3-bin-hadoop3.2/jars/scala-compiler-2.12.10.jar\n",
            "spark-3.0.3-bin-hadoop3.2/jars/commons-pool-1.5.4.jar\n",
            "spark-3.0.3-bin-hadoop3.2/jars/arrow-format-0.15.1.jar\n",
            "spark-3.0.3-bin-hadoop3.2/jars/token-provider-1.0.1.jar\n",
            "spark-3.0.3-bin-hadoop3.2/jars/spark-mllib_2.12-3.0.3.jar\n",
            "spark-3.0.3-bin-hadoop3.2/jars/jta-1.1.jar\n",
            "spark-3.0.3-bin-hadoop3.2/jars/spark-yarn_2.12-3.0.3.jar\n",
            "spark-3.0.3-bin-hadoop3.2/jars/istack-commons-runtime-3.0.8.jar\n",
            "spark-3.0.3-bin-hadoop3.2/jars/metrics-graphite-4.1.1.jar\n",
            "spark-3.0.3-bin-hadoop3.2/jars/commons-collections-3.2.2.jar\n",
            "spark-3.0.3-bin-hadoop3.2/jars/audience-annotations-0.5.0.jar\n",
            "spark-3.0.3-bin-hadoop3.2/jars/kerby-pkix-1.0.1.jar\n",
            "spark-3.0.3-bin-hadoop3.2/jars/jpam-1.1.jar\n",
            "spark-3.0.3-bin-hadoop3.2/jars/jakarta.annotation-api-1.3.5.jar\n",
            "spark-3.0.3-bin-hadoop3.2/jars/py4j-0.10.9.jar\n",
            "spark-3.0.3-bin-hadoop3.2/jars/curator-recipes-2.13.0.jar\n",
            "spark-3.0.3-bin-hadoop3.2/jars/jaxb-api-2.2.11.jar\n",
            "spark-3.0.3-bin-hadoop3.2/jars/spire-platform_2.12-0.17.0-M1.jar\n",
            "spark-3.0.3-bin-hadoop3.2/jars/avro-1.8.2.jar\n",
            "spark-3.0.3-bin-hadoop3.2/jars/spark-core_2.12-3.0.3.jar\n",
            "spark-3.0.3-bin-hadoop3.2/jars/hadoop-mapreduce-client-common-3.2.0.jar\n",
            "spark-3.0.3-bin-hadoop3.2/jars/antlr4-runtime-4.7.1.jar\n",
            "spark-3.0.3-bin-hadoop3.2/jars/javax.inject-1.jar\n",
            "spark-3.0.3-bin-hadoop3.2/jars/spark-kubernetes_2.12-3.0.3.jar\n",
            "spark-3.0.3-bin-hadoop3.2/jars/jersey-media-jaxb-2.30.jar\n",
            "spark-3.0.3-bin-hadoop3.2/jars/commons-lang3-3.9.jar\n",
            "spark-3.0.3-bin-hadoop3.2/jars/kerb-admin-1.0.1.jar\n",
            "spark-3.0.3-bin-hadoop3.2/jars/ehcache-3.3.1.jar\n",
            "spark-3.0.3-bin-hadoop3.2/jars/javax.jdo-3.2.0-m3.jar\n",
            "spark-3.0.3-bin-hadoop3.2/jars/kerb-server-1.0.1.jar\n",
            "spark-3.0.3-bin-hadoop3.2/jars/hadoop-yarn-api-3.2.0.jar\n",
            "spark-3.0.3-bin-hadoop3.2/jars/commons-io-2.4.jar\n",
            "spark-3.0.3-bin-hadoop3.2/jars/objenesis-2.5.1.jar\n",
            "spark-3.0.3-bin-hadoop3.2/jars/paranamer-2.8.jar\n",
            "spark-3.0.3-bin-hadoop3.2/jars/kerb-common-1.0.1.jar\n",
            "spark-3.0.3-bin-hadoop3.2/jars/cats-kernel_2.12-2.0.0-M4.jar\n",
            "spark-3.0.3-bin-hadoop3.2/jars/kerby-util-1.0.1.jar\n",
            "spark-3.0.3-bin-hadoop3.2/jars/kerb-client-1.0.1.jar\n",
            "spark-3.0.3-bin-hadoop3.2/jars/hadoop-yarn-registry-3.2.0.jar\n",
            "spark-3.0.3-bin-hadoop3.2/jars/flatbuffers-java-1.9.0.jar\n",
            "spark-3.0.3-bin-hadoop3.2/jars/jersey-server-2.30.jar\n",
            "spark-3.0.3-bin-hadoop3.2/jars/stream-2.9.6.jar\n",
            "spark-3.0.3-bin-hadoop3.2/jars/datanucleus-api-jdo-4.2.4.jar\n",
            "spark-3.0.3-bin-hadoop3.2/jars/gson-2.2.4.jar\n",
            "spark-3.0.3-bin-hadoop3.2/jars/curator-client-2.13.0.jar\n",
            "spark-3.0.3-bin-hadoop3.2/jars/spark-hive_2.12-3.0.3.jar\n",
            "spark-3.0.3-bin-hadoop3.2/jars/hadoop-mapreduce-client-core-3.2.0.jar\n",
            "spark-3.0.3-bin-hadoop3.2/jars/stax2-api-3.1.4.jar\n",
            "spark-3.0.3-bin-hadoop3.2/jars/hive-jdbc-2.3.7.jar\n",
            "spark-3.0.3-bin-hadoop3.2/jars/hive-exec-2.3.7-core.jar\n",
            "spark-3.0.3-bin-hadoop3.2/jars/opencsv-2.3.jar\n",
            "spark-3.0.3-bin-hadoop3.2/jars/spark-sketch_2.12-3.0.3.jar\n",
            "spark-3.0.3-bin-hadoop3.2/jars/avro-mapred-1.8.2-hadoop2.jar\n",
            "spark-3.0.3-bin-hadoop3.2/jars/jsr305-3.0.0.jar\n",
            "spark-3.0.3-bin-hadoop3.2/jars/univocity-parsers-2.9.0.jar\n",
            "spark-3.0.3-bin-hadoop3.2/jars/hadoop-common-3.2.0.jar\n",
            "spark-3.0.3-bin-hadoop3.2/jars/macro-compat_2.12-1.1.1.jar\n",
            "spark-3.0.3-bin-hadoop3.2/jars/commons-dbcp-1.4.jar\n",
            "spark-3.0.3-bin-hadoop3.2/jars/jersey-container-servlet-core-2.30.jar\n",
            "spark-3.0.3-bin-hadoop3.2/jars/orc-core-1.5.10.jar\n",
            "spark-3.0.3-bin-hadoop3.2/jars/hk2-api-2.6.1.jar\n",
            "spark-3.0.3-bin-hadoop3.2/jars/parquet-jackson-1.10.1.jar\n",
            "spark-3.0.3-bin-hadoop3.2/jars/mesos-1.4.0-shaded-protobuf.jar\n",
            "spark-3.0.3-bin-hadoop3.2/jars/chill-java-0.9.5.jar\n",
            "spark-3.0.3-bin-hadoop3.2/jars/spark-tags_2.12-3.0.3-tests.jar\n",
            "spark-3.0.3-bin-hadoop3.2/jars/automaton-1.11-8.jar\n",
            "spark-3.0.3-bin-hadoop3.2/jars/commons-lang-2.6.jar\n",
            "spark-3.0.3-bin-hadoop3.2/jars/jackson-annotations-2.10.0.jar\n",
            "spark-3.0.3-bin-hadoop3.2/jars/hk2-utils-2.6.1.jar\n",
            "spark-3.0.3-bin-hadoop3.2/jars/htrace-core4-4.1.0-incubating.jar\n",
            "spark-3.0.3-bin-hadoop3.2/jars/spark-network-common_2.12-3.0.3.jar\n",
            "spark-3.0.3-bin-hadoop3.2/jars/kerb-core-1.0.1.jar\n",
            "spark-3.0.3-bin-hadoop3.2/jars/spark-repl_2.12-3.0.3.jar\n",
            "spark-3.0.3-bin-hadoop3.2/jars/velocity-1.5.jar\n",
            "spark-3.0.3-bin-hadoop3.2/jars/jul-to-slf4j-1.7.30.jar\n",
            "spark-3.0.3-bin-hadoop3.2/jars/JTransforms-3.1.jar\n",
            "spark-3.0.3-bin-hadoop3.2/jars/json4s-ast_2.12-3.6.6.jar\n",
            "spark-3.0.3-bin-hadoop3.2/jars/jersey-client-2.30.jar\n",
            "spark-3.0.3-bin-hadoop3.2/jars/woodstox-core-5.0.3.jar\n",
            "spark-3.0.3-bin-hadoop3.2/jars/httpclient-4.5.6.jar\n",
            "spark-3.0.3-bin-hadoop3.2/jars/spark-kvstore_2.12-3.0.3.jar\n",
            "spark-3.0.3-bin-hadoop3.2/jars/jcip-annotations-1.0-1.jar\n",
            "spark-3.0.3-bin-hadoop3.2/jars/spire_2.12-0.17.0-M1.jar\n",
            "spark-3.0.3-bin-hadoop3.2/jars/jersey-hk2-2.30.jar\n",
            "spark-3.0.3-bin-hadoop3.2/jars/commons-math3-3.4.1.jar\n",
            "spark-3.0.3-bin-hadoop3.2/jars/xbean-asm7-shaded-4.15.jar\n",
            "spark-3.0.3-bin-hadoop3.2/jars/jakarta.validation-api-2.0.2.jar\n",
            "spark-3.0.3-bin-hadoop3.2/jars/nimbus-jose-jwt-4.41.1.jar\n",
            "spark-3.0.3-bin-hadoop3.2/jars/parquet-encoding-1.10.1.jar\n",
            "spark-3.0.3-bin-hadoop3.2/jars/snappy-java-1.1.8.2.jar\n",
            "spark-3.0.3-bin-hadoop3.2/jars/kerb-util-1.0.1.jar\n",
            "spark-3.0.3-bin-hadoop3.2/jars/slf4j-log4j12-1.7.30.jar\n",
            "spark-3.0.3-bin-hadoop3.2/jars/zstd-jni-1.4.4-3.jar\n",
            "spark-3.0.3-bin-hadoop3.2/jars/slf4j-api-1.7.30.jar\n",
            "spark-3.0.3-bin-hadoop3.2/jars/hive-shims-0.23-2.3.7.jar\n",
            "spark-3.0.3-bin-hadoop3.2/jars/guava-14.0.1.jar\n",
            "spark-3.0.3-bin-hadoop3.2/jars/zjsonpatch-0.3.0.jar\n",
            "spark-3.0.3-bin-hadoop3.2/jars/hive-storage-api-2.7.1.jar\n",
            "spark-3.0.3-bin-hadoop3.2/jars/shapeless_2.12-2.3.3.jar\n",
            "spark-3.0.3-bin-hadoop3.2/jars/kubernetes-model-common-4.9.2.jar\n",
            "spark-3.0.3-bin-hadoop3.2/jars/oro-2.0.8.jar\n",
            "spark-3.0.3-bin-hadoop3.2/jars/libfb303-0.9.3.jar\n",
            "spark-3.0.3-bin-hadoop3.2/jars/core-1.1.2.jar\n",
            "spark-3.0.3-bin-hadoop3.2/jars/jersey-container-servlet-2.30.jar\n",
            "spark-3.0.3-bin-hadoop3.2/jars/dnsjava-2.1.7.jar\n",
            "spark-3.0.3-bin-hadoop3.2/jars/datanucleus-rdbms-4.1.19.jar\n",
            "spark-3.0.3-bin-hadoop3.2/jars/super-csv-2.2.0.jar\n",
            "spark-3.0.3-bin-hadoop3.2/jars/compress-lzf-1.0.3.jar\n",
            "spark-3.0.3-bin-hadoop3.2/jars/jackson-module-paranamer-2.10.0.jar\n",
            "spark-3.0.3-bin-hadoop3.2/jars/aopalliance-1.0.jar\n",
            "spark-3.0.3-bin-hadoop3.2/jars/osgi-resource-locator-1.0.3.jar\n",
            "spark-3.0.3-bin-hadoop3.2/jars/jackson-module-scala_2.12-2.10.0.jar\n",
            "spark-3.0.3-bin-hadoop3.2/jars/hive-shims-2.3.7.jar\n",
            "spark-3.0.3-bin-hadoop3.2/jars/json-1.8.jar\n",
            "spark-3.0.3-bin-hadoop3.2/jars/antlr-runtime-3.5.2.jar\n",
            "spark-3.0.3-bin-hadoop3.2/jars/threeten-extra-1.5.0.jar\n",
            "spark-3.0.3-bin-hadoop3.2/jars/spark-tags_2.12-3.0.3.jar\n",
            "spark-3.0.3-bin-hadoop3.2/jars/jackson-module-jaxb-annotations-2.10.0.jar\n",
            "spark-3.0.3-bin-hadoop3.2/jars/jersey-common-2.30.jar\n",
            "spark-3.0.3-bin-hadoop3.2/jars/aircompressor-0.10.jar\n",
            "spark-3.0.3-bin-hadoop3.2/jars/lz4-java-1.7.1.jar\n",
            "spark-3.0.3-bin-hadoop3.2/jars/activation-1.1.1.jar\n",
            "spark-3.0.3-bin-hadoop3.2/jars/shims-0.7.45.jar\n",
            "spark-3.0.3-bin-hadoop3.2/jars/commons-crypto-1.1.0.jar\n",
            "spark-3.0.3-bin-hadoop3.2/jars/commons-daemon-1.0.13.jar\n",
            "spark-3.0.3-bin-hadoop3.2/jars/spark-mesos_2.12-3.0.3.jar\n",
            "spark-3.0.3-bin-hadoop3.2/jars/libthrift-0.12.0.jar\n",
            "spark-3.0.3-bin-hadoop3.2/jars/orc-mapreduce-1.5.10.jar\n",
            "spark-3.0.3-bin-hadoop3.2/jars/HikariCP-2.5.1.jar\n",
            "spark-3.0.3-bin-hadoop3.2/jars/generex-1.0.2.jar\n",
            "spark-3.0.3-bin-hadoop3.2/jars/commons-configuration2-2.1.1.jar\n",
            "spark-3.0.3-bin-hadoop3.2/jars/okhttp-3.12.6.jar\n",
            "spark-3.0.3-bin-hadoop3.2/jars/breeze-macros_2.12-1.0.jar\n",
            "spark-3.0.3-bin-hadoop3.2/jars/leveldbjni-all-1.8.jar\n",
            "spark-3.0.3-bin-hadoop3.2/jars/jaxb-runtime-2.3.2.jar\n",
            "spark-3.0.3-bin-hadoop3.2/jars/kerb-simplekdc-1.0.1.jar\n",
            "spark-3.0.3-bin-hadoop3.2/jars/commons-httpclient-3.1.jar\n",
            "spark-3.0.3-bin-hadoop3.2/jars/jackson-core-asl-1.9.13.jar\n",
            "spark-3.0.3-bin-hadoop3.2/jars/scala-xml_2.12-1.2.0.jar\n",
            "spark-3.0.3-bin-hadoop3.2/jars/hk2-locator-2.6.1.jar\n",
            "spark-3.0.3-bin-hadoop3.2/jars/geronimo-jcache_1.0_spec-1.0-alpha-1.jar\n",
            "spark-3.0.3-bin-hadoop3.2/jars/jackson-mapper-asl-1.9.13.jar\n",
            "spark-3.0.3-bin-hadoop3.2/jars/kerby-config-1.0.1.jar\n",
            "spark-3.0.3-bin-hadoop3.2/jars/hive-common-2.3.7.jar\n",
            "spark-3.0.3-bin-hadoop3.2/jars/xz-1.5.jar\n",
            "spark-3.0.3-bin-hadoop3.2/jars/ST4-4.0.4.jar\n",
            "spark-3.0.3-bin-hadoop3.2/jars/hive-shims-scheduler-2.3.7.jar\n",
            "spark-3.0.3-bin-hadoop3.2/jars/spark-unsafe_2.12-3.0.3.jar\n",
            "spark-3.0.3-bin-hadoop3.2/jars/guice-4.0.jar\n",
            "spark-3.0.3-bin-hadoop3.2/jars/parquet-hadoop-1.10.1.jar\n",
            "spark-3.0.3-bin-hadoop3.2/jars/chill_2.12-0.9.5.jar\n",
            "spark-3.0.3-bin-hadoop3.2/jars/jackson-jaxrs-base-2.9.5.jar\n",
            "spark-3.0.3-bin-hadoop3.2/jars/jackson-databind-2.10.0.jar\n",
            "spark-3.0.3-bin-hadoop3.2/jars/spark-hive-thriftserver_2.12-3.0.3.jar\n",
            "spark-3.0.3-bin-hadoop3.2/jars/hadoop-yarn-server-common-3.2.0.jar\n",
            "spark-3.0.3-bin-hadoop3.2/jars/scala-reflect-2.12.10.jar\n",
            "spark-3.0.3-bin-hadoop3.2/jars/joda-time-2.10.5.jar\n",
            "spark-3.0.3-bin-hadoop3.2/jars/minlog-1.3.0.jar\n",
            "spark-3.0.3-bin-hadoop3.2/jars/jakarta.ws.rs-api-2.1.6.jar\n",
            "spark-3.0.3-bin-hadoop3.2/jars/orc-shims-1.5.10.jar\n",
            "spark-3.0.3-bin-hadoop3.2/jars/aopalliance-repackaged-2.6.1.jar\n",
            "spark-3.0.3-bin-hadoop3.2/jars/commons-compress-1.20.jar\n",
            "spark-3.0.3-bin-hadoop3.2/jars/bonecp-0.8.0.RELEASE.jar\n",
            "spark-3.0.3-bin-hadoop3.2/jars/jodd-core-3.5.2.jar\n",
            "spark-3.0.3-bin-hadoop3.2/jars/jackson-core-2.10.0.jar\n",
            "spark-3.0.3-bin-hadoop3.2/jars/protobuf-java-2.5.0.jar\n",
            "spark-3.0.3-bin-hadoop3.2/jars/commons-net-3.1.jar\n",
            "spark-3.0.3-bin-hadoop3.2/jars/datanucleus-core-4.1.17.jar\n",
            "spark-3.0.3-bin-hadoop3.2/jars/janino-3.0.16.jar\n",
            "spark-3.0.3-bin-hadoop3.2/jars/hive-shims-common-2.3.7.jar\n",
            "spark-3.0.3-bin-hadoop3.2/jars/javolution-5.5.1.jar\n",
            "spark-3.0.3-bin-hadoop3.2/jars/transaction-api-1.1.jar\n",
            "spark-3.0.3-bin-hadoop3.2/jars/curator-framework-2.13.0.jar\n",
            "spark-3.0.3-bin-hadoop3.2/jars/spark-streaming_2.12-3.0.3.jar\n",
            "spark-3.0.3-bin-hadoop3.2/jars/jackson-datatype-jsr310-2.10.3.jar\n",
            "spark-3.0.3-bin-hadoop3.2/jars/spark-mllib-local_2.12-3.0.3.jar\n",
            "spark-3.0.3-bin-hadoop3.2/jars/okhttp-2.7.5.jar\n",
            "spark-3.0.3-bin-hadoop3.2/jars/commons-cli-1.2.jar\n",
            "spark-3.0.3-bin-hadoop3.2/jars/jakarta.inject-2.6.1.jar\n",
            "spark-3.0.3-bin-hadoop3.2/jars/metrics-jmx-4.1.1.jar\n",
            "spark-3.0.3-bin-hadoop3.2/jars/arrow-vector-0.15.1.jar\n",
            "spark-3.0.3-bin-hadoop3.2/jars/jakarta.xml.bind-api-2.3.2.jar\n",
            "spark-3.0.3-bin-hadoop3.2/jars/hadoop-yarn-common-3.2.0.jar\n",
            "spark-3.0.3-bin-hadoop3.2/jars/commons-codec-1.10.jar\n",
            "spark-3.0.3-bin-hadoop3.2/jars/spark-catalyst_2.12-3.0.3.jar\n",
            "spark-3.0.3-bin-hadoop3.2/jars/arpack_combined_all-0.1.jar\n",
            "spark-3.0.3-bin-hadoop3.2/jars/hadoop-auth-3.2.0.jar\n",
            "spark-3.0.3-bin-hadoop3.2/jars/hive-metastore-2.3.7.jar\n",
            "spark-3.0.3-bin-hadoop3.2/jars/hive-beeline-2.3.7.jar\n",
            "spark-3.0.3-bin-hadoop3.2/jars/hadoop-client-3.2.0.jar\n",
            "spark-3.0.3-bin-hadoop3.2/jars/metrics-core-4.1.1.jar\n",
            "spark-3.0.3-bin-hadoop3.2/jars/hive-llap-common-2.3.7.jar\n",
            "spark-3.0.3-bin-hadoop3.2/jars/netty-all-4.1.47.Final.jar\n",
            "spark-3.0.3-bin-hadoop3.2/jars/hadoop-yarn-client-3.2.0.jar\n",
            "spark-3.0.3-bin-hadoop3.2/jars/javassist-3.25.0-GA.jar\n",
            "spark-3.0.3-bin-hadoop3.2/jars/scala-collection-compat_2.12-2.1.1.jar\n",
            "spark-3.0.3-bin-hadoop3.2/jars/spark-sql_2.12-3.0.3.jar\n",
            "spark-3.0.3-bin-hadoop3.2/jars/parquet-column-1.10.1.jar\n",
            "spark-3.0.3-bin-hadoop3.2/jars/kubernetes-model-4.9.2.jar\n",
            "spark-3.0.3-bin-hadoop3.2/jars/jackson-jaxrs-json-provider-2.9.5.jar\n",
            "spark-3.0.3-bin-hadoop3.2/jars/avro-ipc-1.8.2.jar\n",
            "spark-3.0.3-bin-hadoop3.2/jars/commons-text-1.6.jar\n",
            "spark-3.0.3-bin-hadoop3.2/jars/json4s-scalap_2.12-3.6.6.jar\n",
            "spark-3.0.3-bin-hadoop3.2/jars/metrics-json-4.1.1.jar\n",
            "spark-3.0.3-bin-hadoop3.2/jars/kerby-xdr-1.0.1.jar\n",
            "spark-3.0.3-bin-hadoop3.2/jars/snakeyaml-1.24.jar\n",
            "spark-3.0.3-bin-hadoop3.2/jars/json4s-jackson_2.12-3.6.6.jar\n",
            "spark-3.0.3-bin-hadoop3.2/jars/ivy-2.4.0.jar\n",
            "spark-3.0.3-bin-hadoop3.2/jars/json4s-core_2.12-3.6.6.jar\n",
            "spark-3.0.3-bin-hadoop3.2/jars/pyrolite-4.30.jar\n",
            "spark-3.0.3-bin-hadoop3.2/jars/hadoop-hdfs-client-3.2.0.jar\n",
            "spark-3.0.3-bin-hadoop3.2/jars/log4j-1.2.17.jar\n",
            "spark-3.0.3-bin-hadoop3.2/jars/hive-serde-2.3.7.jar\n",
            "spark-3.0.3-bin-hadoop3.2/jars/scala-parser-combinators_2.12-1.1.2.jar\n",
            "spark-3.0.3-bin-hadoop3.2/jars/re2j-1.1.jar\n",
            "spark-3.0.3-bin-hadoop3.2/jars/RoaringBitmap-0.7.45.jar\n",
            "spark-3.0.3-bin-hadoop3.2/jars/zookeeper-3.4.14.jar\n",
            "spark-3.0.3-bin-hadoop3.2/jars/accessors-smart-1.2.jar\n",
            "spark-3.0.3-bin-hadoop3.2/data/\n",
            "spark-3.0.3-bin-hadoop3.2/data/mllib/\n",
            "spark-3.0.3-bin-hadoop3.2/data/mllib/sample_lda_data.txt\n",
            "spark-3.0.3-bin-hadoop3.2/data/mllib/sample_libsvm_data.txt\n",
            "spark-3.0.3-bin-hadoop3.2/data/mllib/sample_svm_data.txt\n",
            "spark-3.0.3-bin-hadoop3.2/data/mllib/sample_multiclass_classification_data.txt\n",
            "spark-3.0.3-bin-hadoop3.2/data/mllib/sample_linear_regression_data.txt\n",
            "spark-3.0.3-bin-hadoop3.2/data/mllib/sample_lda_libsvm_data.txt\n",
            "spark-3.0.3-bin-hadoop3.2/data/mllib/sample_fpgrowth.txt\n",
            "spark-3.0.3-bin-hadoop3.2/data/mllib/sample_binary_classification_data.txt\n",
            "spark-3.0.3-bin-hadoop3.2/data/mllib/sample_isotonic_regression_libsvm_data.txt\n",
            "spark-3.0.3-bin-hadoop3.2/data/mllib/iris_libsvm.txt\n",
            "spark-3.0.3-bin-hadoop3.2/data/mllib/sample_movielens_data.txt\n",
            "spark-3.0.3-bin-hadoop3.2/data/mllib/als/\n",
            "spark-3.0.3-bin-hadoop3.2/data/mllib/als/test.data\n",
            "spark-3.0.3-bin-hadoop3.2/data/mllib/als/sample_movielens_ratings.txt\n",
            "spark-3.0.3-bin-hadoop3.2/data/mllib/sample_kmeans_data.txt\n",
            "spark-3.0.3-bin-hadoop3.2/data/mllib/pic_data.txt\n",
            "spark-3.0.3-bin-hadoop3.2/data/mllib/images/\n",
            "spark-3.0.3-bin-hadoop3.2/data/mllib/images/origin/\n",
            "spark-3.0.3-bin-hadoop3.2/data/mllib/images/origin/kittens/\n",
            "spark-3.0.3-bin-hadoop3.2/data/mllib/images/origin/kittens/54893.jpg\n",
            "spark-3.0.3-bin-hadoop3.2/data/mllib/images/origin/kittens/not-image.txt\n",
            "spark-3.0.3-bin-hadoop3.2/data/mllib/images/origin/kittens/DP802813.jpg\n",
            "spark-3.0.3-bin-hadoop3.2/data/mllib/images/origin/kittens/29.5.a_b_EGDP022204.jpg\n",
            "spark-3.0.3-bin-hadoop3.2/data/mllib/images/origin/kittens/DP153539.jpg\n",
            "spark-3.0.3-bin-hadoop3.2/data/mllib/images/origin/license.txt\n",
            "spark-3.0.3-bin-hadoop3.2/data/mllib/images/origin/multi-channel/\n",
            "spark-3.0.3-bin-hadoop3.2/data/mllib/images/origin/multi-channel/BGRA.png\n",
            "spark-3.0.3-bin-hadoop3.2/data/mllib/images/origin/multi-channel/BGRA_alpha_60.png\n",
            "spark-3.0.3-bin-hadoop3.2/data/mllib/images/origin/multi-channel/grayscale.jpg\n",
            "spark-3.0.3-bin-hadoop3.2/data/mllib/images/origin/multi-channel/chr30.4.184.jpg\n",
            "spark-3.0.3-bin-hadoop3.2/data/mllib/images/partitioned/\n",
            "spark-3.0.3-bin-hadoop3.2/data/mllib/images/partitioned/cls=multichannel/\n",
            "spark-3.0.3-bin-hadoop3.2/data/mllib/images/partitioned/cls=multichannel/date=2018-01/\n",
            "spark-3.0.3-bin-hadoop3.2/data/mllib/images/partitioned/cls=multichannel/date=2018-01/BGRA.png\n",
            "spark-3.0.3-bin-hadoop3.2/data/mllib/images/partitioned/cls=multichannel/date=2018-01/BGRA_alpha_60.png\n",
            "spark-3.0.3-bin-hadoop3.2/data/mllib/images/partitioned/cls=multichannel/date=2018-02/\n",
            "spark-3.0.3-bin-hadoop3.2/data/mllib/images/partitioned/cls=multichannel/date=2018-02/grayscale.jpg\n",
            "spark-3.0.3-bin-hadoop3.2/data/mllib/images/partitioned/cls=multichannel/date=2018-02/chr30.4.184.jpg\n",
            "spark-3.0.3-bin-hadoop3.2/data/mllib/images/partitioned/cls=kittens/\n",
            "spark-3.0.3-bin-hadoop3.2/data/mllib/images/partitioned/cls=kittens/date=2018-01/\n",
            "spark-3.0.3-bin-hadoop3.2/data/mllib/images/partitioned/cls=kittens/date=2018-01/not-image.txt\n",
            "spark-3.0.3-bin-hadoop3.2/data/mllib/images/partitioned/cls=kittens/date=2018-01/29.5.a_b_EGDP022204.jpg\n",
            "spark-3.0.3-bin-hadoop3.2/data/mllib/images/partitioned/cls=kittens/date=2018-02/\n",
            "spark-3.0.3-bin-hadoop3.2/data/mllib/images/partitioned/cls=kittens/date=2018-02/54893.jpg\n",
            "spark-3.0.3-bin-hadoop3.2/data/mllib/images/partitioned/cls=kittens/date=2018-02/DP802813.jpg\n",
            "spark-3.0.3-bin-hadoop3.2/data/mllib/images/partitioned/cls=kittens/date=2018-02/DP153539.jpg\n",
            "spark-3.0.3-bin-hadoop3.2/data/mllib/images/license.txt\n",
            "spark-3.0.3-bin-hadoop3.2/data/mllib/ridge-data/\n",
            "spark-3.0.3-bin-hadoop3.2/data/mllib/ridge-data/lpsa.data\n",
            "spark-3.0.3-bin-hadoop3.2/data/mllib/kmeans_data.txt\n",
            "spark-3.0.3-bin-hadoop3.2/data/mllib/streaming_kmeans_data_test.txt\n",
            "spark-3.0.3-bin-hadoop3.2/data/mllib/pagerank_data.txt\n",
            "spark-3.0.3-bin-hadoop3.2/data/mllib/gmm_data.txt\n",
            "spark-3.0.3-bin-hadoop3.2/data/graphx/\n",
            "spark-3.0.3-bin-hadoop3.2/data/graphx/users.txt\n",
            "spark-3.0.3-bin-hadoop3.2/data/graphx/followers.txt\n",
            "spark-3.0.3-bin-hadoop3.2/data/streaming/\n",
            "spark-3.0.3-bin-hadoop3.2/data/streaming/AFINN-111.txt\n",
            "spark-3.0.3-bin-hadoop3.2/R/\n",
            "spark-3.0.3-bin-hadoop3.2/R/lib/\n",
            "spark-3.0.3-bin-hadoop3.2/R/lib/sparkr.zip\n",
            "spark-3.0.3-bin-hadoop3.2/R/lib/SparkR/\n",
            "spark-3.0.3-bin-hadoop3.2/R/lib/SparkR/tests/\n",
            "spark-3.0.3-bin-hadoop3.2/R/lib/SparkR/tests/testthat/\n",
            "spark-3.0.3-bin-hadoop3.2/R/lib/SparkR/tests/testthat/test_basic.R\n",
            "spark-3.0.3-bin-hadoop3.2/R/lib/SparkR/DESCRIPTION\n",
            "spark-3.0.3-bin-hadoop3.2/R/lib/SparkR/profile/\n",
            "spark-3.0.3-bin-hadoop3.2/R/lib/SparkR/profile/shell.R\n",
            "spark-3.0.3-bin-hadoop3.2/R/lib/SparkR/profile/general.R\n",
            "spark-3.0.3-bin-hadoop3.2/R/lib/SparkR/INDEX\n",
            "spark-3.0.3-bin-hadoop3.2/R/lib/SparkR/Meta/\n",
            "spark-3.0.3-bin-hadoop3.2/R/lib/SparkR/Meta/features.rds\n",
            "spark-3.0.3-bin-hadoop3.2/R/lib/SparkR/Meta/links.rds\n",
            "spark-3.0.3-bin-hadoop3.2/R/lib/SparkR/Meta/nsInfo.rds\n",
            "spark-3.0.3-bin-hadoop3.2/R/lib/SparkR/Meta/package.rds\n",
            "spark-3.0.3-bin-hadoop3.2/R/lib/SparkR/Meta/vignette.rds\n",
            "spark-3.0.3-bin-hadoop3.2/R/lib/SparkR/Meta/Rd.rds\n",
            "spark-3.0.3-bin-hadoop3.2/R/lib/SparkR/Meta/hsearch.rds\n",
            "spark-3.0.3-bin-hadoop3.2/R/lib/SparkR/help/\n",
            "spark-3.0.3-bin-hadoop3.2/R/lib/SparkR/help/SparkR.rdb\n",
            "spark-3.0.3-bin-hadoop3.2/R/lib/SparkR/help/aliases.rds\n",
            "spark-3.0.3-bin-hadoop3.2/R/lib/SparkR/help/SparkR.rdx\n",
            "spark-3.0.3-bin-hadoop3.2/R/lib/SparkR/help/AnIndex\n",
            "spark-3.0.3-bin-hadoop3.2/R/lib/SparkR/help/paths.rds\n",
            "spark-3.0.3-bin-hadoop3.2/R/lib/SparkR/R/\n",
            "spark-3.0.3-bin-hadoop3.2/R/lib/SparkR/R/SparkR.rdb\n",
            "spark-3.0.3-bin-hadoop3.2/R/lib/SparkR/R/SparkR.rdx\n",
            "spark-3.0.3-bin-hadoop3.2/R/lib/SparkR/R/SparkR\n",
            "spark-3.0.3-bin-hadoop3.2/R/lib/SparkR/NAMESPACE\n",
            "spark-3.0.3-bin-hadoop3.2/R/lib/SparkR/doc/\n",
            "spark-3.0.3-bin-hadoop3.2/R/lib/SparkR/doc/sparkr-vignettes.Rmd\n",
            "spark-3.0.3-bin-hadoop3.2/R/lib/SparkR/doc/index.html\n",
            "spark-3.0.3-bin-hadoop3.2/R/lib/SparkR/doc/sparkr-vignettes.html\n",
            "spark-3.0.3-bin-hadoop3.2/R/lib/SparkR/doc/sparkr-vignettes.R\n",
            "spark-3.0.3-bin-hadoop3.2/R/lib/SparkR/html/\n",
            "spark-3.0.3-bin-hadoop3.2/R/lib/SparkR/html/00Index.html\n",
            "spark-3.0.3-bin-hadoop3.2/R/lib/SparkR/html/R.css\n",
            "spark-3.0.3-bin-hadoop3.2/R/lib/SparkR/worker/\n",
            "spark-3.0.3-bin-hadoop3.2/R/lib/SparkR/worker/worker.R\n",
            "spark-3.0.3-bin-hadoop3.2/R/lib/SparkR/worker/daemon.R\n",
            "spark-3.0.3-bin-hadoop3.2/README.md\n",
            "spark-3.0.3-bin-hadoop3.2/RELEASE\n",
            "spark-3.0.3-bin-hadoop3.2/yarn/\n",
            "spark-3.0.3-bin-hadoop3.2/yarn/spark-3.0.3-yarn-shuffle.jar\n",
            "spark-3.0.3-bin-hadoop3.2/LICENSE\n",
            "spark-3.0.3-bin-hadoop3.2/sbin/\n",
            "spark-3.0.3-bin-hadoop3.2/sbin/stop-mesos-shuffle-service.sh\n",
            "spark-3.0.3-bin-hadoop3.2/sbin/start-master.sh\n",
            "spark-3.0.3-bin-hadoop3.2/sbin/spark-config.sh\n",
            "spark-3.0.3-bin-hadoop3.2/sbin/start-history-server.sh\n",
            "spark-3.0.3-bin-hadoop3.2/sbin/start-slaves.sh\n",
            "spark-3.0.3-bin-hadoop3.2/sbin/spark-daemon.sh\n",
            "spark-3.0.3-bin-hadoop3.2/sbin/stop-mesos-dispatcher.sh\n",
            "spark-3.0.3-bin-hadoop3.2/sbin/start-mesos-shuffle-service.sh\n",
            "spark-3.0.3-bin-hadoop3.2/sbin/slaves.sh\n",
            "spark-3.0.3-bin-hadoop3.2/sbin/stop-history-server.sh\n",
            "spark-3.0.3-bin-hadoop3.2/sbin/start-thriftserver.sh\n",
            "spark-3.0.3-bin-hadoop3.2/sbin/stop-thriftserver.sh\n",
            "spark-3.0.3-bin-hadoop3.2/sbin/start-slave.sh\n",
            "spark-3.0.3-bin-hadoop3.2/sbin/start-all.sh\n",
            "spark-3.0.3-bin-hadoop3.2/sbin/stop-slave.sh\n",
            "spark-3.0.3-bin-hadoop3.2/sbin/spark-daemons.sh\n",
            "spark-3.0.3-bin-hadoop3.2/sbin/stop-slaves.sh\n",
            "spark-3.0.3-bin-hadoop3.2/sbin/stop-all.sh\n",
            "spark-3.0.3-bin-hadoop3.2/sbin/start-mesos-dispatcher.sh\n",
            "spark-3.0.3-bin-hadoop3.2/sbin/stop-master.sh\n",
            "spark-3.0.3-bin-hadoop3.2/examples/\n",
            "spark-3.0.3-bin-hadoop3.2/examples/src/\n",
            "spark-3.0.3-bin-hadoop3.2/examples/src/main/\n",
            "spark-3.0.3-bin-hadoop3.2/examples/src/main/r/\n",
            "spark-3.0.3-bin-hadoop3.2/examples/src/main/r/ml/\n",
            "spark-3.0.3-bin-hadoop3.2/examples/src/main/r/ml/survreg.R\n",
            "spark-3.0.3-bin-hadoop3.2/examples/src/main/r/ml/glm.R\n",
            "spark-3.0.3-bin-hadoop3.2/examples/src/main/r/ml/prefixSpan.R\n",
            "spark-3.0.3-bin-hadoop3.2/examples/src/main/r/ml/powerIterationClustering.R\n",
            "spark-3.0.3-bin-hadoop3.2/examples/src/main/r/ml/lda.R\n",
            "spark-3.0.3-bin-hadoop3.2/examples/src/main/r/ml/kstest.R\n",
            "spark-3.0.3-bin-hadoop3.2/examples/src/main/r/ml/isoreg.R\n",
            "spark-3.0.3-bin-hadoop3.2/examples/src/main/r/ml/ml.R\n",
            "spark-3.0.3-bin-hadoop3.2/examples/src/main/r/ml/naiveBayes.R\n",
            "spark-3.0.3-bin-hadoop3.2/examples/src/main/r/ml/mlp.R\n",
            "spark-3.0.3-bin-hadoop3.2/examples/src/main/r/ml/als.R\n",
            "spark-3.0.3-bin-hadoop3.2/examples/src/main/r/ml/kmeans.R\n",
            "spark-3.0.3-bin-hadoop3.2/examples/src/main/r/ml/svmLinear.R\n",
            "spark-3.0.3-bin-hadoop3.2/examples/src/main/r/ml/logit.R\n",
            "spark-3.0.3-bin-hadoop3.2/examples/src/main/r/ml/randomForest.R\n",
            "spark-3.0.3-bin-hadoop3.2/examples/src/main/r/ml/gbt.R\n",
            "spark-3.0.3-bin-hadoop3.2/examples/src/main/r/ml/decisionTree.R\n",
            "spark-3.0.3-bin-hadoop3.2/examples/src/main/r/ml/gaussianMixture.R\n",
            "spark-3.0.3-bin-hadoop3.2/examples/src/main/r/ml/bisectingKmeans.R\n",
            "spark-3.0.3-bin-hadoop3.2/examples/src/main/r/ml/fpm.R\n",
            "spark-3.0.3-bin-hadoop3.2/examples/src/main/r/dataframe.R\n",
            "spark-3.0.3-bin-hadoop3.2/examples/src/main/r/RSparkSQLExample.R\n",
            "spark-3.0.3-bin-hadoop3.2/examples/src/main/r/data-manipulation.R\n",
            "spark-3.0.3-bin-hadoop3.2/examples/src/main/r/streaming/\n",
            "spark-3.0.3-bin-hadoop3.2/examples/src/main/r/streaming/structured_network_wordcount.R\n",
            "spark-3.0.3-bin-hadoop3.2/examples/src/main/scala/\n",
            "spark-3.0.3-bin-hadoop3.2/examples/src/main/scala/org/\n",
            "spark-3.0.3-bin-hadoop3.2/examples/src/main/scala/org/apache/\n",
            "spark-3.0.3-bin-hadoop3.2/examples/src/main/scala/org/apache/spark/\n",
            "spark-3.0.3-bin-hadoop3.2/examples/src/main/scala/org/apache/spark/examples/\n",
            "spark-3.0.3-bin-hadoop3.2/examples/src/main/scala/org/apache/spark/examples/SparkPageRank.scala\n",
            "spark-3.0.3-bin-hadoop3.2/examples/src/main/scala/org/apache/spark/examples/SkewedGroupByTest.scala\n",
            "spark-3.0.3-bin-hadoop3.2/examples/src/main/scala/org/apache/spark/examples/AccumulatorMetricsTest.scala\n",
            "spark-3.0.3-bin-hadoop3.2/examples/src/main/scala/org/apache/spark/examples/HdfsTest.scala\n",
            "spark-3.0.3-bin-hadoop3.2/examples/src/main/scala/org/apache/spark/examples/ml/\n",
            "spark-3.0.3-bin-hadoop3.2/examples/src/main/scala/org/apache/spark/examples/ml/Word2VecExample.scala\n",
            "spark-3.0.3-bin-hadoop3.2/examples/src/main/scala/org/apache/spark/examples/ml/DeveloperApiExample.scala\n",
            "spark-3.0.3-bin-hadoop3.2/examples/src/main/scala/org/apache/spark/examples/ml/MinHashLSHExample.scala\n",
            "spark-3.0.3-bin-hadoop3.2/examples/src/main/scala/org/apache/spark/examples/ml/IndexToStringExample.scala\n",
            "spark-3.0.3-bin-hadoop3.2/examples/src/main/scala/org/apache/spark/examples/ml/BisectingKMeansExample.scala\n",
            "spark-3.0.3-bin-hadoop3.2/examples/src/main/scala/org/apache/spark/examples/ml/CorrelationExample.scala\n",
            "spark-3.0.3-bin-hadoop3.2/examples/src/main/scala/org/apache/spark/examples/ml/MulticlassLogisticRegressionWithElasticNetExample.scala\n",
            "spark-3.0.3-bin-hadoop3.2/examples/src/main/scala/org/apache/spark/examples/ml/VectorSizeHintExample.scala\n",
            "spark-3.0.3-bin-hadoop3.2/examples/src/main/scala/org/apache/spark/examples/ml/NGramExample.scala\n",
            "spark-3.0.3-bin-hadoop3.2/examples/src/main/scala/org/apache/spark/examples/ml/BucketedRandomProjectionLSHExample.scala\n",
            "spark-3.0.3-bin-hadoop3.2/examples/src/main/scala/org/apache/spark/examples/ml/BinarizerExample.scala\n",
            "spark-3.0.3-bin-hadoop3.2/examples/src/main/scala/org/apache/spark/examples/ml/RandomForestExample.scala\n",
            "spark-3.0.3-bin-hadoop3.2/examples/src/main/scala/org/apache/spark/examples/ml/StandardScalerExample.scala\n",
            "spark-3.0.3-bin-hadoop3.2/examples/src/main/scala/org/apache/spark/examples/ml/LogisticRegressionExample.scala\n",
            "spark-3.0.3-bin-hadoop3.2/examples/src/main/scala/org/apache/spark/examples/ml/FeatureHasherExample.scala\n",
            "spark-3.0.3-bin-hadoop3.2/examples/src/main/scala/org/apache/spark/examples/ml/OneVsRestExample.scala\n",
            "spark-3.0.3-bin-hadoop3.2/examples/src/main/scala/org/apache/spark/examples/ml/StopWordsRemoverExample.scala\n",
            "spark-3.0.3-bin-hadoop3.2/examples/src/main/scala/org/apache/spark/examples/ml/LinearSVCExample.scala\n",
            "spark-3.0.3-bin-hadoop3.2/examples/src/main/scala/org/apache/spark/examples/ml/GaussianMixtureExample.scala\n",
            "spark-3.0.3-bin-hadoop3.2/examples/src/main/scala/org/apache/spark/examples/ml/MaxAbsScalerExample.scala\n",
            "spark-3.0.3-bin-hadoop3.2/examples/src/main/scala/org/apache/spark/examples/ml/GBTExample.scala\n",
            "spark-3.0.3-bin-hadoop3.2/examples/src/main/scala/org/apache/spark/examples/ml/IsotonicRegressionExample.scala\n",
            "spark-3.0.3-bin-hadoop3.2/examples/src/main/scala/org/apache/spark/examples/ml/ModelSelectionViaCrossValidationExample.scala\n",
            "spark-3.0.3-bin-hadoop3.2/examples/src/main/scala/org/apache/spark/examples/ml/EstimatorTransformerParamExample.scala\n",
            "spark-3.0.3-bin-hadoop3.2/examples/src/main/scala/org/apache/spark/examples/ml/DecisionTreeRegressionExample.scala\n",
            "spark-3.0.3-bin-hadoop3.2/examples/src/main/scala/org/apache/spark/examples/ml/RandomForestRegressorExample.scala\n",
            "spark-3.0.3-bin-hadoop3.2/examples/src/main/scala/org/apache/spark/examples/ml/PrefixSpanExample.scala\n",
            "spark-3.0.3-bin-hadoop3.2/examples/src/main/scala/org/apache/spark/examples/ml/KMeansExample.scala\n",
            "spark-3.0.3-bin-hadoop3.2/examples/src/main/scala/org/apache/spark/examples/ml/ModelSelectionViaTrainValidationSplitExample.scala\n",
            "spark-3.0.3-bin-hadoop3.2/examples/src/main/scala/org/apache/spark/examples/ml/LogisticRegressionSummaryExample.scala\n",
            "spark-3.0.3-bin-hadoop3.2/examples/src/main/scala/org/apache/spark/examples/ml/MultilayerPerceptronClassifierExample.scala\n",
            "spark-3.0.3-bin-hadoop3.2/examples/src/main/scala/org/apache/spark/examples/ml/PCAExample.scala\n",
            "spark-3.0.3-bin-hadoop3.2/examples/src/main/scala/org/apache/spark/examples/ml/DCTExample.scala\n",
            "spark-3.0.3-bin-hadoop3.2/examples/src/main/scala/org/apache/spark/examples/ml/FPGrowthExample.scala\n",
            "spark-3.0.3-bin-hadoop3.2/examples/src/main/scala/org/apache/spark/examples/ml/ElementwiseProductExample.scala\n",
            "spark-3.0.3-bin-hadoop3.2/examples/src/main/scala/org/apache/spark/examples/ml/GeneralizedLinearRegressionExample.scala\n",
            "spark-3.0.3-bin-hadoop3.2/examples/src/main/scala/org/apache/spark/examples/ml/CountVectorizerExample.scala\n",
            "spark-3.0.3-bin-hadoop3.2/examples/src/main/scala/org/apache/spark/examples/ml/MinMaxScalerExample.scala\n",
            "spark-3.0.3-bin-hadoop3.2/examples/src/main/scala/org/apache/spark/examples/ml/ChiSquareTestExample.scala\n",
            "spark-3.0.3-bin-hadoop3.2/examples/src/main/scala/org/apache/spark/examples/ml/LogisticRegressionWithElasticNetExample.scala\n",
            "spark-3.0.3-bin-hadoop3.2/examples/src/main/scala/org/apache/spark/examples/ml/FMRegressorExample.scala\n",
            "spark-3.0.3-bin-hadoop3.2/examples/src/main/scala/org/apache/spark/examples/ml/VectorSlicerExample.scala\n",
            "spark-3.0.3-bin-hadoop3.2/examples/src/main/scala/org/apache/spark/examples/ml/LinearRegressionExample.scala\n",
            "spark-3.0.3-bin-hadoop3.2/examples/src/main/scala/org/apache/spark/examples/ml/StringIndexerExample.scala\n",
            "spark-3.0.3-bin-hadoop3.2/examples/src/main/scala/org/apache/spark/examples/ml/GradientBoostedTreeRegressorExample.scala\n",
            "spark-3.0.3-bin-hadoop3.2/examples/src/main/scala/org/apache/spark/examples/ml/ALSExample.scala\n",
            "spark-3.0.3-bin-hadoop3.2/examples/src/main/scala/org/apache/spark/examples/ml/DecisionTreeClassificationExample.scala\n",
            "spark-3.0.3-bin-hadoop3.2/examples/src/main/scala/org/apache/spark/examples/ml/PolynomialExpansionExample.scala\n",
            "spark-3.0.3-bin-hadoop3.2/examples/src/main/scala/org/apache/spark/examples/ml/FMClassifierExample.scala\n",
            "spark-3.0.3-bin-hadoop3.2/examples/src/main/scala/org/apache/spark/examples/ml/UnaryTransformerExample.scala\n",
            "spark-3.0.3-bin-hadoop3.2/examples/src/main/scala/org/apache/spark/examples/ml/ImputerExample.scala\n",
            "spark-3.0.3-bin-hadoop3.2/examples/src/main/scala/org/apache/spark/examples/ml/TokenizerExample.scala\n",
            "spark-3.0.3-bin-hadoop3.2/examples/src/main/scala/org/apache/spark/examples/ml/DecisionTreeExample.scala\n",
            "spark-3.0.3-bin-hadoop3.2/examples/src/main/scala/org/apache/spark/examples/ml/GradientBoostedTreeClassifierExample.scala\n",
            "spark-3.0.3-bin-hadoop3.2/examples/src/main/scala/org/apache/spark/examples/ml/PowerIterationClusteringExample.scala\n",
            "spark-3.0.3-bin-hadoop3.2/examples/src/main/scala/org/apache/spark/examples/ml/SQLTransformerExample.scala\n",
            "spark-3.0.3-bin-hadoop3.2/examples/src/main/scala/org/apache/spark/examples/ml/SummarizerExample.scala\n",
            "spark-3.0.3-bin-hadoop3.2/examples/src/main/scala/org/apache/spark/examples/ml/DataFrameExample.scala\n",
            "spark-3.0.3-bin-hadoop3.2/examples/src/main/scala/org/apache/spark/examples/ml/BucketizerExample.scala\n",
            "spark-3.0.3-bin-hadoop3.2/examples/src/main/scala/org/apache/spark/examples/ml/TfIdfExample.scala\n",
            "spark-3.0.3-bin-hadoop3.2/examples/src/main/scala/org/apache/spark/examples/ml/AFTSurvivalRegressionExample.scala\n",
            "spark-3.0.3-bin-hadoop3.2/examples/src/main/scala/org/apache/spark/examples/ml/QuantileDiscretizerExample.scala\n",
            "spark-3.0.3-bin-hadoop3.2/examples/src/main/scala/org/apache/spark/examples/ml/OneHotEncoderExample.scala\n",
            "spark-3.0.3-bin-hadoop3.2/examples/src/main/scala/org/apache/spark/examples/ml/PipelineExample.scala\n",
            "spark-3.0.3-bin-hadoop3.2/examples/src/main/scala/org/apache/spark/examples/ml/InteractionExample.scala\n",
            "spark-3.0.3-bin-hadoop3.2/examples/src/main/scala/org/apache/spark/examples/ml/LDAExample.scala\n",
            "spark-3.0.3-bin-hadoop3.2/examples/src/main/scala/org/apache/spark/examples/ml/RFormulaExample.scala\n",
            "spark-3.0.3-bin-hadoop3.2/examples/src/main/scala/org/apache/spark/examples/ml/VectorIndexerExample.scala\n",
            "spark-3.0.3-bin-hadoop3.2/examples/src/main/scala/org/apache/spark/examples/ml/VectorAssemblerExample.scala\n",
            "spark-3.0.3-bin-hadoop3.2/examples/src/main/scala/org/apache/spark/examples/ml/NormalizerExample.scala\n",
            "spark-3.0.3-bin-hadoop3.2/examples/src/main/scala/org/apache/spark/examples/ml/ChiSqSelectorExample.scala\n",
            "spark-3.0.3-bin-hadoop3.2/examples/src/main/scala/org/apache/spark/examples/ml/NaiveBayesExample.scala\n",
            "spark-3.0.3-bin-hadoop3.2/examples/src/main/scala/org/apache/spark/examples/ml/RandomForestClassifierExample.scala\n",
            "spark-3.0.3-bin-hadoop3.2/examples/src/main/scala/org/apache/spark/examples/ml/LinearRegressionWithElasticNetExample.scala\n",
            "spark-3.0.3-bin-hadoop3.2/examples/src/main/scala/org/apache/spark/examples/ml/RobustScalerExample.scala\n",
            "spark-3.0.3-bin-hadoop3.2/examples/src/main/scala/org/apache/spark/examples/LogQuery.scala\n",
            "spark-3.0.3-bin-hadoop3.2/examples/src/main/scala/org/apache/spark/examples/SparkRemoteFileTest.scala\n",
            "spark-3.0.3-bin-hadoop3.2/examples/src/main/scala/org/apache/spark/examples/ExceptionHandlingTest.scala\n",
            "spark-3.0.3-bin-hadoop3.2/examples/src/main/scala/org/apache/spark/examples/pythonconverters/\n",
            "spark-3.0.3-bin-hadoop3.2/examples/src/main/scala/org/apache/spark/examples/pythonconverters/AvroConverters.scala\n",
            "spark-3.0.3-bin-hadoop3.2/examples/src/main/scala/org/apache/spark/examples/BroadcastTest.scala\n",
            "spark-3.0.3-bin-hadoop3.2/examples/src/main/scala/org/apache/spark/examples/SparkHdfsLR.scala\n",
            "spark-3.0.3-bin-hadoop3.2/examples/src/main/scala/org/apache/spark/examples/mllib/\n",
            "spark-3.0.3-bin-hadoop3.2/examples/src/main/scala/org/apache/spark/examples/mllib/Word2VecExample.scala\n",
            "spark-3.0.3-bin-hadoop3.2/examples/src/main/scala/org/apache/spark/examples/mllib/GradientBoostedTreesRunner.scala\n",
            "spark-3.0.3-bin-hadoop3.2/examples/src/main/scala/org/apache/spark/examples/mllib/RandomRDDGeneration.scala\n",
            "spark-3.0.3-bin-hadoop3.2/examples/src/main/scala/org/apache/spark/examples/mllib/PMMLModelExportExample.scala\n",
            "spark-3.0.3-bin-hadoop3.2/examples/src/main/scala/org/apache/spark/examples/mllib/BisectingKMeansExample.scala\n",
            "spark-3.0.3-bin-hadoop3.2/examples/src/main/scala/org/apache/spark/examples/mllib/DecisionTreeRunner.scala\n",
            "spark-3.0.3-bin-hadoop3.2/examples/src/main/scala/org/apache/spark/examples/mllib/MultiLabelMetricsExample.scala\n",
            "spark-3.0.3-bin-hadoop3.2/examples/src/main/scala/org/apache/spark/examples/mllib/CorrelationsExample.scala\n",
            "spark-3.0.3-bin-hadoop3.2/examples/src/main/scala/org/apache/spark/examples/mllib/LBFGSExample.scala\n",
            "spark-3.0.3-bin-hadoop3.2/examples/src/main/scala/org/apache/spark/examples/mllib/TFIDFExample.scala\n",
            "spark-3.0.3-bin-hadoop3.2/examples/src/main/scala/org/apache/spark/examples/mllib/StandardScalerExample.scala\n",
            "spark-3.0.3-bin-hadoop3.2/examples/src/main/scala/org/apache/spark/examples/mllib/LogisticRegressionWithLBFGSExample.scala\n",
            "spark-3.0.3-bin-hadoop3.2/examples/src/main/scala/org/apache/spark/examples/mllib/StreamingTestExample.scala\n",
            "spark-3.0.3-bin-hadoop3.2/examples/src/main/scala/org/apache/spark/examples/mllib/BinaryClassification.scala\n",
            "spark-3.0.3-bin-hadoop3.2/examples/src/main/scala/org/apache/spark/examples/mllib/DenseKMeans.scala\n",
            "spark-3.0.3-bin-hadoop3.2/examples/src/main/scala/org/apache/spark/examples/mllib/GradientBoostingClassificationExample.scala\n",
            "spark-3.0.3-bin-hadoop3.2/examples/src/main/scala/org/apache/spark/examples/mllib/RankingMetricsExample.scala\n",
            "spark-3.0.3-bin-hadoop3.2/examples/src/main/scala/org/apache/spark/examples/mllib/GaussianMixtureExample.scala\n",
            "spark-3.0.3-bin-hadoop3.2/examples/src/main/scala/org/apache/spark/examples/mllib/MultivariateSummarizer.scala\n",
            "spark-3.0.3-bin-hadoop3.2/examples/src/main/scala/org/apache/spark/examples/mllib/IsotonicRegressionExample.scala\n",
            "spark-3.0.3-bin-hadoop3.2/examples/src/main/scala/org/apache/spark/examples/mllib/PCAOnSourceVectorExample.scala\n",
            "spark-3.0.3-bin-hadoop3.2/examples/src/main/scala/org/apache/spark/examples/mllib/Correlations.scala\n",
            "spark-3.0.3-bin-hadoop3.2/examples/src/main/scala/org/apache/spark/examples/mllib/HypothesisTestingExample.scala\n",
            "spark-3.0.3-bin-hadoop3.2/examples/src/main/scala/org/apache/spark/examples/mllib/DecisionTreeRegressionExample.scala\n",
            "spark-3.0.3-bin-hadoop3.2/examples/src/main/scala/org/apache/spark/examples/mllib/AssociationRulesExample.scala\n",
            "spark-3.0.3-bin-hadoop3.2/examples/src/main/scala/org/apache/spark/examples/mllib/StreamingLogisticRegression.scala\n",
            "spark-3.0.3-bin-hadoop3.2/examples/src/main/scala/org/apache/spark/examples/mllib/SVDExample.scala\n",
            "spark-3.0.3-bin-hadoop3.2/examples/src/main/scala/org/apache/spark/examples/mllib/PrefixSpanExample.scala\n",
            "spark-3.0.3-bin-hadoop3.2/examples/src/main/scala/org/apache/spark/examples/mllib/KMeansExample.scala\n",
            "spark-3.0.3-bin-hadoop3.2/examples/src/main/scala/org/apache/spark/examples/mllib/SparseNaiveBayes.scala\n",
            "spark-3.0.3-bin-hadoop3.2/examples/src/main/scala/org/apache/spark/examples/mllib/AbstractParams.scala\n",
            "spark-3.0.3-bin-hadoop3.2/examples/src/main/scala/org/apache/spark/examples/mllib/BinaryClassificationMetricsExample.scala\n",
            "spark-3.0.3-bin-hadoop3.2/examples/src/main/scala/org/apache/spark/examples/mllib/SampledRDDs.scala\n",
            "spark-3.0.3-bin-hadoop3.2/examples/src/main/scala/org/apache/spark/examples/mllib/FPGrowthExample.scala\n",
            "spark-3.0.3-bin-hadoop3.2/examples/src/main/scala/org/apache/spark/examples/mllib/ElementwiseProductExample.scala\n",
            "spark-3.0.3-bin-hadoop3.2/examples/src/main/scala/org/apache/spark/examples/mllib/RecommendationExample.scala\n",
            "spark-3.0.3-bin-hadoop3.2/examples/src/main/scala/org/apache/spark/examples/mllib/TallSkinnySVD.scala\n",
            "spark-3.0.3-bin-hadoop3.2/examples/src/main/scala/org/apache/spark/examples/mllib/HypothesisTestingKolmogorovSmirnovTestExample.scala\n",
            "spark-3.0.3-bin-hadoop3.2/examples/src/main/scala/org/apache/spark/examples/mllib/GradientBoostingRegressionExample.scala\n",
            "spark-3.0.3-bin-hadoop3.2/examples/src/main/scala/org/apache/spark/examples/mllib/StreamingKMeansExample.scala\n",
            "spark-3.0.3-bin-hadoop3.2/examples/src/main/scala/org/apache/spark/examples/mllib/CosineSimilarity.scala\n",
            "spark-3.0.3-bin-hadoop3.2/examples/src/main/scala/org/apache/spark/examples/mllib/RandomForestRegressionExample.scala\n",
            "spark-3.0.3-bin-hadoop3.2/examples/src/main/scala/org/apache/spark/examples/mllib/StreamingLinearRegressionExample.scala\n",
            "spark-3.0.3-bin-hadoop3.2/examples/src/main/scala/org/apache/spark/examples/mllib/StratifiedSamplingExample.scala\n",
            "spark-3.0.3-bin-hadoop3.2/examples/src/main/scala/org/apache/spark/examples/mllib/DecisionTreeClassificationExample.scala\n",
            "spark-3.0.3-bin-hadoop3.2/examples/src/main/scala/org/apache/spark/examples/mllib/TallSkinnyPCA.scala\n",
            "spark-3.0.3-bin-hadoop3.2/examples/src/main/scala/org/apache/spark/examples/mllib/RandomForestClassificationExample.scala\n",
            "spark-3.0.3-bin-hadoop3.2/examples/src/main/scala/org/apache/spark/examples/mllib/SimpleFPGrowth.scala\n",
            "spark-3.0.3-bin-hadoop3.2/examples/src/main/scala/org/apache/spark/examples/mllib/LatentDirichletAllocationExample.scala\n",
            "spark-3.0.3-bin-hadoop3.2/examples/src/main/scala/org/apache/spark/examples/mllib/KernelDensityEstimationExample.scala\n",
            "spark-3.0.3-bin-hadoop3.2/examples/src/main/scala/org/apache/spark/examples/mllib/PowerIterationClusteringExample.scala\n",
            "spark-3.0.3-bin-hadoop3.2/examples/src/main/scala/org/apache/spark/examples/mllib/SVMWithSGDExample.scala\n",
            "spark-3.0.3-bin-hadoop3.2/examples/src/main/scala/org/apache/spark/examples/mllib/LDAExample.scala\n",
            "spark-3.0.3-bin-hadoop3.2/examples/src/main/scala/org/apache/spark/examples/mllib/MovieLensALS.scala\n",
            "spark-3.0.3-bin-hadoop3.2/examples/src/main/scala/org/apache/spark/examples/mllib/NormalizerExample.scala\n",
            "spark-3.0.3-bin-hadoop3.2/examples/src/main/scala/org/apache/spark/examples/mllib/MulticlassMetricsExample.scala\n",
            "spark-3.0.3-bin-hadoop3.2/examples/src/main/scala/org/apache/spark/examples/mllib/ChiSqSelectorExample.scala\n",
            "spark-3.0.3-bin-hadoop3.2/examples/src/main/scala/org/apache/spark/examples/mllib/SummaryStatisticsExample.scala\n",
            "spark-3.0.3-bin-hadoop3.2/examples/src/main/scala/org/apache/spark/examples/mllib/PCAOnRowMatrixExample.scala\n",
            "spark-3.0.3-bin-hadoop3.2/examples/src/main/scala/org/apache/spark/examples/mllib/NaiveBayesExample.scala\n",
            "spark-3.0.3-bin-hadoop3.2/examples/src/main/scala/org/apache/spark/examples/SparkTC.scala\n",
            "spark-3.0.3-bin-hadoop3.2/examples/src/main/scala/org/apache/spark/examples/DriverSubmissionTest.scala\n",
            "spark-3.0.3-bin-hadoop3.2/examples/src/main/scala/org/apache/spark/examples/MultiBroadcastTest.scala\n",
            "spark-3.0.3-bin-hadoop3.2/examples/src/main/scala/org/apache/spark/examples/SparkLR.scala\n",
            "spark-3.0.3-bin-hadoop3.2/examples/src/main/scala/org/apache/spark/examples/SparkPi.scala\n",
            "spark-3.0.3-bin-hadoop3.2/examples/src/main/scala/org/apache/spark/examples/graphx/\n",
            "spark-3.0.3-bin-hadoop3.2/examples/src/main/scala/org/apache/spark/examples/graphx/ConnectedComponentsExample.scala\n",
            "spark-3.0.3-bin-hadoop3.2/examples/src/main/scala/org/apache/spark/examples/graphx/LiveJournalPageRank.scala\n",
            "spark-3.0.3-bin-hadoop3.2/examples/src/main/scala/org/apache/spark/examples/graphx/AggregateMessagesExample.scala\n",
            "spark-3.0.3-bin-hadoop3.2/examples/src/main/scala/org/apache/spark/examples/graphx/SSSPExample.scala\n",
            "spark-3.0.3-bin-hadoop3.2/examples/src/main/scala/org/apache/spark/examples/graphx/SynthBenchmark.scala\n",
            "spark-3.0.3-bin-hadoop3.2/examples/src/main/scala/org/apache/spark/examples/graphx/TriangleCountingExample.scala\n",
            "spark-3.0.3-bin-hadoop3.2/examples/src/main/scala/org/apache/spark/examples/graphx/PageRankExample.scala\n",
            "spark-3.0.3-bin-hadoop3.2/examples/src/main/scala/org/apache/spark/examples/graphx/ComprehensiveExample.scala\n",
            "spark-3.0.3-bin-hadoop3.2/examples/src/main/scala/org/apache/spark/examples/graphx/Analytics.scala\n",
            "spark-3.0.3-bin-hadoop3.2/examples/src/main/scala/org/apache/spark/examples/SparkKMeans.scala\n",
            "spark-3.0.3-bin-hadoop3.2/examples/src/main/scala/org/apache/spark/examples/streaming/\n",
            "spark-3.0.3-bin-hadoop3.2/examples/src/main/scala/org/apache/spark/examples/streaming/clickstream/\n",
            "spark-3.0.3-bin-hadoop3.2/examples/src/main/scala/org/apache/spark/examples/streaming/clickstream/PageViewGenerator.scala\n",
            "spark-3.0.3-bin-hadoop3.2/examples/src/main/scala/org/apache/spark/examples/streaming/clickstream/PageViewStream.scala\n",
            "spark-3.0.3-bin-hadoop3.2/examples/src/main/scala/org/apache/spark/examples/streaming/DirectKafkaWordCount.scala\n",
            "spark-3.0.3-bin-hadoop3.2/examples/src/main/scala/org/apache/spark/examples/streaming/HdfsWordCount.scala\n",
            "spark-3.0.3-bin-hadoop3.2/examples/src/main/scala/org/apache/spark/examples/streaming/DirectKerberizedKafkaWordCount.scala\n",
            "spark-3.0.3-bin-hadoop3.2/examples/src/main/scala/org/apache/spark/examples/streaming/RecoverableNetworkWordCount.scala\n",
            "spark-3.0.3-bin-hadoop3.2/examples/src/main/scala/org/apache/spark/examples/streaming/NetworkWordCount.scala\n",
            "spark-3.0.3-bin-hadoop3.2/examples/src/main/scala/org/apache/spark/examples/streaming/QueueStream.scala\n",
            "spark-3.0.3-bin-hadoop3.2/examples/src/main/scala/org/apache/spark/examples/streaming/SqlNetworkWordCount.scala\n",
            "spark-3.0.3-bin-hadoop3.2/examples/src/main/scala/org/apache/spark/examples/streaming/CustomReceiver.scala\n",
            "spark-3.0.3-bin-hadoop3.2/examples/src/main/scala/org/apache/spark/examples/streaming/RawNetworkGrep.scala\n",
            "spark-3.0.3-bin-hadoop3.2/examples/src/main/scala/org/apache/spark/examples/streaming/StatefulNetworkWordCount.scala\n",
            "spark-3.0.3-bin-hadoop3.2/examples/src/main/scala/org/apache/spark/examples/streaming/StreamingExamples.scala\n",
            "spark-3.0.3-bin-hadoop3.2/examples/src/main/scala/org/apache/spark/examples/LocalLR.scala\n",
            "spark-3.0.3-bin-hadoop3.2/examples/src/main/scala/org/apache/spark/examples/LocalKMeans.scala\n",
            "spark-3.0.3-bin-hadoop3.2/examples/src/main/scala/org/apache/spark/examples/GroupByTest.scala\n",
            "spark-3.0.3-bin-hadoop3.2/examples/src/main/scala/org/apache/spark/examples/LocalALS.scala\n",
            "spark-3.0.3-bin-hadoop3.2/examples/src/main/scala/org/apache/spark/examples/sql/\n",
            "spark-3.0.3-bin-hadoop3.2/examples/src/main/scala/org/apache/spark/examples/sql/SimpleTypedAggregator.scala\n",
            "spark-3.0.3-bin-hadoop3.2/examples/src/main/scala/org/apache/spark/examples/sql/UserDefinedUntypedAggregation.scala\n",
            "spark-3.0.3-bin-hadoop3.2/examples/src/main/scala/org/apache/spark/examples/sql/hive/\n",
            "spark-3.0.3-bin-hadoop3.2/examples/src/main/scala/org/apache/spark/examples/sql/hive/SparkHiveExample.scala\n",
            "spark-3.0.3-bin-hadoop3.2/examples/src/main/scala/org/apache/spark/examples/sql/RDDRelation.scala\n",
            "spark-3.0.3-bin-hadoop3.2/examples/src/main/scala/org/apache/spark/examples/sql/SparkSQLExample.scala\n",
            "spark-3.0.3-bin-hadoop3.2/examples/src/main/scala/org/apache/spark/examples/sql/SQLDataSourceExample.scala\n",
            "spark-3.0.3-bin-hadoop3.2/examples/src/main/scala/org/apache/spark/examples/sql/streaming/\n",
            "spark-3.0.3-bin-hadoop3.2/examples/src/main/scala/org/apache/spark/examples/sql/streaming/StructuredKerberizedKafkaWordCount.scala\n",
            "spark-3.0.3-bin-hadoop3.2/examples/src/main/scala/org/apache/spark/examples/sql/streaming/StructuredNetworkWordCount.scala\n",
            "spark-3.0.3-bin-hadoop3.2/examples/src/main/scala/org/apache/spark/examples/sql/streaming/StructuredNetworkWordCountWindowed.scala\n",
            "spark-3.0.3-bin-hadoop3.2/examples/src/main/scala/org/apache/spark/examples/sql/streaming/StructuredKafkaWordCount.scala\n",
            "spark-3.0.3-bin-hadoop3.2/examples/src/main/scala/org/apache/spark/examples/sql/streaming/StructuredSessionization.scala\n",
            "spark-3.0.3-bin-hadoop3.2/examples/src/main/scala/org/apache/spark/examples/sql/UserDefinedTypedAggregation.scala\n",
            "spark-3.0.3-bin-hadoop3.2/examples/src/main/scala/org/apache/spark/examples/sql/UserDefinedScalar.scala\n",
            "spark-3.0.3-bin-hadoop3.2/examples/src/main/scala/org/apache/spark/examples/SimpleSkewedGroupByTest.scala\n",
            "spark-3.0.3-bin-hadoop3.2/examples/src/main/scala/org/apache/spark/examples/LocalFileLR.scala\n",
            "spark-3.0.3-bin-hadoop3.2/examples/src/main/scala/org/apache/spark/examples/LocalPi.scala\n",
            "spark-3.0.3-bin-hadoop3.2/examples/src/main/scala/org/apache/spark/examples/DFSReadWriteTest.scala\n",
            "spark-3.0.3-bin-hadoop3.2/examples/src/main/scala/org/apache/spark/examples/SparkALS.scala\n",
            "spark-3.0.3-bin-hadoop3.2/examples/src/main/resources/\n",
            "spark-3.0.3-bin-hadoop3.2/examples/src/main/resources/people.json\n",
            "spark-3.0.3-bin-hadoop3.2/examples/src/main/resources/users.avro\n",
            "spark-3.0.3-bin-hadoop3.2/examples/src/main/resources/people.csv\n",
            "spark-3.0.3-bin-hadoop3.2/examples/src/main/resources/users.parquet\n",
            "spark-3.0.3-bin-hadoop3.2/examples/src/main/resources/users.orc\n",
            "spark-3.0.3-bin-hadoop3.2/examples/src/main/resources/dir1/\n",
            "spark-3.0.3-bin-hadoop3.2/examples/src/main/resources/dir1/file1.parquet\n",
            "spark-3.0.3-bin-hadoop3.2/examples/src/main/resources/dir1/dir2/\n",
            "spark-3.0.3-bin-hadoop3.2/examples/src/main/resources/dir1/dir2/file2.parquet\n",
            "spark-3.0.3-bin-hadoop3.2/examples/src/main/resources/dir1/file3.json\n",
            "spark-3.0.3-bin-hadoop3.2/examples/src/main/resources/user.avsc\n",
            "spark-3.0.3-bin-hadoop3.2/examples/src/main/resources/full_user.avsc\n",
            "spark-3.0.3-bin-hadoop3.2/examples/src/main/resources/kv1.txt\n",
            "spark-3.0.3-bin-hadoop3.2/examples/src/main/resources/people.txt\n",
            "spark-3.0.3-bin-hadoop3.2/examples/src/main/resources/employees.json\n",
            "spark-3.0.3-bin-hadoop3.2/examples/src/main/java/\n",
            "spark-3.0.3-bin-hadoop3.2/examples/src/main/java/org/\n",
            "spark-3.0.3-bin-hadoop3.2/examples/src/main/java/org/apache/\n",
            "spark-3.0.3-bin-hadoop3.2/examples/src/main/java/org/apache/spark/\n",
            "spark-3.0.3-bin-hadoop3.2/examples/src/main/java/org/apache/spark/examples/\n",
            "spark-3.0.3-bin-hadoop3.2/examples/src/main/java/org/apache/spark/examples/ml/\n",
            "spark-3.0.3-bin-hadoop3.2/examples/src/main/java/org/apache/spark/examples/ml/JavaStringIndexerExample.java\n",
            "spark-3.0.3-bin-hadoop3.2/examples/src/main/java/org/apache/spark/examples/ml/JavaChiSqSelectorExample.java\n",
            "spark-3.0.3-bin-hadoop3.2/examples/src/main/java/org/apache/spark/examples/ml/JavaLabeledDocument.java\n",
            "spark-3.0.3-bin-hadoop3.2/examples/src/main/java/org/apache/spark/examples/ml/JavaLogisticRegressionWithElasticNetExample.java\n",
            "spark-3.0.3-bin-hadoop3.2/examples/src/main/java/org/apache/spark/examples/ml/JavaPolynomialExpansionExample.java\n",
            "spark-3.0.3-bin-hadoop3.2/examples/src/main/java/org/apache/spark/examples/ml/JavaTfIdfExample.java\n",
            "spark-3.0.3-bin-hadoop3.2/examples/src/main/java/org/apache/spark/examples/ml/JavaBucketizerExample.java\n",
            "spark-3.0.3-bin-hadoop3.2/examples/src/main/java/org/apache/spark/examples/ml/JavaLogisticRegressionSummaryExample.java\n",
            "spark-3.0.3-bin-hadoop3.2/examples/src/main/java/org/apache/spark/examples/ml/JavaSummarizerExample.java\n",
            "spark-3.0.3-bin-hadoop3.2/examples/src/main/java/org/apache/spark/examples/ml/JavaQuantileDiscretizerExample.java\n",
            "spark-3.0.3-bin-hadoop3.2/examples/src/main/java/org/apache/spark/examples/ml/JavaBinarizerExample.java\n",
            "spark-3.0.3-bin-hadoop3.2/examples/src/main/java/org/apache/spark/examples/ml/JavaOneHotEncoderExample.java\n",
            "spark-3.0.3-bin-hadoop3.2/examples/src/main/java/org/apache/spark/examples/ml/JavaStandardScalerExample.java\n",
            "spark-3.0.3-bin-hadoop3.2/examples/src/main/java/org/apache/spark/examples/ml/JavaDCTExample.java\n",
            "spark-3.0.3-bin-hadoop3.2/examples/src/main/java/org/apache/spark/examples/ml/JavaDecisionTreeRegressionExample.java\n",
            "spark-3.0.3-bin-hadoop3.2/examples/src/main/java/org/apache/spark/examples/ml/JavaRandomForestClassifierExample.java\n",
            "spark-3.0.3-bin-hadoop3.2/examples/src/main/java/org/apache/spark/examples/ml/JavaOneVsRestExample.java\n",
            "spark-3.0.3-bin-hadoop3.2/examples/src/main/java/org/apache/spark/examples/ml/JavaGeneralizedLinearRegressionExample.java\n",
            "spark-3.0.3-bin-hadoop3.2/examples/src/main/java/org/apache/spark/examples/ml/JavaGaussianMixtureExample.java\n",
            "spark-3.0.3-bin-hadoop3.2/examples/src/main/java/org/apache/spark/examples/ml/JavaWord2VecExample.java\n",
            "spark-3.0.3-bin-hadoop3.2/examples/src/main/java/org/apache/spark/examples/ml/JavaNormalizerExample.java\n",
            "spark-3.0.3-bin-hadoop3.2/examples/src/main/java/org/apache/spark/examples/ml/JavaLDAExample.java\n",
            "spark-3.0.3-bin-hadoop3.2/examples/src/main/java/org/apache/spark/examples/ml/JavaCountVectorizerExample.java\n",
            "spark-3.0.3-bin-hadoop3.2/examples/src/main/java/org/apache/spark/examples/ml/JavaMultilayerPerceptronClassifierExample.java\n",
            "spark-3.0.3-bin-hadoop3.2/examples/src/main/java/org/apache/spark/examples/ml/JavaMinMaxScalerExample.java\n",
            "spark-3.0.3-bin-hadoop3.2/examples/src/main/java/org/apache/spark/examples/ml/JavaCorrelationExample.java\n",
            "spark-3.0.3-bin-hadoop3.2/examples/src/main/java/org/apache/spark/examples/ml/JavaNGramExample.java\n",
            "spark-3.0.3-bin-hadoop3.2/examples/src/main/java/org/apache/spark/examples/ml/JavaImputerExample.java\n",
            "spark-3.0.3-bin-hadoop3.2/examples/src/main/java/org/apache/spark/examples/ml/JavaMinHashLSHExample.java\n",
            "spark-3.0.3-bin-hadoop3.2/examples/src/main/java/org/apache/spark/examples/ml/JavaVectorSizeHintExample.java\n",
            "spark-3.0.3-bin-hadoop3.2/examples/src/main/java/org/apache/spark/examples/ml/JavaFMClassifierExample.java\n",
            "spark-3.0.3-bin-hadoop3.2/examples/src/main/java/org/apache/spark/examples/ml/JavaFeatureHasherExample.java\n",
            "spark-3.0.3-bin-hadoop3.2/examples/src/main/java/org/apache/spark/examples/ml/JavaModelSelectionViaTrainValidationSplitExample.java\n",
            "spark-3.0.3-bin-hadoop3.2/examples/src/main/java/org/apache/spark/examples/ml/JavaSQLTransformerExample.java\n",
            "spark-3.0.3-bin-hadoop3.2/examples/src/main/java/org/apache/spark/examples/ml/JavaKMeansExample.java\n",
            "spark-3.0.3-bin-hadoop3.2/examples/src/main/java/org/apache/spark/examples/ml/JavaVectorAssemblerExample.java\n",
            "spark-3.0.3-bin-hadoop3.2/examples/src/main/java/org/apache/spark/examples/ml/JavaGradientBoostedTreeRegressorExample.java\n",
            "spark-3.0.3-bin-hadoop3.2/examples/src/main/java/org/apache/spark/examples/ml/JavaPrefixSpanExample.java\n",
            "spark-3.0.3-bin-hadoop3.2/examples/src/main/java/org/apache/spark/examples/ml/JavaFMRegressorExample.java\n",
            "spark-3.0.3-bin-hadoop3.2/examples/src/main/java/org/apache/spark/examples/ml/JavaNaiveBayesExample.java\n",
            "spark-3.0.3-bin-hadoop3.2/examples/src/main/java/org/apache/spark/examples/ml/JavaMulticlassLogisticRegressionWithElasticNetExample.java\n",
            "spark-3.0.3-bin-hadoop3.2/examples/src/main/java/org/apache/spark/examples/ml/JavaModelSelectionViaCrossValidationExample.java\n",
            "spark-3.0.3-bin-hadoop3.2/examples/src/main/java/org/apache/spark/examples/ml/JavaDocument.java\n",
            "spark-3.0.3-bin-hadoop3.2/examples/src/main/java/org/apache/spark/examples/ml/JavaGradientBoostedTreeClassifierExample.java\n",
            "spark-3.0.3-bin-hadoop3.2/examples/src/main/java/org/apache/spark/examples/ml/JavaRandomForestRegressorExample.java\n",
            "spark-3.0.3-bin-hadoop3.2/examples/src/main/java/org/apache/spark/examples/ml/JavaAFTSurvivalRegressionExample.java\n",
            "spark-3.0.3-bin-hadoop3.2/examples/src/main/java/org/apache/spark/examples/ml/JavaIsotonicRegressionExample.java\n",
            "spark-3.0.3-bin-hadoop3.2/examples/src/main/java/org/apache/spark/examples/ml/JavaElementwiseProductExample.java\n",
            "spark-3.0.3-bin-hadoop3.2/examples/src/main/java/org/apache/spark/examples/ml/JavaALSExample.java\n",
            "spark-3.0.3-bin-hadoop3.2/examples/src/main/java/org/apache/spark/examples/ml/JavaBucketedRandomProjectionLSHExample.java\n",
            "spark-3.0.3-bin-hadoop3.2/examples/src/main/java/org/apache/spark/examples/ml/JavaVectorSlicerExample.java\n",
            "spark-3.0.3-bin-hadoop3.2/examples/src/main/java/org/apache/spark/examples/ml/JavaTokenizerExample.java\n",
            "spark-3.0.3-bin-hadoop3.2/examples/src/main/java/org/apache/spark/examples/ml/JavaRFormulaExample.java\n",
            "spark-3.0.3-bin-hadoop3.2/examples/src/main/java/org/apache/spark/examples/ml/JavaEstimatorTransformerParamExample.java\n",
            "spark-3.0.3-bin-hadoop3.2/examples/src/main/java/org/apache/spark/examples/ml/JavaPowerIterationClusteringExample.java\n",
            "spark-3.0.3-bin-hadoop3.2/examples/src/main/java/org/apache/spark/examples/ml/JavaBisectingKMeansExample.java\n",
            "spark-3.0.3-bin-hadoop3.2/examples/src/main/java/org/apache/spark/examples/ml/JavaMaxAbsScalerExample.java\n",
            "spark-3.0.3-bin-hadoop3.2/examples/src/main/java/org/apache/spark/examples/ml/JavaDecisionTreeClassificationExample.java\n",
            "spark-3.0.3-bin-hadoop3.2/examples/src/main/java/org/apache/spark/examples/ml/JavaPCAExample.java\n",
            "spark-3.0.3-bin-hadoop3.2/examples/src/main/java/org/apache/spark/examples/ml/JavaPipelineExample.java\n",
            "spark-3.0.3-bin-hadoop3.2/examples/src/main/java/org/apache/spark/examples/ml/JavaStopWordsRemoverExample.java\n",
            "spark-3.0.3-bin-hadoop3.2/examples/src/main/java/org/apache/spark/examples/ml/JavaIndexToStringExample.java\n",
            "spark-3.0.3-bin-hadoop3.2/examples/src/main/java/org/apache/spark/examples/ml/JavaFPGrowthExample.java\n",
            "spark-3.0.3-bin-hadoop3.2/examples/src/main/java/org/apache/spark/examples/ml/JavaVectorIndexerExample.java\n",
            "spark-3.0.3-bin-hadoop3.2/examples/src/main/java/org/apache/spark/examples/ml/JavaInteractionExample.java\n",
            "spark-3.0.3-bin-hadoop3.2/examples/src/main/java/org/apache/spark/examples/ml/JavaChiSquareTestExample.java\n",
            "spark-3.0.3-bin-hadoop3.2/examples/src/main/java/org/apache/spark/examples/ml/JavaRobustScalerExample.java\n",
            "spark-3.0.3-bin-hadoop3.2/examples/src/main/java/org/apache/spark/examples/ml/JavaLinearRegressionWithElasticNetExample.java\n",
            "spark-3.0.3-bin-hadoop3.2/examples/src/main/java/org/apache/spark/examples/ml/JavaLinearSVCExample.java\n",
            "spark-3.0.3-bin-hadoop3.2/examples/src/main/java/org/apache/spark/examples/JavaWordCount.java\n",
            "spark-3.0.3-bin-hadoop3.2/examples/src/main/java/org/apache/spark/examples/JavaHdfsLR.java\n",
            "spark-3.0.3-bin-hadoop3.2/examples/src/main/java/org/apache/spark/examples/JavaStatusTrackerDemo.java\n",
            "spark-3.0.3-bin-hadoop3.2/examples/src/main/java/org/apache/spark/examples/mllib/\n",
            "spark-3.0.3-bin-hadoop3.2/examples/src/main/java/org/apache/spark/examples/mllib/JavaChiSqSelectorExample.java\n",
            "spark-3.0.3-bin-hadoop3.2/examples/src/main/java/org/apache/spark/examples/mllib/JavaHypothesisTestingKolmogorovSmirnovTestExample.java\n",
            "spark-3.0.3-bin-hadoop3.2/examples/src/main/java/org/apache/spark/examples/mllib/JavaRandomForestRegressionExample.java\n",
            "spark-3.0.3-bin-hadoop3.2/examples/src/main/java/org/apache/spark/examples/mllib/JavaSimpleFPGrowth.java\n",
            "spark-3.0.3-bin-hadoop3.2/examples/src/main/java/org/apache/spark/examples/mllib/JavaRandomForestClassificationExample.java\n",
            "spark-3.0.3-bin-hadoop3.2/examples/src/main/java/org/apache/spark/examples/mllib/JavaMulticlassClassificationMetricsExample.java\n",
            "spark-3.0.3-bin-hadoop3.2/examples/src/main/java/org/apache/spark/examples/mllib/JavaKernelDensityEstimationExample.java\n",
            "spark-3.0.3-bin-hadoop3.2/examples/src/main/java/org/apache/spark/examples/mllib/JavaSummaryStatisticsExample.java\n",
            "spark-3.0.3-bin-hadoop3.2/examples/src/main/java/org/apache/spark/examples/mllib/JavaDecisionTreeRegressionExample.java\n",
            "spark-3.0.3-bin-hadoop3.2/examples/src/main/java/org/apache/spark/examples/mllib/JavaGradientBoostingClassificationExample.java\n",
            "spark-3.0.3-bin-hadoop3.2/examples/src/main/java/org/apache/spark/examples/mllib/JavaGaussianMixtureExample.java\n",
            "spark-3.0.3-bin-hadoop3.2/examples/src/main/java/org/apache/spark/examples/mllib/JavaStratifiedSamplingExample.java\n",
            "spark-3.0.3-bin-hadoop3.2/examples/src/main/java/org/apache/spark/examples/mllib/JavaSVDExample.java\n",
            "spark-3.0.3-bin-hadoop3.2/examples/src/main/java/org/apache/spark/examples/mllib/JavaAssociationRulesExample.java\n",
            "spark-3.0.3-bin-hadoop3.2/examples/src/main/java/org/apache/spark/examples/mllib/JavaALS.java\n",
            "spark-3.0.3-bin-hadoop3.2/examples/src/main/java/org/apache/spark/examples/mllib/JavaKMeansExample.java\n",
            "spark-3.0.3-bin-hadoop3.2/examples/src/main/java/org/apache/spark/examples/mllib/JavaSVMWithSGDExample.java\n",
            "spark-3.0.3-bin-hadoop3.2/examples/src/main/java/org/apache/spark/examples/mllib/JavaPrefixSpanExample.java\n",
            "spark-3.0.3-bin-hadoop3.2/examples/src/main/java/org/apache/spark/examples/mllib/JavaNaiveBayesExample.java\n",
            "spark-3.0.3-bin-hadoop3.2/examples/src/main/java/org/apache/spark/examples/mllib/JavaLogisticRegressionWithLBFGSExample.java\n",
            "spark-3.0.3-bin-hadoop3.2/examples/src/main/java/org/apache/spark/examples/mllib/JavaLBFGSExample.java\n",
            "spark-3.0.3-bin-hadoop3.2/examples/src/main/java/org/apache/spark/examples/mllib/JavaGradientBoostingRegressionExample.java\n",
            "spark-3.0.3-bin-hadoop3.2/examples/src/main/java/org/apache/spark/examples/mllib/JavaRankingMetricsExample.java\n",
            "spark-3.0.3-bin-hadoop3.2/examples/src/main/java/org/apache/spark/examples/mllib/JavaIsotonicRegressionExample.java\n",
            "spark-3.0.3-bin-hadoop3.2/examples/src/main/java/org/apache/spark/examples/mllib/JavaElementwiseProductExample.java\n",
            "spark-3.0.3-bin-hadoop3.2/examples/src/main/java/org/apache/spark/examples/mllib/JavaCorrelationsExample.java\n",
            "spark-3.0.3-bin-hadoop3.2/examples/src/main/java/org/apache/spark/examples/mllib/JavaPowerIterationClusteringExample.java\n",
            "spark-3.0.3-bin-hadoop3.2/examples/src/main/java/org/apache/spark/examples/mllib/JavaBisectingKMeansExample.java\n",
            "spark-3.0.3-bin-hadoop3.2/examples/src/main/java/org/apache/spark/examples/mllib/JavaDecisionTreeClassificationExample.java\n",
            "spark-3.0.3-bin-hadoop3.2/examples/src/main/java/org/apache/spark/examples/mllib/JavaPCAExample.java\n",
            "spark-3.0.3-bin-hadoop3.2/examples/src/main/java/org/apache/spark/examples/mllib/JavaRecommendationExample.java\n",
            "spark-3.0.3-bin-hadoop3.2/examples/src/main/java/org/apache/spark/examples/mllib/JavaLatentDirichletAllocationExample.java\n",
            "spark-3.0.3-bin-hadoop3.2/examples/src/main/java/org/apache/spark/examples/mllib/JavaHypothesisTestingExample.java\n",
            "spark-3.0.3-bin-hadoop3.2/examples/src/main/java/org/apache/spark/examples/mllib/JavaMultiLabelClassificationMetricsExample.java\n",
            "spark-3.0.3-bin-hadoop3.2/examples/src/main/java/org/apache/spark/examples/mllib/JavaBinaryClassificationMetricsExample.java\n",
            "spark-3.0.3-bin-hadoop3.2/examples/src/main/java/org/apache/spark/examples/mllib/JavaStreamingTestExample.java\n",
            "spark-3.0.3-bin-hadoop3.2/examples/src/main/java/org/apache/spark/examples/JavaPageRank.java\n",
            "spark-3.0.3-bin-hadoop3.2/examples/src/main/java/org/apache/spark/examples/JavaLogQuery.java\n",
            "spark-3.0.3-bin-hadoop3.2/examples/src/main/java/org/apache/spark/examples/streaming/\n",
            "spark-3.0.3-bin-hadoop3.2/examples/src/main/java/org/apache/spark/examples/streaming/JavaStatefulNetworkWordCount.java\n",
            "spark-3.0.3-bin-hadoop3.2/examples/src/main/java/org/apache/spark/examples/streaming/JavaCustomReceiver.java\n",
            "spark-3.0.3-bin-hadoop3.2/examples/src/main/java/org/apache/spark/examples/streaming/JavaRecord.java\n",
            "spark-3.0.3-bin-hadoop3.2/examples/src/main/java/org/apache/spark/examples/streaming/JavaNetworkWordCount.java\n",
            "spark-3.0.3-bin-hadoop3.2/examples/src/main/java/org/apache/spark/examples/streaming/JavaDirectKerberizedKafkaWordCount.java\n",
            "spark-3.0.3-bin-hadoop3.2/examples/src/main/java/org/apache/spark/examples/streaming/JavaDirectKafkaWordCount.java\n",
            "spark-3.0.3-bin-hadoop3.2/examples/src/main/java/org/apache/spark/examples/streaming/JavaSqlNetworkWordCount.java\n",
            "spark-3.0.3-bin-hadoop3.2/examples/src/main/java/org/apache/spark/examples/streaming/JavaRecoverableNetworkWordCount.java\n",
            "spark-3.0.3-bin-hadoop3.2/examples/src/main/java/org/apache/spark/examples/streaming/JavaQueueStream.java\n",
            "spark-3.0.3-bin-hadoop3.2/examples/src/main/java/org/apache/spark/examples/JavaSparkPi.java\n",
            "spark-3.0.3-bin-hadoop3.2/examples/src/main/java/org/apache/spark/examples/sql/\n",
            "spark-3.0.3-bin-hadoop3.2/examples/src/main/java/org/apache/spark/examples/sql/JavaUserDefinedScalar.java\n",
            "spark-3.0.3-bin-hadoop3.2/examples/src/main/java/org/apache/spark/examples/sql/hive/\n",
            "spark-3.0.3-bin-hadoop3.2/examples/src/main/java/org/apache/spark/examples/sql/hive/JavaSparkHiveExample.java\n",
            "spark-3.0.3-bin-hadoop3.2/examples/src/main/java/org/apache/spark/examples/sql/JavaUserDefinedTypedAggregation.java\n",
            "spark-3.0.3-bin-hadoop3.2/examples/src/main/java/org/apache/spark/examples/sql/JavaSQLDataSourceExample.java\n",
            "spark-3.0.3-bin-hadoop3.2/examples/src/main/java/org/apache/spark/examples/sql/JavaSparkSQLExample.java\n",
            "spark-3.0.3-bin-hadoop3.2/examples/src/main/java/org/apache/spark/examples/sql/JavaUserDefinedUntypedAggregation.java\n",
            "spark-3.0.3-bin-hadoop3.2/examples/src/main/java/org/apache/spark/examples/sql/streaming/\n",
            "spark-3.0.3-bin-hadoop3.2/examples/src/main/java/org/apache/spark/examples/sql/streaming/JavaStructuredKafkaWordCount.java\n",
            "spark-3.0.3-bin-hadoop3.2/examples/src/main/java/org/apache/spark/examples/sql/streaming/JavaStructuredNetworkWordCountWindowed.java\n",
            "spark-3.0.3-bin-hadoop3.2/examples/src/main/java/org/apache/spark/examples/sql/streaming/JavaStructuredSessionization.java\n",
            "spark-3.0.3-bin-hadoop3.2/examples/src/main/java/org/apache/spark/examples/sql/streaming/JavaStructuredNetworkWordCount.java\n",
            "spark-3.0.3-bin-hadoop3.2/examples/src/main/java/org/apache/spark/examples/sql/streaming/JavaStructuredKerberizedKafkaWordCount.java\n",
            "spark-3.0.3-bin-hadoop3.2/examples/src/main/java/org/apache/spark/examples/JavaTC.java\n",
            "spark-3.0.3-bin-hadoop3.2/examples/src/main/scripts/\n",
            "spark-3.0.3-bin-hadoop3.2/examples/src/main/scripts/getGpusResources.sh\n",
            "spark-3.0.3-bin-hadoop3.2/examples/src/main/python/\n",
            "spark-3.0.3-bin-hadoop3.2/examples/src/main/python/kmeans.py\n",
            "spark-3.0.3-bin-hadoop3.2/examples/src/main/python/ml/\n",
            "spark-3.0.3-bin-hadoop3.2/examples/src/main/python/ml/dct_example.py\n",
            "spark-3.0.3-bin-hadoop3.2/examples/src/main/python/ml/count_vectorizer_example.py\n",
            "spark-3.0.3-bin-hadoop3.2/examples/src/main/python/ml/chisq_selector_example.py\n",
            "spark-3.0.3-bin-hadoop3.2/examples/src/main/python/ml/gradient_boosted_tree_regressor_example.py\n",
            "spark-3.0.3-bin-hadoop3.2/examples/src/main/python/ml/tf_idf_example.py\n",
            "spark-3.0.3-bin-hadoop3.2/examples/src/main/python/ml/cross_validator.py\n",
            "spark-3.0.3-bin-hadoop3.2/examples/src/main/python/ml/linear_regression_with_elastic_net.py\n",
            "spark-3.0.3-bin-hadoop3.2/examples/src/main/python/ml/normalizer_example.py\n",
            "spark-3.0.3-bin-hadoop3.2/examples/src/main/python/ml/fm_regressor_example.py\n",
            "spark-3.0.3-bin-hadoop3.2/examples/src/main/python/ml/polynomial_expansion_example.py\n",
            "spark-3.0.3-bin-hadoop3.2/examples/src/main/python/ml/pipeline_example.py\n",
            "spark-3.0.3-bin-hadoop3.2/examples/src/main/python/ml/generalized_linear_regression_example.py\n",
            "spark-3.0.3-bin-hadoop3.2/examples/src/main/python/ml/multilayer_perceptron_classification.py\n",
            "spark-3.0.3-bin-hadoop3.2/examples/src/main/python/ml/bisecting_k_means_example.py\n",
            "spark-3.0.3-bin-hadoop3.2/examples/src/main/python/ml/chi_square_test_example.py\n",
            "spark-3.0.3-bin-hadoop3.2/examples/src/main/python/ml/train_validation_split.py\n",
            "spark-3.0.3-bin-hadoop3.2/examples/src/main/python/ml/stopwords_remover_example.py\n",
            "spark-3.0.3-bin-hadoop3.2/examples/src/main/python/ml/linearsvc.py\n",
            "spark-3.0.3-bin-hadoop3.2/examples/src/main/python/ml/lda_example.py\n",
            "spark-3.0.3-bin-hadoop3.2/examples/src/main/python/ml/random_forest_regressor_example.py\n",
            "spark-3.0.3-bin-hadoop3.2/examples/src/main/python/ml/vector_assembler_example.py\n",
            "spark-3.0.3-bin-hadoop3.2/examples/src/main/python/ml/word2vec_example.py\n",
            "spark-3.0.3-bin-hadoop3.2/examples/src/main/python/ml/string_indexer_example.py\n",
            "spark-3.0.3-bin-hadoop3.2/examples/src/main/python/ml/decision_tree_classification_example.py\n",
            "spark-3.0.3-bin-hadoop3.2/examples/src/main/python/ml/index_to_string_example.py\n",
            "spark-3.0.3-bin-hadoop3.2/examples/src/main/python/ml/bucketizer_example.py\n",
            "spark-3.0.3-bin-hadoop3.2/examples/src/main/python/ml/vector_size_hint_example.py\n",
            "spark-3.0.3-bin-hadoop3.2/examples/src/main/python/ml/vector_indexer_example.py\n",
            "spark-3.0.3-bin-hadoop3.2/examples/src/main/python/ml/tokenizer_example.py\n",
            "spark-3.0.3-bin-hadoop3.2/examples/src/main/python/ml/robust_scaler_example.py\n",
            "spark-3.0.3-bin-hadoop3.2/examples/src/main/python/ml/standard_scaler_example.py\n",
            "spark-3.0.3-bin-hadoop3.2/examples/src/main/python/ml/kmeans_example.py\n",
            "spark-3.0.3-bin-hadoop3.2/examples/src/main/python/ml/power_iteration_clustering_example.py\n",
            "spark-3.0.3-bin-hadoop3.2/examples/src/main/python/ml/naive_bayes_example.py\n",
            "spark-3.0.3-bin-hadoop3.2/examples/src/main/python/ml/pca_example.py\n",
            "spark-3.0.3-bin-hadoop3.2/examples/src/main/python/ml/aft_survival_regression.py\n",
            "spark-3.0.3-bin-hadoop3.2/examples/src/main/python/ml/min_max_scaler_example.py\n",
            "spark-3.0.3-bin-hadoop3.2/examples/src/main/python/ml/elementwise_product_example.py\n",
            "spark-3.0.3-bin-hadoop3.2/examples/src/main/python/ml/dataframe_example.py\n",
            "spark-3.0.3-bin-hadoop3.2/examples/src/main/python/ml/n_gram_example.py\n",
            "spark-3.0.3-bin-hadoop3.2/examples/src/main/python/ml/rformula_example.py\n",
            "spark-3.0.3-bin-hadoop3.2/examples/src/main/python/ml/one_vs_rest_example.py\n",
            "spark-3.0.3-bin-hadoop3.2/examples/src/main/python/ml/als_example.py\n",
            "spark-3.0.3-bin-hadoop3.2/examples/src/main/python/ml/onehot_encoder_example.py\n",
            "spark-3.0.3-bin-hadoop3.2/examples/src/main/python/ml/vector_slicer_example.py\n",
            "spark-3.0.3-bin-hadoop3.2/examples/src/main/python/ml/logistic_regression_with_elastic_net.py\n",
            "spark-3.0.3-bin-hadoop3.2/examples/src/main/python/ml/sql_transformer.py\n",
            "spark-3.0.3-bin-hadoop3.2/examples/src/main/python/ml/multiclass_logistic_regression_with_elastic_net.py\n",
            "spark-3.0.3-bin-hadoop3.2/examples/src/main/python/ml/summarizer_example.py\n",
            "spark-3.0.3-bin-hadoop3.2/examples/src/main/python/ml/quantile_discretizer_example.py\n",
            "spark-3.0.3-bin-hadoop3.2/examples/src/main/python/ml/feature_hasher_example.py\n",
            "spark-3.0.3-bin-hadoop3.2/examples/src/main/python/ml/imputer_example.py\n",
            "spark-3.0.3-bin-hadoop3.2/examples/src/main/python/ml/bucketed_random_projection_lsh_example.py\n",
            "spark-3.0.3-bin-hadoop3.2/examples/src/main/python/ml/estimator_transformer_param_example.py\n",
            "spark-3.0.3-bin-hadoop3.2/examples/src/main/python/ml/gradient_boosted_tree_classifier_example.py\n",
            "spark-3.0.3-bin-hadoop3.2/examples/src/main/python/ml/logistic_regression_summary_example.py\n",
            "spark-3.0.3-bin-hadoop3.2/examples/src/main/python/ml/decision_tree_regression_example.py\n",
            "spark-3.0.3-bin-hadoop3.2/examples/src/main/python/ml/fm_classifier_example.py\n",
            "spark-3.0.3-bin-hadoop3.2/examples/src/main/python/ml/gaussian_mixture_example.py\n",
            "spark-3.0.3-bin-hadoop3.2/examples/src/main/python/ml/fpgrowth_example.py\n",
            "spark-3.0.3-bin-hadoop3.2/examples/src/main/python/ml/random_forest_classifier_example.py\n",
            "spark-3.0.3-bin-hadoop3.2/examples/src/main/python/ml/correlation_example.py\n",
            "spark-3.0.3-bin-hadoop3.2/examples/src/main/python/ml/min_hash_lsh_example.py\n",
            "spark-3.0.3-bin-hadoop3.2/examples/src/main/python/ml/binarizer_example.py\n",
            "spark-3.0.3-bin-hadoop3.2/examples/src/main/python/ml/prefixspan_example.py\n",
            "spark-3.0.3-bin-hadoop3.2/examples/src/main/python/ml/max_abs_scaler_example.py\n",
            "spark-3.0.3-bin-hadoop3.2/examples/src/main/python/ml/isotonic_regression_example.py\n",
            "spark-3.0.3-bin-hadoop3.2/examples/src/main/python/ml/interaction_example.py\n",
            "spark-3.0.3-bin-hadoop3.2/examples/src/main/python/logistic_regression.py\n",
            "spark-3.0.3-bin-hadoop3.2/examples/src/main/python/als.py\n",
            "spark-3.0.3-bin-hadoop3.2/examples/src/main/python/mllib/\n",
            "spark-3.0.3-bin-hadoop3.2/examples/src/main/python/mllib/word2vec.py\n",
            "spark-3.0.3-bin-hadoop3.2/examples/src/main/python/mllib/correlations_example.py\n",
            "spark-3.0.3-bin-hadoop3.2/examples/src/main/python/mllib/gradient_boosting_classification_example.py\n",
            "spark-3.0.3-bin-hadoop3.2/examples/src/main/python/mllib/kernel_density_estimation_example.py\n",
            "spark-3.0.3-bin-hadoop3.2/examples/src/main/python/mllib/hypothesis_testing_example.py\n",
            "spark-3.0.3-bin-hadoop3.2/examples/src/main/python/mllib/svd_example.py\n",
            "spark-3.0.3-bin-hadoop3.2/examples/src/main/python/mllib/kmeans.py\n",
            "spark-3.0.3-bin-hadoop3.2/examples/src/main/python/mllib/latent_dirichlet_allocation_example.py\n",
            "spark-3.0.3-bin-hadoop3.2/examples/src/main/python/mllib/tf_idf_example.py\n",
            "spark-3.0.3-bin-hadoop3.2/examples/src/main/python/mllib/correlations.py\n",
            "spark-3.0.3-bin-hadoop3.2/examples/src/main/python/mllib/random_forest_regression_example.py\n",
            "spark-3.0.3-bin-hadoop3.2/examples/src/main/python/mllib/normalizer_example.py\n",
            "spark-3.0.3-bin-hadoop3.2/examples/src/main/python/mllib/logistic_regression.py\n",
            "spark-3.0.3-bin-hadoop3.2/examples/src/main/python/mllib/multi_label_metrics_example.py\n",
            "spark-3.0.3-bin-hadoop3.2/examples/src/main/python/mllib/gradient_boosting_regression_example.py\n",
            "spark-3.0.3-bin-hadoop3.2/examples/src/main/python/mllib/random_forest_classification_example.py\n",
            "spark-3.0.3-bin-hadoop3.2/examples/src/main/python/mllib/streaming_linear_regression_example.py\n",
            "spark-3.0.3-bin-hadoop3.2/examples/src/main/python/mllib/sampled_rdds.py\n",
            "spark-3.0.3-bin-hadoop3.2/examples/src/main/python/mllib/bisecting_k_means_example.py\n",
            "spark-3.0.3-bin-hadoop3.2/examples/src/main/python/mllib/logistic_regression_with_lbfgs_example.py\n",
            "spark-3.0.3-bin-hadoop3.2/examples/src/main/python/mllib/k_means_example.py\n",
            "spark-3.0.3-bin-hadoop3.2/examples/src/main/python/mllib/streaming_k_means_example.py\n",
            "spark-3.0.3-bin-hadoop3.2/examples/src/main/python/mllib/word2vec_example.py\n",
            "spark-3.0.3-bin-hadoop3.2/examples/src/main/python/mllib/multi_class_metrics_example.py\n",
            "spark-3.0.3-bin-hadoop3.2/examples/src/main/python/mllib/decision_tree_classification_example.py\n",
            "spark-3.0.3-bin-hadoop3.2/examples/src/main/python/mllib/summary_statistics_example.py\n",
            "spark-3.0.3-bin-hadoop3.2/examples/src/main/python/mllib/binary_classification_metrics_example.py\n",
            "spark-3.0.3-bin-hadoop3.2/examples/src/main/python/mllib/standard_scaler_example.py\n",
            "spark-3.0.3-bin-hadoop3.2/examples/src/main/python/mllib/power_iteration_clustering_example.py\n",
            "spark-3.0.3-bin-hadoop3.2/examples/src/main/python/mllib/gaussian_mixture_model.py\n",
            "spark-3.0.3-bin-hadoop3.2/examples/src/main/python/mllib/regression_metrics_example.py\n",
            "spark-3.0.3-bin-hadoop3.2/examples/src/main/python/mllib/naive_bayes_example.py\n",
            "spark-3.0.3-bin-hadoop3.2/examples/src/main/python/mllib/elementwise_product_example.py\n",
            "spark-3.0.3-bin-hadoop3.2/examples/src/main/python/mllib/linear_regression_with_sgd_example.py\n",
            "spark-3.0.3-bin-hadoop3.2/examples/src/main/python/mllib/pca_rowmatrix_example.py\n",
            "spark-3.0.3-bin-hadoop3.2/examples/src/main/python/mllib/hypothesis_testing_kolmogorov_smirnov_test_example.py\n",
            "spark-3.0.3-bin-hadoop3.2/examples/src/main/python/mllib/random_rdd_generation.py\n",
            "spark-3.0.3-bin-hadoop3.2/examples/src/main/python/mllib/decision_tree_regression_example.py\n",
            "spark-3.0.3-bin-hadoop3.2/examples/src/main/python/mllib/gaussian_mixture_example.py\n",
            "spark-3.0.3-bin-hadoop3.2/examples/src/main/python/mllib/recommendation_example.py\n",
            "spark-3.0.3-bin-hadoop3.2/examples/src/main/python/mllib/fpgrowth_example.py\n",
            "spark-3.0.3-bin-hadoop3.2/examples/src/main/python/mllib/ranking_metrics_example.py\n",
            "spark-3.0.3-bin-hadoop3.2/examples/src/main/python/mllib/svm_with_sgd_example.py\n",
            "spark-3.0.3-bin-hadoop3.2/examples/src/main/python/mllib/isotonic_regression_example.py\n",
            "spark-3.0.3-bin-hadoop3.2/examples/src/main/python/mllib/stratified_sampling_example.py\n",
            "spark-3.0.3-bin-hadoop3.2/examples/src/main/python/wordcount.py\n",
            "spark-3.0.3-bin-hadoop3.2/examples/src/main/python/status_api_demo.py\n",
            "spark-3.0.3-bin-hadoop3.2/examples/src/main/python/pagerank.py\n",
            "spark-3.0.3-bin-hadoop3.2/examples/src/main/python/sort.py\n",
            "spark-3.0.3-bin-hadoop3.2/examples/src/main/python/transitive_closure.py\n",
            "spark-3.0.3-bin-hadoop3.2/examples/src/main/python/avro_inputformat.py\n",
            "spark-3.0.3-bin-hadoop3.2/examples/src/main/python/pi.py\n",
            "spark-3.0.3-bin-hadoop3.2/examples/src/main/python/streaming/\n",
            "spark-3.0.3-bin-hadoop3.2/examples/src/main/python/streaming/queue_stream.py\n",
            "spark-3.0.3-bin-hadoop3.2/examples/src/main/python/streaming/stateful_network_wordcount.py\n",
            "spark-3.0.3-bin-hadoop3.2/examples/src/main/python/streaming/network_wordjoinsentiments.py\n",
            "spark-3.0.3-bin-hadoop3.2/examples/src/main/python/streaming/sql_network_wordcount.py\n",
            "spark-3.0.3-bin-hadoop3.2/examples/src/main/python/streaming/network_wordcount.py\n",
            "spark-3.0.3-bin-hadoop3.2/examples/src/main/python/streaming/hdfs_wordcount.py\n",
            "spark-3.0.3-bin-hadoop3.2/examples/src/main/python/streaming/recoverable_network_wordcount.py\n",
            "spark-3.0.3-bin-hadoop3.2/examples/src/main/python/sql/\n",
            "spark-3.0.3-bin-hadoop3.2/examples/src/main/python/sql/datasource.py\n",
            "spark-3.0.3-bin-hadoop3.2/examples/src/main/python/sql/hive.py\n",
            "spark-3.0.3-bin-hadoop3.2/examples/src/main/python/sql/arrow.py\n",
            "spark-3.0.3-bin-hadoop3.2/examples/src/main/python/sql/streaming/\n",
            "spark-3.0.3-bin-hadoop3.2/examples/src/main/python/sql/streaming/structured_network_wordcount_windowed.py\n",
            "spark-3.0.3-bin-hadoop3.2/examples/src/main/python/sql/streaming/structured_network_wordcount.py\n",
            "spark-3.0.3-bin-hadoop3.2/examples/src/main/python/sql/streaming/structured_kafka_wordcount.py\n",
            "spark-3.0.3-bin-hadoop3.2/examples/src/main/python/sql/basic.py\n",
            "spark-3.0.3-bin-hadoop3.2/examples/src/main/python/parquet_inputformat.py\n",
            "spark-3.0.3-bin-hadoop3.2/examples/jars/\n",
            "spark-3.0.3-bin-hadoop3.2/examples/jars/spark-examples_2.12-3.0.3.jar\n",
            "spark-3.0.3-bin-hadoop3.2/examples/jars/scopt_2.12-3.7.1.jar\n",
            "spark-3.0.3-bin-hadoop3.2/conf/\n",
            "spark-3.0.3-bin-hadoop3.2/conf/slaves.template\n",
            "spark-3.0.3-bin-hadoop3.2/conf/metrics.properties.template\n",
            "spark-3.0.3-bin-hadoop3.2/conf/fairscheduler.xml.template\n",
            "spark-3.0.3-bin-hadoop3.2/conf/log4j.properties.template\n",
            "spark-3.0.3-bin-hadoop3.2/conf/spark-defaults.conf.template\n",
            "spark-3.0.3-bin-hadoop3.2/conf/spark-env.sh.template\n",
            "spark-3.0.3-bin-hadoop3.2/bin/\n",
            "spark-3.0.3-bin-hadoop3.2/bin/sparkR.cmd\n",
            "spark-3.0.3-bin-hadoop3.2/bin/sparkR\n",
            "spark-3.0.3-bin-hadoop3.2/bin/spark-submit\n",
            "spark-3.0.3-bin-hadoop3.2/bin/pyspark2.cmd\n",
            "spark-3.0.3-bin-hadoop3.2/bin/spark-class\n",
            "spark-3.0.3-bin-hadoop3.2/bin/pyspark.cmd\n",
            "spark-3.0.3-bin-hadoop3.2/bin/spark-submit2.cmd\n",
            "spark-3.0.3-bin-hadoop3.2/bin/load-spark-env.cmd\n",
            "spark-3.0.3-bin-hadoop3.2/bin/spark-sql\n",
            "spark-3.0.3-bin-hadoop3.2/bin/docker-image-tool.sh\n",
            "spark-3.0.3-bin-hadoop3.2/bin/find-spark-home.cmd\n",
            "spark-3.0.3-bin-hadoop3.2/bin/load-spark-env.sh\n",
            "spark-3.0.3-bin-hadoop3.2/bin/pyspark\n",
            "spark-3.0.3-bin-hadoop3.2/bin/spark-shell.cmd\n",
            "spark-3.0.3-bin-hadoop3.2/bin/spark-shell2.cmd\n",
            "spark-3.0.3-bin-hadoop3.2/bin/spark-submit.cmd\n",
            "spark-3.0.3-bin-hadoop3.2/bin/beeline.cmd\n",
            "spark-3.0.3-bin-hadoop3.2/bin/find-spark-home\n",
            "spark-3.0.3-bin-hadoop3.2/bin/spark-class.cmd\n",
            "spark-3.0.3-bin-hadoop3.2/bin/sparkR2.cmd\n",
            "spark-3.0.3-bin-hadoop3.2/bin/beeline\n",
            "spark-3.0.3-bin-hadoop3.2/bin/spark-class2.cmd\n",
            "spark-3.0.3-bin-hadoop3.2/bin/spark-sql.cmd\n",
            "spark-3.0.3-bin-hadoop3.2/bin/run-example\n",
            "spark-3.0.3-bin-hadoop3.2/bin/spark-shell\n",
            "spark-3.0.3-bin-hadoop3.2/bin/run-example.cmd\n",
            "spark-3.0.3-bin-hadoop3.2/bin/spark-sql2.cmd\n",
            "spark-3.0.3-bin-hadoop3.2/python/\n",
            "spark-3.0.3-bin-hadoop3.2/python/.gitignore\n",
            "spark-3.0.3-bin-hadoop3.2/python/run-tests-with-coverage\n",
            "spark-3.0.3-bin-hadoop3.2/python/pylintrc\n",
            "spark-3.0.3-bin-hadoop3.2/python/MANIFEST.in\n",
            "spark-3.0.3-bin-hadoop3.2/python/README.md\n",
            "spark-3.0.3-bin-hadoop3.2/python/test_coverage/\n",
            "spark-3.0.3-bin-hadoop3.2/python/test_coverage/coverage_daemon.py\n",
            "spark-3.0.3-bin-hadoop3.2/python/test_coverage/conf/\n",
            "spark-3.0.3-bin-hadoop3.2/python/test_coverage/conf/spark-defaults.conf\n",
            "spark-3.0.3-bin-hadoop3.2/python/test_coverage/sitecustomize.py\n",
            "spark-3.0.3-bin-hadoop3.2/python/run-tests.py\n",
            "spark-3.0.3-bin-hadoop3.2/python/setup.py\n",
            "spark-3.0.3-bin-hadoop3.2/python/test_support/\n",
            "spark-3.0.3-bin-hadoop3.2/python/test_support/userlibrary.py\n",
            "spark-3.0.3-bin-hadoop3.2/python/test_support/hello/\n",
            "spark-3.0.3-bin-hadoop3.2/python/test_support/hello/sub_hello/\n",
            "spark-3.0.3-bin-hadoop3.2/python/test_support/hello/sub_hello/sub_hello.txt\n",
            "spark-3.0.3-bin-hadoop3.2/python/test_support/hello/hello.txt\n",
            "spark-3.0.3-bin-hadoop3.2/python/test_support/userlib-0.1.zip\n",
            "spark-3.0.3-bin-hadoop3.2/python/test_support/SimpleHTTPServer.py\n",
            "spark-3.0.3-bin-hadoop3.2/python/test_support/sql/\n",
            "spark-3.0.3-bin-hadoop3.2/python/test_support/sql/people.json\n",
            "spark-3.0.3-bin-hadoop3.2/python/test_support/sql/people_array.json\n",
            "spark-3.0.3-bin-hadoop3.2/python/test_support/sql/people_array_utf16le.json\n",
            "spark-3.0.3-bin-hadoop3.2/python/test_support/sql/text-test.txt\n",
            "spark-3.0.3-bin-hadoop3.2/python/test_support/sql/ages.csv\n",
            "spark-3.0.3-bin-hadoop3.2/python/test_support/sql/parquet_partitioned/\n",
            "spark-3.0.3-bin-hadoop3.2/python/test_support/sql/parquet_partitioned/year=2015/\n",
            "spark-3.0.3-bin-hadoop3.2/python/test_support/sql/parquet_partitioned/year=2015/month=10/\n",
            "spark-3.0.3-bin-hadoop3.2/python/test_support/sql/parquet_partitioned/year=2015/month=10/day=26/\n",
            "spark-3.0.3-bin-hadoop3.2/python/test_support/sql/parquet_partitioned/year=2015/month=10/day=26/.part-r-00005.gz.parquet.crc\n",
            "spark-3.0.3-bin-hadoop3.2/python/test_support/sql/parquet_partitioned/year=2015/month=10/day=26/part-r-00005.gz.parquet\n",
            "spark-3.0.3-bin-hadoop3.2/python/test_support/sql/parquet_partitioned/year=2015/month=10/day=25/\n",
            "spark-3.0.3-bin-hadoop3.2/python/test_support/sql/parquet_partitioned/year=2015/month=10/day=25/.part-r-00002.gz.parquet.crc\n",
            "spark-3.0.3-bin-hadoop3.2/python/test_support/sql/parquet_partitioned/year=2015/month=10/day=25/.part-r-00004.gz.parquet.crc\n",
            "spark-3.0.3-bin-hadoop3.2/python/test_support/sql/parquet_partitioned/year=2015/month=10/day=25/part-r-00004.gz.parquet\n",
            "spark-3.0.3-bin-hadoop3.2/python/test_support/sql/parquet_partitioned/year=2015/month=10/day=25/part-r-00002.gz.parquet\n",
            "spark-3.0.3-bin-hadoop3.2/python/test_support/sql/parquet_partitioned/year=2015/month=9/\n",
            "spark-3.0.3-bin-hadoop3.2/python/test_support/sql/parquet_partitioned/year=2015/month=9/day=1/\n",
            "spark-3.0.3-bin-hadoop3.2/python/test_support/sql/parquet_partitioned/year=2015/month=9/day=1/.part-r-00007.gz.parquet.crc\n",
            "spark-3.0.3-bin-hadoop3.2/python/test_support/sql/parquet_partitioned/year=2015/month=9/day=1/part-r-00007.gz.parquet\n",
            "spark-3.0.3-bin-hadoop3.2/python/test_support/sql/parquet_partitioned/_metadata\n",
            "spark-3.0.3-bin-hadoop3.2/python/test_support/sql/parquet_partitioned/year=2014/\n",
            "spark-3.0.3-bin-hadoop3.2/python/test_support/sql/parquet_partitioned/year=2014/month=9/\n",
            "spark-3.0.3-bin-hadoop3.2/python/test_support/sql/parquet_partitioned/year=2014/month=9/day=1/\n",
            "spark-3.0.3-bin-hadoop3.2/python/test_support/sql/parquet_partitioned/year=2014/month=9/day=1/.part-r-00008.gz.parquet.crc\n",
            "spark-3.0.3-bin-hadoop3.2/python/test_support/sql/parquet_partitioned/year=2014/month=9/day=1/part-r-00008.gz.parquet\n",
            "spark-3.0.3-bin-hadoop3.2/python/test_support/sql/parquet_partitioned/_common_metadata\n",
            "spark-3.0.3-bin-hadoop3.2/python/test_support/sql/parquet_partitioned/_SUCCESS\n",
            "spark-3.0.3-bin-hadoop3.2/python/test_support/sql/orc_partitioned/\n",
            "spark-3.0.3-bin-hadoop3.2/python/test_support/sql/orc_partitioned/b=1/\n",
            "spark-3.0.3-bin-hadoop3.2/python/test_support/sql/orc_partitioned/b=1/c=1/\n",
            "spark-3.0.3-bin-hadoop3.2/python/test_support/sql/orc_partitioned/b=1/c=1/part-r-00000-829af031-b970-49d6-ad39-30460a0be2c8.orc\n",
            "spark-3.0.3-bin-hadoop3.2/python/test_support/sql/orc_partitioned/b=1/c=1/.part-r-00000-829af031-b970-49d6-ad39-30460a0be2c8.orc.crc\n",
            "spark-3.0.3-bin-hadoop3.2/python/test_support/sql/orc_partitioned/b=0/\n",
            "spark-3.0.3-bin-hadoop3.2/python/test_support/sql/orc_partitioned/b=0/c=0/\n",
            "spark-3.0.3-bin-hadoop3.2/python/test_support/sql/orc_partitioned/b=0/c=0/part-r-00000-829af031-b970-49d6-ad39-30460a0be2c8.orc\n",
            "spark-3.0.3-bin-hadoop3.2/python/test_support/sql/orc_partitioned/b=0/c=0/.part-r-00000-829af031-b970-49d6-ad39-30460a0be2c8.orc.crc\n",
            "spark-3.0.3-bin-hadoop3.2/python/test_support/sql/orc_partitioned/_SUCCESS\n",
            "spark-3.0.3-bin-hadoop3.2/python/test_support/sql/ages_newlines.csv\n",
            "spark-3.0.3-bin-hadoop3.2/python/test_support/sql/streaming/\n",
            "spark-3.0.3-bin-hadoop3.2/python/test_support/sql/streaming/text-test.txt\n",
            "spark-3.0.3-bin-hadoop3.2/python/test_support/sql/people1.json\n",
            "spark-3.0.3-bin-hadoop3.2/python/pyspark/\n",
            "spark-3.0.3-bin-hadoop3.2/python/pyspark/tests/\n",
            "spark-3.0.3-bin-hadoop3.2/python/pyspark/tests/test_rddbarrier.py\n",
            "spark-3.0.3-bin-hadoop3.2/python/pyspark/tests/test_worker.py\n",
            "spark-3.0.3-bin-hadoop3.2/python/pyspark/tests/test_serializers.py\n",
            "spark-3.0.3-bin-hadoop3.2/python/pyspark/tests/test_util.py\n",
            "spark-3.0.3-bin-hadoop3.2/python/pyspark/tests/test_rdd.py\n",
            "spark-3.0.3-bin-hadoop3.2/python/pyspark/tests/__init__.py\n",
            "spark-3.0.3-bin-hadoop3.2/python/pyspark/tests/test_broadcast.py\n",
            "spark-3.0.3-bin-hadoop3.2/python/pyspark/tests/test_appsubmit.py\n",
            "spark-3.0.3-bin-hadoop3.2/python/pyspark/tests/test_profiler.py\n",
            "spark-3.0.3-bin-hadoop3.2/python/pyspark/tests/test_pin_thread.py\n",
            "spark-3.0.3-bin-hadoop3.2/python/pyspark/tests/test_shuffle.py\n",
            "spark-3.0.3-bin-hadoop3.2/python/pyspark/tests/test_join.py\n",
            "spark-3.0.3-bin-hadoop3.2/python/pyspark/tests/test_taskcontext.py\n",
            "spark-3.0.3-bin-hadoop3.2/python/pyspark/tests/test_context.py\n",
            "spark-3.0.3-bin-hadoop3.2/python/pyspark/tests/test_readwrite.py\n",
            "spark-3.0.3-bin-hadoop3.2/python/pyspark/tests/test_conf.py\n",
            "spark-3.0.3-bin-hadoop3.2/python/pyspark/tests/test_daemon.py\n",
            "spark-3.0.3-bin-hadoop3.2/python/pyspark/testing/\n",
            "spark-3.0.3-bin-hadoop3.2/python/pyspark/testing/mlutils.py\n",
            "spark-3.0.3-bin-hadoop3.2/python/pyspark/testing/__init__.py\n",
            "spark-3.0.3-bin-hadoop3.2/python/pyspark/testing/mllibutils.py\n",
            "spark-3.0.3-bin-hadoop3.2/python/pyspark/testing/utils.py\n",
            "spark-3.0.3-bin-hadoop3.2/python/pyspark/testing/sqlutils.py\n",
            "spark-3.0.3-bin-hadoop3.2/python/pyspark/testing/streamingutils.py\n",
            "spark-3.0.3-bin-hadoop3.2/python/pyspark/accumulators.py\n",
            "spark-3.0.3-bin-hadoop3.2/python/pyspark/rddsampler.py\n",
            "spark-3.0.3-bin-hadoop3.2/python/pyspark/ml/\n",
            "spark-3.0.3-bin-hadoop3.2/python/pyspark/ml/tests/\n",
            "spark-3.0.3-bin-hadoop3.2/python/pyspark/ml/tests/test_algorithms.py\n",
            "spark-3.0.3-bin-hadoop3.2/python/pyspark/ml/tests/test_evaluation.py\n",
            "spark-3.0.3-bin-hadoop3.2/python/pyspark/ml/tests/test_util.py\n",
            "spark-3.0.3-bin-hadoop3.2/python/pyspark/ml/tests/test_feature.py\n",
            "spark-3.0.3-bin-hadoop3.2/python/pyspark/ml/tests/test_pipeline.py\n",
            "spark-3.0.3-bin-hadoop3.2/python/pyspark/ml/tests/test_wrapper.py\n",
            "spark-3.0.3-bin-hadoop3.2/python/pyspark/ml/tests/__init__.py\n",
            "spark-3.0.3-bin-hadoop3.2/python/pyspark/ml/tests/test_tuning.py\n",
            "spark-3.0.3-bin-hadoop3.2/python/pyspark/ml/tests/test_persistence.py\n",
            "spark-3.0.3-bin-hadoop3.2/python/pyspark/ml/tests/test_param.py\n",
            "spark-3.0.3-bin-hadoop3.2/python/pyspark/ml/tests/test_training_summary.py\n",
            "spark-3.0.3-bin-hadoop3.2/python/pyspark/ml/tests/test_linalg.py\n",
            "spark-3.0.3-bin-hadoop3.2/python/pyspark/ml/tests/test_image.py\n",
            "spark-3.0.3-bin-hadoop3.2/python/pyspark/ml/tests/test_stat.py\n",
            "spark-3.0.3-bin-hadoop3.2/python/pyspark/ml/tests/test_base.py\n",
            "spark-3.0.3-bin-hadoop3.2/python/pyspark/ml/functions.py\n",
            "spark-3.0.3-bin-hadoop3.2/python/pyspark/ml/tuning.py\n",
            "spark-3.0.3-bin-hadoop3.2/python/pyspark/ml/pipeline.py\n",
            "spark-3.0.3-bin-hadoop3.2/python/pyspark/ml/base.py\n",
            "spark-3.0.3-bin-hadoop3.2/python/pyspark/ml/feature.py\n",
            "spark-3.0.3-bin-hadoop3.2/python/pyspark/ml/__init__.py\n",
            "spark-3.0.3-bin-hadoop3.2/python/pyspark/ml/stat.py\n",
            "spark-3.0.3-bin-hadoop3.2/python/pyspark/ml/image.py\n",
            "spark-3.0.3-bin-hadoop3.2/python/pyspark/ml/classification.py\n",
            "spark-3.0.3-bin-hadoop3.2/python/pyspark/ml/recommendation.py\n",
            "spark-3.0.3-bin-hadoop3.2/python/pyspark/ml/regression.py\n",
            "spark-3.0.3-bin-hadoop3.2/python/pyspark/ml/param/\n",
            "spark-3.0.3-bin-hadoop3.2/python/pyspark/ml/param/_shared_params_code_gen.py\n",
            "spark-3.0.3-bin-hadoop3.2/python/pyspark/ml/param/__init__.py\n",
            "spark-3.0.3-bin-hadoop3.2/python/pyspark/ml/param/shared.py\n",
            "spark-3.0.3-bin-hadoop3.2/python/pyspark/ml/tree.py\n",
            "spark-3.0.3-bin-hadoop3.2/python/pyspark/ml/fpm.py\n",
            "spark-3.0.3-bin-hadoop3.2/python/pyspark/ml/wrapper.py\n",
            "spark-3.0.3-bin-hadoop3.2/python/pyspark/ml/clustering.py\n",
            "spark-3.0.3-bin-hadoop3.2/python/pyspark/ml/common.py\n",
            "spark-3.0.3-bin-hadoop3.2/python/pyspark/ml/linalg/\n",
            "spark-3.0.3-bin-hadoop3.2/python/pyspark/ml/linalg/__init__.py\n",
            "spark-3.0.3-bin-hadoop3.2/python/pyspark/ml/evaluation.py\n",
            "spark-3.0.3-bin-hadoop3.2/python/pyspark/ml/util.py\n",
            "spark-3.0.3-bin-hadoop3.2/python/pyspark/find_spark_home.py\n",
            "spark-3.0.3-bin-hadoop3.2/python/pyspark/heapq3.py\n",
            "spark-3.0.3-bin-hadoop3.2/python/pyspark/serializers.py\n",
            "spark-3.0.3-bin-hadoop3.2/python/pyspark/java_gateway.py\n",
            "spark-3.0.3-bin-hadoop3.2/python/pyspark/traceback_utils.py\n",
            "spark-3.0.3-bin-hadoop3.2/python/pyspark/conf.py\n",
            "spark-3.0.3-bin-hadoop3.2/python/pyspark/__init__.py\n",
            "spark-3.0.3-bin-hadoop3.2/python/pyspark/mllib/\n",
            "spark-3.0.3-bin-hadoop3.2/python/pyspark/mllib/tests/\n",
            "spark-3.0.3-bin-hadoop3.2/python/pyspark/mllib/tests/test_algorithms.py\n",
            "spark-3.0.3-bin-hadoop3.2/python/pyspark/mllib/tests/test_streaming_algorithms.py\n",
            "spark-3.0.3-bin-hadoop3.2/python/pyspark/mllib/tests/test_util.py\n",
            "spark-3.0.3-bin-hadoop3.2/python/pyspark/mllib/tests/test_feature.py\n",
            "spark-3.0.3-bin-hadoop3.2/python/pyspark/mllib/tests/__init__.py\n",
            "spark-3.0.3-bin-hadoop3.2/python/pyspark/mllib/tests/test_linalg.py\n",
            "spark-3.0.3-bin-hadoop3.2/python/pyspark/mllib/tests/test_stat.py\n",
            "spark-3.0.3-bin-hadoop3.2/python/pyspark/mllib/feature.py\n",
            "spark-3.0.3-bin-hadoop3.2/python/pyspark/mllib/__init__.py\n",
            "spark-3.0.3-bin-hadoop3.2/python/pyspark/mllib/classification.py\n",
            "spark-3.0.3-bin-hadoop3.2/python/pyspark/mllib/recommendation.py\n",
            "spark-3.0.3-bin-hadoop3.2/python/pyspark/mllib/regression.py\n",
            "spark-3.0.3-bin-hadoop3.2/python/pyspark/mllib/tree.py\n",
            "spark-3.0.3-bin-hadoop3.2/python/pyspark/mllib/fpm.py\n",
            "spark-3.0.3-bin-hadoop3.2/python/pyspark/mllib/random.py\n",
            "spark-3.0.3-bin-hadoop3.2/python/pyspark/mllib/stat/\n",
            "spark-3.0.3-bin-hadoop3.2/python/pyspark/mllib/stat/distribution.py\n",
            "spark-3.0.3-bin-hadoop3.2/python/pyspark/mllib/stat/__init__.py\n",
            "spark-3.0.3-bin-hadoop3.2/python/pyspark/mllib/stat/KernelDensity.py\n",
            "spark-3.0.3-bin-hadoop3.2/python/pyspark/mllib/stat/test.py\n",
            "spark-3.0.3-bin-hadoop3.2/python/pyspark/mllib/stat/_statistics.py\n",
            "spark-3.0.3-bin-hadoop3.2/python/pyspark/mllib/clustering.py\n",
            "spark-3.0.3-bin-hadoop3.2/python/pyspark/mllib/common.py\n",
            "spark-3.0.3-bin-hadoop3.2/python/pyspark/mllib/linalg/\n",
            "spark-3.0.3-bin-hadoop3.2/python/pyspark/mllib/linalg/__init__.py\n",
            "spark-3.0.3-bin-hadoop3.2/python/pyspark/mllib/linalg/distributed.py\n",
            "spark-3.0.3-bin-hadoop3.2/python/pyspark/mllib/evaluation.py\n",
            "spark-3.0.3-bin-hadoop3.2/python/pyspark/mllib/util.py\n",
            "spark-3.0.3-bin-hadoop3.2/python/pyspark/resultiterable.py\n",
            "spark-3.0.3-bin-hadoop3.2/python/pyspark/profiler.py\n",
            "spark-3.0.3-bin-hadoop3.2/python/pyspark/statcounter.py\n",
            "spark-3.0.3-bin-hadoop3.2/python/pyspark/join.py\n",
            "spark-3.0.3-bin-hadoop3.2/python/pyspark/daemon.py\n",
            "spark-3.0.3-bin-hadoop3.2/python/pyspark/rdd.py\n",
            "spark-3.0.3-bin-hadoop3.2/python/pyspark/context.py\n",
            "spark-3.0.3-bin-hadoop3.2/python/pyspark/cloudpickle.py\n",
            "spark-3.0.3-bin-hadoop3.2/python/pyspark/version.py\n",
            "spark-3.0.3-bin-hadoop3.2/python/pyspark/resource.py\n",
            "spark-3.0.3-bin-hadoop3.2/python/pyspark/files.py\n",
            "spark-3.0.3-bin-hadoop3.2/python/pyspark/worker.py\n",
            "spark-3.0.3-bin-hadoop3.2/python/pyspark/shell.py\n",
            "spark-3.0.3-bin-hadoop3.2/python/pyspark/streaming/\n",
            "spark-3.0.3-bin-hadoop3.2/python/pyspark/streaming/tests/\n",
            "spark-3.0.3-bin-hadoop3.2/python/pyspark/streaming/tests/test_listener.py\n",
            "spark-3.0.3-bin-hadoop3.2/python/pyspark/streaming/tests/test_kinesis.py\n",
            "spark-3.0.3-bin-hadoop3.2/python/pyspark/streaming/tests/__init__.py\n",
            "spark-3.0.3-bin-hadoop3.2/python/pyspark/streaming/tests/test_dstream.py\n",
            "spark-3.0.3-bin-hadoop3.2/python/pyspark/streaming/tests/test_context.py\n",
            "spark-3.0.3-bin-hadoop3.2/python/pyspark/streaming/dstream.py\n",
            "spark-3.0.3-bin-hadoop3.2/python/pyspark/streaming/__init__.py\n",
            "spark-3.0.3-bin-hadoop3.2/python/pyspark/streaming/kinesis.py\n",
            "spark-3.0.3-bin-hadoop3.2/python/pyspark/streaming/listener.py\n",
            "spark-3.0.3-bin-hadoop3.2/python/pyspark/streaming/context.py\n",
            "spark-3.0.3-bin-hadoop3.2/python/pyspark/streaming/util.py\n",
            "spark-3.0.3-bin-hadoop3.2/python/pyspark/status.py\n",
            "spark-3.0.3-bin-hadoop3.2/python/pyspark/sql/\n",
            "spark-3.0.3-bin-hadoop3.2/python/pyspark/sql/tests/\n",
            "spark-3.0.3-bin-hadoop3.2/python/pyspark/sql/tests/test_functions.py\n",
            "spark-3.0.3-bin-hadoop3.2/python/pyspark/sql/tests/test_readwriter.py\n",
            "spark-3.0.3-bin-hadoop3.2/python/pyspark/sql/tests/test_utils.py\n",
            "spark-3.0.3-bin-hadoop3.2/python/pyspark/sql/tests/test_pandas_grouped_map.py\n",
            "spark-3.0.3-bin-hadoop3.2/python/pyspark/sql/tests/test_dataframe.py\n",
            "spark-3.0.3-bin-hadoop3.2/python/pyspark/sql/tests/test_pandas_map.py\n",
            "spark-3.0.3-bin-hadoop3.2/python/pyspark/sql/tests/test_udf.py\n",
            "spark-3.0.3-bin-hadoop3.2/python/pyspark/sql/tests/test_streaming.py\n",
            "spark-3.0.3-bin-hadoop3.2/python/pyspark/sql/tests/__init__.py\n",
            "spark-3.0.3-bin-hadoop3.2/python/pyspark/sql/tests/test_serde.py\n",
            "spark-3.0.3-bin-hadoop3.2/python/pyspark/sql/tests/test_pandas_udf_window.py\n",
            "spark-3.0.3-bin-hadoop3.2/python/pyspark/sql/tests/test_group.py\n",
            "spark-3.0.3-bin-hadoop3.2/python/pyspark/sql/tests/test_pandas_udf.py\n",
            "spark-3.0.3-bin-hadoop3.2/python/pyspark/sql/tests/test_pandas_cogrouped_map.py\n",
            "spark-3.0.3-bin-hadoop3.2/python/pyspark/sql/tests/test_pandas_udf_grouped_agg.py\n",
            "spark-3.0.3-bin-hadoop3.2/python/pyspark/sql/tests/test_pandas_udf_scalar.py\n",
            "spark-3.0.3-bin-hadoop3.2/python/pyspark/sql/tests/test_catalog.py\n",
            "spark-3.0.3-bin-hadoop3.2/python/pyspark/sql/tests/test_datasources.py\n",
            "spark-3.0.3-bin-hadoop3.2/python/pyspark/sql/tests/test_pandas_udf_typehints.py\n",
            "spark-3.0.3-bin-hadoop3.2/python/pyspark/sql/tests/test_types.py\n",
            "spark-3.0.3-bin-hadoop3.2/python/pyspark/sql/tests/test_column.py\n",
            "spark-3.0.3-bin-hadoop3.2/python/pyspark/sql/tests/test_context.py\n",
            "spark-3.0.3-bin-hadoop3.2/python/pyspark/sql/tests/test_conf.py\n",
            "spark-3.0.3-bin-hadoop3.2/python/pyspark/sql/tests/test_arrow.py\n",
            "spark-3.0.3-bin-hadoop3.2/python/pyspark/sql/tests/test_session.py\n",
            "spark-3.0.3-bin-hadoop3.2/python/pyspark/sql/pandas/\n",
            "spark-3.0.3-bin-hadoop3.2/python/pyspark/sql/pandas/functions.py\n",
            "spark-3.0.3-bin-hadoop3.2/python/pyspark/sql/pandas/serializers.py\n",
            "spark-3.0.3-bin-hadoop3.2/python/pyspark/sql/pandas/__init__.py\n",
            "spark-3.0.3-bin-hadoop3.2/python/pyspark/sql/pandas/typehints.py\n",
            "spark-3.0.3-bin-hadoop3.2/python/pyspark/sql/pandas/map_ops.py\n",
            "spark-3.0.3-bin-hadoop3.2/python/pyspark/sql/pandas/types.py\n",
            "spark-3.0.3-bin-hadoop3.2/python/pyspark/sql/pandas/group_ops.py\n",
            "spark-3.0.3-bin-hadoop3.2/python/pyspark/sql/pandas/utils.py\n",
            "spark-3.0.3-bin-hadoop3.2/python/pyspark/sql/pandas/conversion.py\n",
            "spark-3.0.3-bin-hadoop3.2/python/pyspark/sql/functions.py\n",
            "spark-3.0.3-bin-hadoop3.2/python/pyspark/sql/readwriter.py\n",
            "spark-3.0.3-bin-hadoop3.2/python/pyspark/sql/catalog.py\n",
            "spark-3.0.3-bin-hadoop3.2/python/pyspark/sql/window.py\n",
            "spark-3.0.3-bin-hadoop3.2/python/pyspark/sql/udf.py\n",
            "spark-3.0.3-bin-hadoop3.2/python/pyspark/sql/conf.py\n",
            "spark-3.0.3-bin-hadoop3.2/python/pyspark/sql/__init__.py\n",
            "spark-3.0.3-bin-hadoop3.2/python/pyspark/sql/session.py\n",
            "spark-3.0.3-bin-hadoop3.2/python/pyspark/sql/column.py\n",
            "spark-3.0.3-bin-hadoop3.2/python/pyspark/sql/group.py\n",
            "spark-3.0.3-bin-hadoop3.2/python/pyspark/sql/context.py\n",
            "spark-3.0.3-bin-hadoop3.2/python/pyspark/sql/types.py\n",
            "spark-3.0.3-bin-hadoop3.2/python/pyspark/sql/dataframe.py\n",
            "spark-3.0.3-bin-hadoop3.2/python/pyspark/sql/avro/\n",
            "spark-3.0.3-bin-hadoop3.2/python/pyspark/sql/avro/functions.py\n",
            "spark-3.0.3-bin-hadoop3.2/python/pyspark/sql/avro/__init__.py\n",
            "spark-3.0.3-bin-hadoop3.2/python/pyspark/sql/utils.py\n",
            "spark-3.0.3-bin-hadoop3.2/python/pyspark/sql/streaming.py\n",
            "spark-3.0.3-bin-hadoop3.2/python/pyspark/python/\n",
            "spark-3.0.3-bin-hadoop3.2/python/pyspark/python/pyspark/\n",
            "spark-3.0.3-bin-hadoop3.2/python/pyspark/python/pyspark/shell.py\n",
            "spark-3.0.3-bin-hadoop3.2/python/pyspark/shuffle.py\n",
            "spark-3.0.3-bin-hadoop3.2/python/pyspark/taskcontext.py\n",
            "spark-3.0.3-bin-hadoop3.2/python/pyspark/_globals.py\n",
            "spark-3.0.3-bin-hadoop3.2/python/pyspark/broadcast.py\n",
            "spark-3.0.3-bin-hadoop3.2/python/pyspark/util.py\n",
            "spark-3.0.3-bin-hadoop3.2/python/pyspark/storagelevel.py\n",
            "spark-3.0.3-bin-hadoop3.2/python/.coveragerc\n",
            "spark-3.0.3-bin-hadoop3.2/python/docs/\n",
            "spark-3.0.3-bin-hadoop3.2/python/docs/index.rst\n",
            "spark-3.0.3-bin-hadoop3.2/python/docs/conf.py\n",
            "spark-3.0.3-bin-hadoop3.2/python/docs/pyspark.ml.rst\n",
            "spark-3.0.3-bin-hadoop3.2/python/docs/pyspark.rst\n",
            "spark-3.0.3-bin-hadoop3.2/python/docs/_templates/\n",
            "spark-3.0.3-bin-hadoop3.2/python/docs/_templates/layout.html\n",
            "spark-3.0.3-bin-hadoop3.2/python/docs/_static/\n",
            "spark-3.0.3-bin-hadoop3.2/python/docs/_static/pyspark.css\n",
            "spark-3.0.3-bin-hadoop3.2/python/docs/_static/copybutton.js\n",
            "spark-3.0.3-bin-hadoop3.2/python/docs/_static/pyspark.js\n",
            "spark-3.0.3-bin-hadoop3.2/python/docs/pyspark.mllib.rst\n",
            "spark-3.0.3-bin-hadoop3.2/python/docs/make2.bat\n",
            "spark-3.0.3-bin-hadoop3.2/python/docs/pyspark.streaming.rst\n",
            "spark-3.0.3-bin-hadoop3.2/python/docs/pyspark.sql.rst\n",
            "spark-3.0.3-bin-hadoop3.2/python/docs/make.bat\n",
            "spark-3.0.3-bin-hadoop3.2/python/docs/Makefile\n",
            "spark-3.0.3-bin-hadoop3.2/python/docs/pyspark.resource.rst\n",
            "spark-3.0.3-bin-hadoop3.2/python/lib/\n",
            "spark-3.0.3-bin-hadoop3.2/python/lib/PY4J_LICENSE.txt\n",
            "spark-3.0.3-bin-hadoop3.2/python/lib/py4j-0.10.9-src.zip\n",
            "spark-3.0.3-bin-hadoop3.2/python/lib/pyspark.zip\n",
            "spark-3.0.3-bin-hadoop3.2/python/run-tests\n",
            "spark-3.0.3-bin-hadoop3.2/python/setup.cfg\n",
            "spark-3.0.3-bin-hadoop3.2/python/dist/\n",
            "spark-3.0.3-bin-hadoop3.2/python/pyspark.egg-info/\n",
            "spark-3.0.3-bin-hadoop3.2/python/pyspark.egg-info/dependency_links.txt\n",
            "spark-3.0.3-bin-hadoop3.2/python/pyspark.egg-info/PKG-INFO\n",
            "spark-3.0.3-bin-hadoop3.2/python/pyspark.egg-info/top_level.txt\n",
            "spark-3.0.3-bin-hadoop3.2/python/pyspark.egg-info/requires.txt\n",
            "spark-3.0.3-bin-hadoop3.2/python/pyspark.egg-info/SOURCES.txt\n",
            "spark-3.0.3-bin-hadoop3.2/licenses/\n",
            "spark-3.0.3-bin-hadoop3.2/licenses/LICENSE-respond.txt\n",
            "spark-3.0.3-bin-hadoop3.2/licenses/LICENSE-sbt-launch-lib.txt\n",
            "spark-3.0.3-bin-hadoop3.2/licenses/LICENSE-antlr.txt\n",
            "spark-3.0.3-bin-hadoop3.2/licenses/LICENSE-dagre-d3.txt\n",
            "spark-3.0.3-bin-hadoop3.2/licenses/LICENSE-pyrolite.txt\n",
            "spark-3.0.3-bin-hadoop3.2/licenses/LICENSE-sorttable.js.txt\n",
            "spark-3.0.3-bin-hadoop3.2/licenses/LICENSE-janino.txt\n",
            "spark-3.0.3-bin-hadoop3.2/licenses/LICENSE-protobuf.txt\n",
            "spark-3.0.3-bin-hadoop3.2/licenses/LICENSE-jquery.txt\n",
            "spark-3.0.3-bin-hadoop3.2/licenses/LICENSE-scopt.txt\n",
            "spark-3.0.3-bin-hadoop3.2/licenses/LICENSE-netlib.txt\n",
            "spark-3.0.3-bin-hadoop3.2/licenses/LICENSE-d3.min.js.txt\n",
            "spark-3.0.3-bin-hadoop3.2/licenses/LICENSE-graphlib-dot.txt\n",
            "spark-3.0.3-bin-hadoop3.2/licenses/LICENSE-AnchorJS.txt\n",
            "spark-3.0.3-bin-hadoop3.2/licenses/LICENSE-datatables.txt\n",
            "spark-3.0.3-bin-hadoop3.2/licenses/LICENSE-pmml-model.txt\n",
            "spark-3.0.3-bin-hadoop3.2/licenses/LICENSE-paranamer.txt\n",
            "spark-3.0.3-bin-hadoop3.2/licenses/LICENSE-jakarta-ws-rs-api\n",
            "spark-3.0.3-bin-hadoop3.2/licenses/LICENSE-dnsjava.txt\n",
            "spark-3.0.3-bin-hadoop3.2/licenses/LICENSE-jakarta.xml.bind-api.txt\n",
            "spark-3.0.3-bin-hadoop3.2/licenses/LICENSE-jakarta-annotation-api\n",
            "spark-3.0.3-bin-hadoop3.2/licenses/LICENSE-CC0.txt\n",
            "spark-3.0.3-bin-hadoop3.2/licenses/LICENSE-jodd.txt\n",
            "spark-3.0.3-bin-hadoop3.2/licenses/LICENSE-f2j.txt\n",
            "spark-3.0.3-bin-hadoop3.2/licenses/LICENSE-heapq.txt\n",
            "spark-3.0.3-bin-hadoop3.2/licenses/LICENSE-machinist.txt\n",
            "spark-3.0.3-bin-hadoop3.2/licenses/LICENSE-javolution.txt\n",
            "spark-3.0.3-bin-hadoop3.2/licenses/LICENSE-modernizr.txt\n",
            "spark-3.0.3-bin-hadoop3.2/licenses/LICENSE-spire.txt\n",
            "spark-3.0.3-bin-hadoop3.2/licenses/LICENSE-leveldbjni.txt\n",
            "spark-3.0.3-bin-hadoop3.2/licenses/LICENSE-join.txt\n",
            "spark-3.0.3-bin-hadoop3.2/licenses/LICENSE-zstd-jni.txt\n",
            "spark-3.0.3-bin-hadoop3.2/licenses/LICENSE-slf4j.txt\n",
            "spark-3.0.3-bin-hadoop3.2/licenses/LICENSE-arpack.txt\n",
            "spark-3.0.3-bin-hadoop3.2/licenses/LICENSE-jsp-api.txt\n",
            "spark-3.0.3-bin-hadoop3.2/licenses/LICENSE-JTransforms.txt\n",
            "spark-3.0.3-bin-hadoop3.2/licenses/LICENSE-JLargeArrays.txt\n",
            "spark-3.0.3-bin-hadoop3.2/licenses/LICENSE-bootstrap.txt\n",
            "spark-3.0.3-bin-hadoop3.2/licenses/LICENSE-reflectasm.txt\n",
            "spark-3.0.3-bin-hadoop3.2/licenses/LICENSE-javassist.html\n",
            "spark-3.0.3-bin-hadoop3.2/licenses/LICENSE-zstd.txt\n",
            "spark-3.0.3-bin-hadoop3.2/licenses/LICENSE-json-formatter.txt\n",
            "spark-3.0.3-bin-hadoop3.2/licenses/LICENSE-matchMedia-polyfill.txt\n",
            "spark-3.0.3-bin-hadoop3.2/licenses/LICENSE-scala.txt\n",
            "spark-3.0.3-bin-hadoop3.2/licenses/LICENSE-jakarta.activation-api.txt\n",
            "spark-3.0.3-bin-hadoop3.2/licenses/LICENSE-automaton.txt\n",
            "spark-3.0.3-bin-hadoop3.2/licenses/LICENSE-javax-transaction-transaction-api.txt\n",
            "spark-3.0.3-bin-hadoop3.2/licenses/LICENSE-jaxb-runtime.txt\n",
            "spark-3.0.3-bin-hadoop3.2/licenses/LICENSE-minlog.txt\n",
            "spark-3.0.3-bin-hadoop3.2/licenses/LICENSE-mustache.txt\n",
            "spark-3.0.3-bin-hadoop3.2/licenses/LICENSE-xmlenc.txt\n",
            "spark-3.0.3-bin-hadoop3.2/licenses/LICENSE-jline.txt\n",
            "spark-3.0.3-bin-hadoop3.2/licenses/LICENSE-istack-commons-runtime.txt\n",
            "spark-3.0.3-bin-hadoop3.2/licenses/LICENSE-py4j.txt\n",
            "spark-3.0.3-bin-hadoop3.2/licenses/LICENSE-vis-timeline.txt\n",
            "spark-3.0.3-bin-hadoop3.2/licenses/LICENSE-re2j.txt\n",
            "spark-3.0.3-bin-hadoop3.2/licenses/LICENSE-kryo.txt\n",
            "spark-3.0.3-bin-hadoop3.2/licenses/LICENSE-cloudpickle.txt\n"
          ]
        }
      ],
      "source": [
        "!apt-get install openjdk-8-jdk-headless -qq > /dev/null\n",
        "!wget -q https://downloads.apache.org/spark/spark-3.0.3/spark-3.0.3-bin-hadoop3.2.tgz\n",
        "!tar -xvf spark-3.0.3-bin-hadoop3.2.tgz   #extract the file using the tar command\n",
        "!pip install -q findspark     #install python package "
      ]
    },
    {
      "cell_type": "code",
      "execution_count": null,
      "metadata": {
        "id": "3ti3ycCN1GaY"
      },
      "outputs": [],
      "source": [
        "import os\n",
        "os.environ[\"JAVA_HOME\"] = \"/usr/lib/jvm/java-8-openjdk-amd64\"\n",
        "os.environ[\"SPARK_HOME\"] = \"/content/spark-3.0.3-bin-hadoop3.2\""
      ]
    },
    {
      "cell_type": "code",
      "execution_count": null,
      "metadata": {
        "id": "U8gOFGcB1JBc"
      },
      "outputs": [],
      "source": [
        "import findspark\n",
        "findspark.init()\n",
        "from pyspark.sql import SparkSession  #Connect spark code on top of spark engine\n",
        "spark = SparkSession.builder.master(\"local[4]\").getOrCreate()"
      ]
    },
    {
      "cell_type": "code",
      "execution_count": null,
      "metadata": {
        "id": "HTaqrOgk1MeV"
      },
      "outputs": [],
      "source": [
        "import pyspark\n",
        "from pyspark.context import SparkContext \n",
        "\n",
        "from pyspark import SparkConf \n",
        "sc = SparkContext.getOrCreate(SparkConf().setMaster(\"local[4]\"))"
      ]
    },
    {
      "cell_type": "code",
      "execution_count": null,
      "metadata": {
        "colab": {
          "base_uri": "https://localhost:8080/"
        },
        "id": "sBLZ8T181Nnx",
        "outputId": "6399a17c-41e1-4c53-bd16-89b27d88c7ee"
      },
      "outputs": [
        {
          "output_type": "stream",
          "name": "stdout",
          "text": [
            "Populating the interactive namespace from numpy and matplotlib\n"
          ]
        }
      ],
      "source": [
        "import sys\n",
        "from pyspark import SparkContext\n",
        "from pyspark.sql import SQLContext\n",
        "from pyspark.sql.types import Row, StructField, StructType, StringType, IntegerType\n",
        "%pylab inline"
      ]
    },
    {
      "cell_type": "code",
      "execution_count": null,
      "metadata": {
        "colab": {
          "base_uri": "https://localhost:8080/"
        },
        "id": "9XGlOFh9BplM",
        "outputId": "61ee21ca-49f0-445e-bb70-1c71b3a847cc"
      },
      "outputs": [
        {
          "output_type": "execute_result",
          "data": {
            "text/plain": [
              "<pyspark.sql.context.SQLContext at 0x7fbea8bb3ed0>"
            ]
          },
          "metadata": {},
          "execution_count": 8
        }
      ],
      "source": [
        "sqlContext = SQLContext(sc)\n",
        "sqlContext"
      ]
    },
    {
      "cell_type": "code",
      "source": [
        "from google.colab import drive\n",
        "drive.mount('/content/drive')"
      ],
      "metadata": {
        "id": "D1Rpr_bUckDi",
        "colab": {
          "base_uri": "https://localhost:8080/"
        },
        "outputId": "6ff87952-40ed-4fec-cc40-28980a6d4d1e"
      },
      "execution_count": null,
      "outputs": [
        {
          "output_type": "stream",
          "name": "stdout",
          "text": [
            "Mounted at /content/drive\n"
          ]
        }
      ]
    },
    {
      "cell_type": "code",
      "source": [
        "df =(spark.read\n",
        "          .format('csv')\n",
        "          .option('header', 'false')\n",
        "          .load('/content/drive/MyDrive/training.1600000.processed.noemoticon.csv'))\n",
        "\n",
        "df.show()"
      ],
      "metadata": {
        "id": "nHXqyeaU2jiG"
      },
      "execution_count": null,
      "outputs": []
    },
    {
      "cell_type": "code",
      "source": [
        ""
      ],
      "metadata": {
        "id": "WBH-dFdZ2krm"
      },
      "execution_count": null,
      "outputs": []
    },
    {
      "cell_type": "markdown",
      "source": [
        "Loading the Twitter Sentimental Analysis dataset\n",
        "\n"
      ],
      "metadata": {
        "id": "Xg8R4Y2ye7EI"
      }
    },
    {
      "cell_type": "code",
      "source": [
        "import pandas as pd  \n",
        "import numpy as np\n",
        "import matplotlib.pyplot as plt\n",
        "cols = ['sentiment','id','date','query_string','user','text']\n",
        "df = pd.read_csv(\"/content/drive/MyDrive/training.1600000.processed.noemoticon.csv\",header=None, names=cols,encoding='latin-1')\n",
        "# above line will be different depending on where you saved your data, and your file name\n",
        "df.head()"
      ],
      "metadata": {
        "id": "Ze8hkD4Tei9C",
        "colab": {
          "base_uri": "https://localhost:8080/",
          "height": 206
        },
        "outputId": "577d5ca5-70e5-463d-cad4-8a29f21e2742"
      },
      "execution_count": null,
      "outputs": [
        {
          "output_type": "execute_result",
          "data": {
            "text/plain": [
              "   sentiment          id                          date query_string  \\\n",
              "0          0  1467810369  Mon Apr 06 22:19:45 PDT 2009     NO_QUERY   \n",
              "1          0  1467810672  Mon Apr 06 22:19:49 PDT 2009     NO_QUERY   \n",
              "2          0  1467810917  Mon Apr 06 22:19:53 PDT 2009     NO_QUERY   \n",
              "3          0  1467811184  Mon Apr 06 22:19:57 PDT 2009     NO_QUERY   \n",
              "4          0  1467811193  Mon Apr 06 22:19:57 PDT 2009     NO_QUERY   \n",
              "\n",
              "              user                                               text  \n",
              "0  _TheSpecialOne_  @switchfoot http://twitpic.com/2y1zl - Awww, t...  \n",
              "1    scotthamilton  is upset that he can't update his Facebook by ...  \n",
              "2         mattycus  @Kenichan I dived many times for the ball. Man...  \n",
              "3          ElleCTF    my whole body feels itchy and like its on fire   \n",
              "4           Karoli  @nationwideclass no, it's not behaving at all....  "
            ],
            "text/html": [
              "\n",
              "  <div id=\"df-1a7ceac8-67f6-401d-a436-3dd37ebe5796\">\n",
              "    <div class=\"colab-df-container\">\n",
              "      <div>\n",
              "<style scoped>\n",
              "    .dataframe tbody tr th:only-of-type {\n",
              "        vertical-align: middle;\n",
              "    }\n",
              "\n",
              "    .dataframe tbody tr th {\n",
              "        vertical-align: top;\n",
              "    }\n",
              "\n",
              "    .dataframe thead th {\n",
              "        text-align: right;\n",
              "    }\n",
              "</style>\n",
              "<table border=\"1\" class=\"dataframe\">\n",
              "  <thead>\n",
              "    <tr style=\"text-align: right;\">\n",
              "      <th></th>\n",
              "      <th>sentiment</th>\n",
              "      <th>id</th>\n",
              "      <th>date</th>\n",
              "      <th>query_string</th>\n",
              "      <th>user</th>\n",
              "      <th>text</th>\n",
              "    </tr>\n",
              "  </thead>\n",
              "  <tbody>\n",
              "    <tr>\n",
              "      <th>0</th>\n",
              "      <td>0</td>\n",
              "      <td>1467810369</td>\n",
              "      <td>Mon Apr 06 22:19:45 PDT 2009</td>\n",
              "      <td>NO_QUERY</td>\n",
              "      <td>_TheSpecialOne_</td>\n",
              "      <td>@switchfoot http://twitpic.com/2y1zl - Awww, t...</td>\n",
              "    </tr>\n",
              "    <tr>\n",
              "      <th>1</th>\n",
              "      <td>0</td>\n",
              "      <td>1467810672</td>\n",
              "      <td>Mon Apr 06 22:19:49 PDT 2009</td>\n",
              "      <td>NO_QUERY</td>\n",
              "      <td>scotthamilton</td>\n",
              "      <td>is upset that he can't update his Facebook by ...</td>\n",
              "    </tr>\n",
              "    <tr>\n",
              "      <th>2</th>\n",
              "      <td>0</td>\n",
              "      <td>1467810917</td>\n",
              "      <td>Mon Apr 06 22:19:53 PDT 2009</td>\n",
              "      <td>NO_QUERY</td>\n",
              "      <td>mattycus</td>\n",
              "      <td>@Kenichan I dived many times for the ball. Man...</td>\n",
              "    </tr>\n",
              "    <tr>\n",
              "      <th>3</th>\n",
              "      <td>0</td>\n",
              "      <td>1467811184</td>\n",
              "      <td>Mon Apr 06 22:19:57 PDT 2009</td>\n",
              "      <td>NO_QUERY</td>\n",
              "      <td>ElleCTF</td>\n",
              "      <td>my whole body feels itchy and like its on fire</td>\n",
              "    </tr>\n",
              "    <tr>\n",
              "      <th>4</th>\n",
              "      <td>0</td>\n",
              "      <td>1467811193</td>\n",
              "      <td>Mon Apr 06 22:19:57 PDT 2009</td>\n",
              "      <td>NO_QUERY</td>\n",
              "      <td>Karoli</td>\n",
              "      <td>@nationwideclass no, it's not behaving at all....</td>\n",
              "    </tr>\n",
              "  </tbody>\n",
              "</table>\n",
              "</div>\n",
              "      <button class=\"colab-df-convert\" onclick=\"convertToInteractive('df-1a7ceac8-67f6-401d-a436-3dd37ebe5796')\"\n",
              "              title=\"Convert this dataframe to an interactive table.\"\n",
              "              style=\"display:none;\">\n",
              "        \n",
              "  <svg xmlns=\"http://www.w3.org/2000/svg\" height=\"24px\"viewBox=\"0 0 24 24\"\n",
              "       width=\"24px\">\n",
              "    <path d=\"M0 0h24v24H0V0z\" fill=\"none\"/>\n",
              "    <path d=\"M18.56 5.44l.94 2.06.94-2.06 2.06-.94-2.06-.94-.94-2.06-.94 2.06-2.06.94zm-11 1L8.5 8.5l.94-2.06 2.06-.94-2.06-.94L8.5 2.5l-.94 2.06-2.06.94zm10 10l.94 2.06.94-2.06 2.06-.94-2.06-.94-.94-2.06-.94 2.06-2.06.94z\"/><path d=\"M17.41 7.96l-1.37-1.37c-.4-.4-.92-.59-1.43-.59-.52 0-1.04.2-1.43.59L10.3 9.45l-7.72 7.72c-.78.78-.78 2.05 0 2.83L4 21.41c.39.39.9.59 1.41.59.51 0 1.02-.2 1.41-.59l7.78-7.78 2.81-2.81c.8-.78.8-2.07 0-2.86zM5.41 20L4 18.59l7.72-7.72 1.47 1.35L5.41 20z\"/>\n",
              "  </svg>\n",
              "      </button>\n",
              "      \n",
              "  <style>\n",
              "    .colab-df-container {\n",
              "      display:flex;\n",
              "      flex-wrap:wrap;\n",
              "      gap: 12px;\n",
              "    }\n",
              "\n",
              "    .colab-df-convert {\n",
              "      background-color: #E8F0FE;\n",
              "      border: none;\n",
              "      border-radius: 50%;\n",
              "      cursor: pointer;\n",
              "      display: none;\n",
              "      fill: #1967D2;\n",
              "      height: 32px;\n",
              "      padding: 0 0 0 0;\n",
              "      width: 32px;\n",
              "    }\n",
              "\n",
              "    .colab-df-convert:hover {\n",
              "      background-color: #E2EBFA;\n",
              "      box-shadow: 0px 1px 2px rgba(60, 64, 67, 0.3), 0px 1px 3px 1px rgba(60, 64, 67, 0.15);\n",
              "      fill: #174EA6;\n",
              "    }\n",
              "\n",
              "    [theme=dark] .colab-df-convert {\n",
              "      background-color: #3B4455;\n",
              "      fill: #D2E3FC;\n",
              "    }\n",
              "\n",
              "    [theme=dark] .colab-df-convert:hover {\n",
              "      background-color: #434B5C;\n",
              "      box-shadow: 0px 1px 3px 1px rgba(0, 0, 0, 0.15);\n",
              "      filter: drop-shadow(0px 1px 2px rgba(0, 0, 0, 0.3));\n",
              "      fill: #FFFFFF;\n",
              "    }\n",
              "  </style>\n",
              "\n",
              "      <script>\n",
              "        const buttonEl =\n",
              "          document.querySelector('#df-1a7ceac8-67f6-401d-a436-3dd37ebe5796 button.colab-df-convert');\n",
              "        buttonEl.style.display =\n",
              "          google.colab.kernel.accessAllowed ? 'block' : 'none';\n",
              "\n",
              "        async function convertToInteractive(key) {\n",
              "          const element = document.querySelector('#df-1a7ceac8-67f6-401d-a436-3dd37ebe5796');\n",
              "          const dataTable =\n",
              "            await google.colab.kernel.invokeFunction('convertToInteractive',\n",
              "                                                     [key], {});\n",
              "          if (!dataTable) return;\n",
              "\n",
              "          const docLinkHtml = 'Like what you see? Visit the ' +\n",
              "            '<a target=\"_blank\" href=https://colab.research.google.com/notebooks/data_table.ipynb>data table notebook</a>'\n",
              "            + ' to learn more about interactive tables.';\n",
              "          element.innerHTML = '';\n",
              "          dataTable['output_type'] = 'display_data';\n",
              "          await google.colab.output.renderOutput(dataTable, element);\n",
              "          const docLink = document.createElement('div');\n",
              "          docLink.innerHTML = docLinkHtml;\n",
              "          element.appendChild(docLink);\n",
              "        }\n",
              "      </script>\n",
              "    </div>\n",
              "  </div>\n",
              "  "
            ]
          },
          "metadata": {},
          "execution_count": 27
        }
      ]
    },
    {
      "cell_type": "code",
      "source": [
        "print(\"Shape of dataframe is: {}\".format(df.shape))"
      ],
      "metadata": {
        "id": "u0pKPjCCei_3",
        "colab": {
          "base_uri": "https://localhost:8080/"
        },
        "outputId": "2b29575b-8791-4412-81b2-09d37ba5de23"
      },
      "execution_count": null,
      "outputs": [
        {
          "output_type": "stream",
          "name": "stdout",
          "text": [
            "Shape of dataframe is: (20000, 6)\n"
          ]
        }
      ]
    },
    {
      "cell_type": "code",
      "source": [
        "#Get the column data types\n",
        "df.dtypes"
      ],
      "metadata": {
        "id": "v_foVOcLejCb",
        "colab": {
          "base_uri": "https://localhost:8080/"
        },
        "outputId": "327ffc16-239f-43d0-8234-79814a453bbb"
      },
      "execution_count": null,
      "outputs": [
        {
          "output_type": "execute_result",
          "data": {
            "text/plain": [
              "sentiment        int64\n",
              "id               int64\n",
              "date            object\n",
              "query_string    object\n",
              "user            object\n",
              "text            object\n",
              "dtype: object"
            ]
          },
          "metadata": {},
          "execution_count": 29
        }
      ]
    },
    {
      "cell_type": "code",
      "source": [
        "df.sentiment.value_counts()"
      ],
      "metadata": {
        "id": "r5DXcOoOejFB",
        "colab": {
          "base_uri": "https://localhost:8080/"
        },
        "outputId": "90d449ab-22c3-4f4e-cb39-126eb5ec9fe4"
      },
      "execution_count": null,
      "outputs": [
        {
          "output_type": "execute_result",
          "data": {
            "text/plain": [
              "4    10001\n",
              "0     9999\n",
              "Name: sentiment, dtype: int64"
            ]
          },
          "metadata": {},
          "execution_count": 30
        }
      ]
    },
    {
      "cell_type": "markdown",
      "source": [
        "We are checking for Class imbalance by checking the number of positive and negative tweets in the sentiment feature"
      ],
      "metadata": {
        "id": "gfMkwraLIdEg"
      }
    },
    {
      "cell_type": "code",
      "source": [
        "import seaborn as sns\n",
        "sns.countplot(df['sentiment'])"
      ],
      "metadata": {
        "id": "dhqbuB8XejHe",
        "colab": {
          "base_uri": "https://localhost:8080/",
          "height": 351
        },
        "outputId": "d0161705-15ca-4b3a-f6bd-f15a9443c272"
      },
      "execution_count": null,
      "outputs": [
        {
          "output_type": "stream",
          "name": "stderr",
          "text": [
            "/usr/local/lib/python3.7/dist-packages/seaborn/_decorators.py:43: FutureWarning: Pass the following variable as a keyword arg: x. From version 0.12, the only valid positional argument will be `data`, and passing other arguments without an explicit keyword will result in an error or misinterpretation.\n",
            "  FutureWarning\n"
          ]
        },
        {
          "output_type": "execute_result",
          "data": {
            "text/plain": [
              "<matplotlib.axes._subplots.AxesSubplot at 0x7fbe8fffc810>"
            ]
          },
          "metadata": {},
          "execution_count": 31
        },
        {
          "output_type": "display_data",
          "data": {
            "text/plain": [
              "<Figure size 432x288 with 1 Axes>"
            ],
            "image/png": "[encoded data removed]"
          },
          "metadata": {
            "needs_background": "light"
          }
        }
      ]
    },
    {
      "cell_type": "code",
      "source": [
        "df.drop(['id','date','query_string','user'],axis=1,inplace=True)"
      ],
      "metadata": {
        "id": "LfGn6IcZejJ-"
      },
      "execution_count": null,
      "outputs": []
    },
    {
      "cell_type": "code",
      "source": [
        "df[df.sentiment == 0].head(10)"
      ],
      "metadata": {
        "id": "bJPqcsAuejMZ",
        "colab": {
          "base_uri": "https://localhost:8080/",
          "height": 363
        },
        "outputId": "9b9ade0e-11cc-45fc-9183-84c22768b17d"
      },
      "execution_count": null,
      "outputs": [
        {
          "output_type": "execute_result",
          "data": {
            "text/plain": [
              "   sentiment                                               text\n",
              "0          0  @switchfoot http://twitpic.com/2y1zl - Awww, t...\n",
              "1          0  is upset that he can't update his Facebook by ...\n",
              "2          0  @Kenichan I dived many times for the ball. Man...\n",
              "3          0    my whole body feels itchy and like its on fire \n",
              "4          0  @nationwideclass no, it's not behaving at all....\n",
              "5          0                      @Kwesidei not the whole crew \n",
              "6          0                                        Need a hug \n",
              "7          0  @LOLTrish hey  long time no see! Yes.. Rains a...\n",
              "8          0               @Tatiana_K nope they didn't have it \n",
              "9          0                          @twittera que me muera ? "
            ],
            "text/html": [
              "\n",
              "  <div id=\"df-c18d7656-86f3-4895-8176-d8b338197bb1\">\n",
              "    <div class=\"colab-df-container\">\n",
              "      <div>\n",
              "<style scoped>\n",
              "    .dataframe tbody tr th:only-of-type {\n",
              "        vertical-align: middle;\n",
              "    }\n",
              "\n",
              "    .dataframe tbody tr th {\n",
              "        vertical-align: top;\n",
              "    }\n",
              "\n",
              "    .dataframe thead th {\n",
              "        text-align: right;\n",
              "    }\n",
              "</style>\n",
              "<table border=\"1\" class=\"dataframe\">\n",
              "  <thead>\n",
              "    <tr style=\"text-align: right;\">\n",
              "      <th></th>\n",
              "      <th>sentiment</th>\n",
              "      <th>text</th>\n",
              "    </tr>\n",
              "  </thead>\n",
              "  <tbody>\n",
              "    <tr>\n",
              "      <th>0</th>\n",
              "      <td>0</td>\n",
              "      <td>@switchfoot http://twitpic.com/2y1zl - Awww, t...</td>\n",
              "    </tr>\n",
              "    <tr>\n",
              "      <th>1</th>\n",
              "      <td>0</td>\n",
              "      <td>is upset that he can't update his Facebook by ...</td>\n",
              "    </tr>\n",
              "    <tr>\n",
              "      <th>2</th>\n",
              "      <td>0</td>\n",
              "      <td>@Kenichan I dived many times for the ball. Man...</td>\n",
              "    </tr>\n",
              "    <tr>\n",
              "      <th>3</th>\n",
              "      <td>0</td>\n",
              "      <td>my whole body feels itchy and like its on fire</td>\n",
              "    </tr>\n",
              "    <tr>\n",
              "      <th>4</th>\n",
              "      <td>0</td>\n",
              "      <td>@nationwideclass no, it's not behaving at all....</td>\n",
              "    </tr>\n",
              "    <tr>\n",
              "      <th>5</th>\n",
              "      <td>0</td>\n",
              "      <td>@Kwesidei not the whole crew</td>\n",
              "    </tr>\n",
              "    <tr>\n",
              "      <th>6</th>\n",
              "      <td>0</td>\n",
              "      <td>Need a hug</td>\n",
              "    </tr>\n",
              "    <tr>\n",
              "      <th>7</th>\n",
              "      <td>0</td>\n",
              "      <td>@LOLTrish hey  long time no see! Yes.. Rains a...</td>\n",
              "    </tr>\n",
              "    <tr>\n",
              "      <th>8</th>\n",
              "      <td>0</td>\n",
              "      <td>@Tatiana_K nope they didn't have it</td>\n",
              "    </tr>\n",
              "    <tr>\n",
              "      <th>9</th>\n",
              "      <td>0</td>\n",
              "      <td>@twittera que me muera ?</td>\n",
              "    </tr>\n",
              "  </tbody>\n",
              "</table>\n",
              "</div>\n",
              "      <button class=\"colab-df-convert\" onclick=\"convertToInteractive('df-c18d7656-86f3-4895-8176-d8b338197bb1')\"\n",
              "              title=\"Convert this dataframe to an interactive table.\"\n",
              "              style=\"display:none;\">\n",
              "        \n",
              "  <svg xmlns=\"http://www.w3.org/2000/svg\" height=\"24px\"viewBox=\"0 0 24 24\"\n",
              "       width=\"24px\">\n",
              "    <path d=\"M0 0h24v24H0V0z\" fill=\"none\"/>\n",
              "    <path d=\"M18.56 5.44l.94 2.06.94-2.06 2.06-.94-2.06-.94-.94-2.06-.94 2.06-2.06.94zm-11 1L8.5 8.5l.94-2.06 2.06-.94-2.06-.94L8.5 2.5l-.94 2.06-2.06.94zm10 10l.94 2.06.94-2.06 2.06-.94-2.06-.94-.94-2.06-.94 2.06-2.06.94z\"/><path d=\"M17.41 7.96l-1.37-1.37c-.4-.4-.92-.59-1.43-.59-.52 0-1.04.2-1.43.59L10.3 9.45l-7.72 7.72c-.78.78-.78 2.05 0 2.83L4 21.41c.39.39.9.59 1.41.59.51 0 1.02-.2 1.41-.59l7.78-7.78 2.81-2.81c.8-.78.8-2.07 0-2.86zM5.41 20L4 18.59l7.72-7.72 1.47 1.35L5.41 20z\"/>\n",
              "  </svg>\n",
              "      </button>\n",
              "      \n",
              "  <style>\n",
              "    .colab-df-container {\n",
              "      display:flex;\n",
              "      flex-wrap:wrap;\n",
              "      gap: 12px;\n",
              "    }\n",
              "\n",
              "    .colab-df-convert {\n",
              "      background-color: #E8F0FE;\n",
              "      border: none;\n",
              "      border-radius: 50%;\n",
              "      cursor: pointer;\n",
              "      display: none;\n",
              "      fill: #1967D2;\n",
              "      height: 32px;\n",
              "      padding: 0 0 0 0;\n",
              "      width: 32px;\n",
              "    }\n",
              "\n",
              "    .colab-df-convert:hover {\n",
              "      background-color: #E2EBFA;\n",
              "      box-shadow: 0px 1px 2px rgba(60, 64, 67, 0.3), 0px 1px 3px 1px rgba(60, 64, 67, 0.15);\n",
              "      fill: #174EA6;\n",
              "    }\n",
              "\n",
              "    [theme=dark] .colab-df-convert {\n",
              "      background-color: #3B4455;\n",
              "      fill: #D2E3FC;\n",
              "    }\n",
              "\n",
              "    [theme=dark] .colab-df-convert:hover {\n",
              "      background-color: #434B5C;\n",
              "      box-shadow: 0px 1px 3px 1px rgba(0, 0, 0, 0.15);\n",
              "      filter: drop-shadow(0px 1px 2px rgba(0, 0, 0, 0.3));\n",
              "      fill: #FFFFFF;\n",
              "    }\n",
              "  </style>\n",
              "\n",
              "      <script>\n",
              "        const buttonEl =\n",
              "          document.querySelector('#df-c18d7656-86f3-4895-8176-d8b338197bb1 button.colab-df-convert');\n",
              "        buttonEl.style.display =\n",
              "          google.colab.kernel.accessAllowed ? 'block' : 'none';\n",
              "\n",
              "        async function convertToInteractive(key) {\n",
              "          const element = document.querySelector('#df-c18d7656-86f3-4895-8176-d8b338197bb1');\n",
              "          const dataTable =\n",
              "            await google.colab.kernel.invokeFunction('convertToInteractive',\n",
              "                                                     [key], {});\n",
              "          if (!dataTable) return;\n",
              "\n",
              "          const docLinkHtml = 'Like what you see? Visit the ' +\n",
              "            '<a target=\"_blank\" href=https://colab.research.google.com/notebooks/data_table.ipynb>data table notebook</a>'\n",
              "            + ' to learn more about interactive tables.';\n",
              "          element.innerHTML = '';\n",
              "          dataTable['output_type'] = 'display_data';\n",
              "          await google.colab.output.renderOutput(dataTable, element);\n",
              "          const docLink = document.createElement('div');\n",
              "          docLink.innerHTML = docLinkHtml;\n",
              "          element.appendChild(docLink);\n",
              "        }\n",
              "      </script>\n",
              "    </div>\n",
              "  </div>\n",
              "  "
            ]
          },
          "metadata": {},
          "execution_count": 33
        }
      ]
    },
    {
      "cell_type": "code",
      "source": [
        "df[df.sentiment == 4].head(10)"
      ],
      "metadata": {
        "id": "ZLUt7ILqejO6",
        "colab": {
          "base_uri": "https://localhost:8080/",
          "height": 363
        },
        "outputId": "67143661-72a4-4df1-a6cd-fb8072325e7c"
      },
      "execution_count": null,
      "outputs": [
        {
          "output_type": "execute_result",
          "data": {
            "text/plain": [
              "       sentiment                                               text\n",
              "9999           4  @LilPecan i thought you live in a gun-control ...\n",
              "10000          4                                @michaelahills YEP \n",
              "10001          4  need to do homework.. can't wait for LVATT.. i...\n",
              "10002          4  @AnneSudworth Gosh, that's hectic... Tea? I'm ...\n",
              "10003          4                @hana77  Daily:  8am - 12 midnight \n",
              "10004          4  watching the staff in the posh Soho face cream...\n",
              "10005          4  @samanatrix @Boxtech @Vaancor @MuertenTheSNW M...\n",
              "10006          4  @evAllTimeLow i met them at soundwave  they di...\n",
              "10007          4  @billpetti: I agree they are symbiotic, and I ...\n",
              "10008          4                 @kikilupo that's the bright side! "
            ],
            "text/html": [
              "\n",
              "  <div id=\"df-1706618f-3c47-47d6-a3fb-5b73726f9098\">\n",
              "    <div class=\"colab-df-container\">\n",
              "      <div>\n",
              "<style scoped>\n",
              "    .dataframe tbody tr th:only-of-type {\n",
              "        vertical-align: middle;\n",
              "    }\n",
              "\n",
              "    .dataframe tbody tr th {\n",
              "        vertical-align: top;\n",
              "    }\n",
              "\n",
              "    .dataframe thead th {\n",
              "        text-align: right;\n",
              "    }\n",
              "</style>\n",
              "<table border=\"1\" class=\"dataframe\">\n",
              "  <thead>\n",
              "    <tr style=\"text-align: right;\">\n",
              "      <th></th>\n",
              "      <th>sentiment</th>\n",
              "      <th>text</th>\n",
              "    </tr>\n",
              "  </thead>\n",
              "  <tbody>\n",
              "    <tr>\n",
              "      <th>9999</th>\n",
              "      <td>4</td>\n",
              "      <td>@LilPecan i thought you live in a gun-control ...</td>\n",
              "    </tr>\n",
              "    <tr>\n",
              "      <th>10000</th>\n",
              "      <td>4</td>\n",
              "      <td>@michaelahills YEP</td>\n",
              "    </tr>\n",
              "    <tr>\n",
              "      <th>10001</th>\n",
              "      <td>4</td>\n",
              "      <td>need to do homework.. can't wait for LVATT.. i...</td>\n",
              "    </tr>\n",
              "    <tr>\n",
              "      <th>10002</th>\n",
              "      <td>4</td>\n",
              "      <td>@AnneSudworth Gosh, that's hectic... Tea? I'm ...</td>\n",
              "    </tr>\n",
              "    <tr>\n",
              "      <th>10003</th>\n",
              "      <td>4</td>\n",
              "      <td>@hana77  Daily:  8am - 12 midnight</td>\n",
              "    </tr>\n",
              "    <tr>\n",
              "      <th>10004</th>\n",
              "      <td>4</td>\n",
              "      <td>watching the staff in the posh Soho face cream...</td>\n",
              "    </tr>\n",
              "    <tr>\n",
              "      <th>10005</th>\n",
              "      <td>4</td>\n",
              "      <td>@samanatrix @Boxtech @Vaancor @MuertenTheSNW M...</td>\n",
              "    </tr>\n",
              "    <tr>\n",
              "      <th>10006</th>\n",
              "      <td>4</td>\n",
              "      <td>@evAllTimeLow i met them at soundwave  they di...</td>\n",
              "    </tr>\n",
              "    <tr>\n",
              "      <th>10007</th>\n",
              "      <td>4</td>\n",
              "      <td>@billpetti: I agree they are symbiotic, and I ...</td>\n",
              "    </tr>\n",
              "    <tr>\n",
              "      <th>10008</th>\n",
              "      <td>4</td>\n",
              "      <td>@kikilupo that's the bright side!</td>\n",
              "    </tr>\n",
              "  </tbody>\n",
              "</table>\n",
              "</div>\n",
              "      <button class=\"colab-df-convert\" onclick=\"convertToInteractive('df-1706618f-3c47-47d6-a3fb-5b73726f9098')\"\n",
              "              title=\"Convert this dataframe to an interactive table.\"\n",
              "              style=\"display:none;\">\n",
              "        \n",
              "  <svg xmlns=\"http://www.w3.org/2000/svg\" height=\"24px\"viewBox=\"0 0 24 24\"\n",
              "       width=\"24px\">\n",
              "    <path d=\"M0 0h24v24H0V0z\" fill=\"none\"/>\n",
              "    <path d=\"M18.56 5.44l.94 2.06.94-2.06 2.06-.94-2.06-.94-.94-2.06-.94 2.06-2.06.94zm-11 1L8.5 8.5l.94-2.06 2.06-.94-2.06-.94L8.5 2.5l-.94 2.06-2.06.94zm10 10l.94 2.06.94-2.06 2.06-.94-2.06-.94-.94-2.06-.94 2.06-2.06.94z\"/><path d=\"M17.41 7.96l-1.37-1.37c-.4-.4-.92-.59-1.43-.59-.52 0-1.04.2-1.43.59L10.3 9.45l-7.72 7.72c-.78.78-.78 2.05 0 2.83L4 21.41c.39.39.9.59 1.41.59.51 0 1.02-.2 1.41-.59l7.78-7.78 2.81-2.81c.8-.78.8-2.07 0-2.86zM5.41 20L4 18.59l7.72-7.72 1.47 1.35L5.41 20z\"/>\n",
              "  </svg>\n",
              "      </button>\n",
              "      \n",
              "  <style>\n",
              "    .colab-df-container {\n",
              "      display:flex;\n",
              "      flex-wrap:wrap;\n",
              "      gap: 12px;\n",
              "    }\n",
              "\n",
              "    .colab-df-convert {\n",
              "      background-color: #E8F0FE;\n",
              "      border: none;\n",
              "      border-radius: 50%;\n",
              "      cursor: pointer;\n",
              "      display: none;\n",
              "      fill: #1967D2;\n",
              "      height: 32px;\n",
              "      padding: 0 0 0 0;\n",
              "      width: 32px;\n",
              "    }\n",
              "\n",
              "    .colab-df-convert:hover {\n",
              "      background-color: #E2EBFA;\n",
              "      box-shadow: 0px 1px 2px rgba(60, 64, 67, 0.3), 0px 1px 3px 1px rgba(60, 64, 67, 0.15);\n",
              "      fill: #174EA6;\n",
              "    }\n",
              "\n",
              "    [theme=dark] .colab-df-convert {\n",
              "      background-color: #3B4455;\n",
              "      fill: #D2E3FC;\n",
              "    }\n",
              "\n",
              "    [theme=dark] .colab-df-convert:hover {\n",
              "      background-color: #434B5C;\n",
              "      box-shadow: 0px 1px 3px 1px rgba(0, 0, 0, 0.15);\n",
              "      filter: drop-shadow(0px 1px 2px rgba(0, 0, 0, 0.3));\n",
              "      fill: #FFFFFF;\n",
              "    }\n",
              "  </style>\n",
              "\n",
              "      <script>\n",
              "        const buttonEl =\n",
              "          document.querySelector('#df-1706618f-3c47-47d6-a3fb-5b73726f9098 button.colab-df-convert');\n",
              "        buttonEl.style.display =\n",
              "          google.colab.kernel.accessAllowed ? 'block' : 'none';\n",
              "\n",
              "        async function convertToInteractive(key) {\n",
              "          const element = document.querySelector('#df-1706618f-3c47-47d6-a3fb-5b73726f9098');\n",
              "          const dataTable =\n",
              "            await google.colab.kernel.invokeFunction('convertToInteractive',\n",
              "                                                     [key], {});\n",
              "          if (!dataTable) return;\n",
              "\n",
              "          const docLinkHtml = 'Like what you see? Visit the ' +\n",
              "            '<a target=\"_blank\" href=https://colab.research.google.com/notebooks/data_table.ipynb>data table notebook</a>'\n",
              "            + ' to learn more about interactive tables.';\n",
              "          element.innerHTML = '';\n",
              "          dataTable['output_type'] = 'display_data';\n",
              "          await google.colab.output.renderOutput(dataTable, element);\n",
              "          const docLink = document.createElement('div');\n",
              "          docLink.innerHTML = docLinkHtml;\n",
              "          element.appendChild(docLink);\n",
              "        }\n",
              "      </script>\n",
              "    </div>\n",
              "  </div>\n",
              "  "
            ]
          },
          "metadata": {},
          "execution_count": 34
        }
      ]
    },
    {
      "cell_type": "code",
      "source": [
        "df['pre_clean_len'] = [len(t) for t in df.text]"
      ],
      "metadata": {
        "id": "fJAT3CjGejRk"
      },
      "execution_count": null,
      "outputs": []
    },
    {
      "cell_type": "code",
      "source": [
        "from pprint import pprint\n",
        "data_dict = {\n",
        "    'sentiment':{\n",
        "        'type':df.sentiment.dtype,\n",
        "        'description':'sentiment class - 0:negative, 1:positive'\n",
        "    },\n",
        "    'text':{\n",
        "        'type':df.text.dtype,\n",
        "        'description':'tweet text'\n",
        "    },\n",
        "    'pre_clean_len':{\n",
        "        'type':df.pre_clean_len.dtype,\n",
        "        'description':'Length of the tweet before cleaning'\n",
        "    },\n",
        "    'dataset_shape':df.shape\n",
        "}\n",
        "print(data_dict)"
      ],
      "metadata": {
        "id": "U5a5aeVGejUC",
        "colab": {
          "base_uri": "https://localhost:8080/"
        },
        "outputId": "7c8a2bb4-c399-424a-dc1d-c0417a677ee7"
      },
      "execution_count": null,
      "outputs": [
        {
          "output_type": "stream",
          "name": "stdout",
          "text": [
            "{'sentiment': {'type': dtype('int64'), 'description': 'sentiment class - 0:negative, 1:positive'}, 'text': {'type': dtype('O'), 'description': 'tweet text'}, 'pre_clean_len': {'type': dtype('int64'), 'description': 'Length of the tweet before cleaning'}, 'dataset_shape': (20000, 3)}\n"
          ]
        }
      ]
    },
    {
      "cell_type": "code",
      "source": [
        "fig, ax = plt.subplots(figsize=(5, 5))\n",
        "plt.boxplot(df.pre_clean_len)\n",
        "plt.show()"
      ],
      "metadata": {
        "id": "K337pG4qejWC",
        "colab": {
          "base_uri": "https://localhost:8080/",
          "height": 320
        },
        "outputId": "d6247f89-9709-4adb-8d58-2208d75d2311"
      },
      "execution_count": null,
      "outputs": [
        {
          "output_type": "display_data",
          "data": {
            "text/plain": [
              "<Figure size 360x360 with 1 Axes>"
            ],
            "image/png": "[encoded data removed]"
          },
          "metadata": {
            "needs_background": "light"
          }
        }
      ]
    },
    {
      "cell_type": "code",
      "source": [
        "df[df.pre_clean_len > 140].head(10)"
      ],
      "metadata": {
        "id": "6cW4_5rGejYN",
        "colab": {
          "base_uri": "https://localhost:8080/",
          "height": 363
        },
        "outputId": "1ec0c576-1740-4f74-e0ab-7de90795c3d7"
      },
      "execution_count": null,
      "outputs": [
        {
          "output_type": "execute_result",
          "data": {
            "text/plain": [
              "      sentiment                                               text  \\\n",
              "213           0  Awwh babs... you look so sad underneith that s...   \n",
              "226           0  Tuesdayï¿½ll start with reflection ï¿½n then a...   \n",
              "279           0  Whinging. My client&amp;boss don't understand ...   \n",
              "343           0  @TheLeagueSF Not Fun &amp; Furious? The new ma...   \n",
              "400           0  #3 woke up and was having an accident - &quot;...   \n",
              "464           0  My bathtub drain is fired: it haz 1 job 2 do, ...   \n",
              "492           0  pears &amp; Brie, bottle of Cabernet, and &quo...   \n",
              "747           0  Have an invite for &quot;Healthy Dining&quot; ...   \n",
              "957           0  Damnit I was really digging this season of Rea...   \n",
              "1064          0  Why do I keep looking...I know that what I rea...   \n",
              "\n",
              "      pre_clean_len  \n",
              "213             142  \n",
              "226             141  \n",
              "279             145  \n",
              "343             145  \n",
              "400             144  \n",
              "464             146  \n",
              "492             150  \n",
              "747             141  \n",
              "957             141  \n",
              "1064            141  "
            ],
            "text/html": [
              "\n",
              "  <div id=\"df-3671e53f-73fe-4a59-a46a-46be776a4d76\">\n",
              "    <div class=\"colab-df-container\">\n",
              "      <div>\n",
              "<style scoped>\n",
              "    .dataframe tbody tr th:only-of-type {\n",
              "        vertical-align: middle;\n",
              "    }\n",
              "\n",
              "    .dataframe tbody tr th {\n",
              "        vertical-align: top;\n",
              "    }\n",
              "\n",
              "    .dataframe thead th {\n",
              "        text-align: right;\n",
              "    }\n",
              "</style>\n",
              "<table border=\"1\" class=\"dataframe\">\n",
              "  <thead>\n",
              "    <tr style=\"text-align: right;\">\n",
              "      <th></th>\n",
              "      <th>sentiment</th>\n",
              "      <th>text</th>\n",
              "      <th>pre_clean_len</th>\n",
              "    </tr>\n",
              "  </thead>\n",
              "  <tbody>\n",
              "    <tr>\n",
              "      <th>213</th>\n",
              "      <td>0</td>\n",
              "      <td>Awwh babs... you look so sad underneith that s...</td>\n",
              "      <td>142</td>\n",
              "    </tr>\n",
              "    <tr>\n",
              "      <th>226</th>\n",
              "      <td>0</td>\n",
              "      <td>Tuesdayï¿½ll start with reflection ï¿½n then a...</td>\n",
              "      <td>141</td>\n",
              "    </tr>\n",
              "    <tr>\n",
              "      <th>279</th>\n",
              "      <td>0</td>\n",
              "      <td>Whinging. My client&amp;amp;boss don't understand ...</td>\n",
              "      <td>145</td>\n",
              "    </tr>\n",
              "    <tr>\n",
              "      <th>343</th>\n",
              "      <td>0</td>\n",
              "      <td>@TheLeagueSF Not Fun &amp;amp; Furious? The new ma...</td>\n",
              "      <td>145</td>\n",
              "    </tr>\n",
              "    <tr>\n",
              "      <th>400</th>\n",
              "      <td>0</td>\n",
              "      <td>#3 woke up and was having an accident - &amp;quot;...</td>\n",
              "      <td>144</td>\n",
              "    </tr>\n",
              "    <tr>\n",
              "      <th>464</th>\n",
              "      <td>0</td>\n",
              "      <td>My bathtub drain is fired: it haz 1 job 2 do, ...</td>\n",
              "      <td>146</td>\n",
              "    </tr>\n",
              "    <tr>\n",
              "      <th>492</th>\n",
              "      <td>0</td>\n",
              "      <td>pears &amp;amp; Brie, bottle of Cabernet, and &amp;quo...</td>\n",
              "      <td>150</td>\n",
              "    </tr>\n",
              "    <tr>\n",
              "      <th>747</th>\n",
              "      <td>0</td>\n",
              "      <td>Have an invite for &amp;quot;Healthy Dining&amp;quot; ...</td>\n",
              "      <td>141</td>\n",
              "    </tr>\n",
              "    <tr>\n",
              "      <th>957</th>\n",
              "      <td>0</td>\n",
              "      <td>Damnit I was really digging this season of Rea...</td>\n",
              "      <td>141</td>\n",
              "    </tr>\n",
              "    <tr>\n",
              "      <th>1064</th>\n",
              "      <td>0</td>\n",
              "      <td>Why do I keep looking...I know that what I rea...</td>\n",
              "      <td>141</td>\n",
              "    </tr>\n",
              "  </tbody>\n",
              "</table>\n",
              "</div>\n",
              "      <button class=\"colab-df-convert\" onclick=\"convertToInteractive('df-3671e53f-73fe-4a59-a46a-46be776a4d76')\"\n",
              "              title=\"Convert this dataframe to an interactive table.\"\n",
              "              style=\"display:none;\">\n",
              "        \n",
              "  <svg xmlns=\"http://www.w3.org/2000/svg\" height=\"24px\"viewBox=\"0 0 24 24\"\n",
              "       width=\"24px\">\n",
              "    <path d=\"M0 0h24v24H0V0z\" fill=\"none\"/>\n",
              "    <path d=\"M18.56 5.44l.94 2.06.94-2.06 2.06-.94-2.06-.94-.94-2.06-.94 2.06-2.06.94zm-11 1L8.5 8.5l.94-2.06 2.06-.94-2.06-.94L8.5 2.5l-.94 2.06-2.06.94zm10 10l.94 2.06.94-2.06 2.06-.94-2.06-.94-.94-2.06-.94 2.06-2.06.94z\"/><path d=\"M17.41 7.96l-1.37-1.37c-.4-.4-.92-.59-1.43-.59-.52 0-1.04.2-1.43.59L10.3 9.45l-7.72 7.72c-.78.78-.78 2.05 0 2.83L4 21.41c.39.39.9.59 1.41.59.51 0 1.02-.2 1.41-.59l7.78-7.78 2.81-2.81c.8-.78.8-2.07 0-2.86zM5.41 20L4 18.59l7.72-7.72 1.47 1.35L5.41 20z\"/>\n",
              "  </svg>\n",
              "      </button>\n",
              "      \n",
              "  <style>\n",
              "    .colab-df-container {\n",
              "      display:flex;\n",
              "      flex-wrap:wrap;\n",
              "      gap: 12px;\n",
              "    }\n",
              "\n",
              "    .colab-df-convert {\n",
              "      background-color: #E8F0FE;\n",
              "      border: none;\n",
              "      border-radius: 50%;\n",
              "      cursor: pointer;\n",
              "      display: none;\n",
              "      fill: #1967D2;\n",
              "      height: 32px;\n",
              "      padding: 0 0 0 0;\n",
              "      width: 32px;\n",
              "    }\n",
              "\n",
              "    .colab-df-convert:hover {\n",
              "      background-color: #E2EBFA;\n",
              "      box-shadow: 0px 1px 2px rgba(60, 64, 67, 0.3), 0px 1px 3px 1px rgba(60, 64, 67, 0.15);\n",
              "      fill: #174EA6;\n",
              "    }\n",
              "\n",
              "    [theme=dark] .colab-df-convert {\n",
              "      background-color: #3B4455;\n",
              "      fill: #D2E3FC;\n",
              "    }\n",
              "\n",
              "    [theme=dark] .colab-df-convert:hover {\n",
              "      background-color: #434B5C;\n",
              "      box-shadow: 0px 1px 3px 1px rgba(0, 0, 0, 0.15);\n",
              "      filter: drop-shadow(0px 1px 2px rgba(0, 0, 0, 0.3));\n",
              "      fill: #FFFFFF;\n",
              "    }\n",
              "  </style>\n",
              "\n",
              "      <script>\n",
              "        const buttonEl =\n",
              "          document.querySelector('#df-3671e53f-73fe-4a59-a46a-46be776a4d76 button.colab-df-convert');\n",
              "        buttonEl.style.display =\n",
              "          google.colab.kernel.accessAllowed ? 'block' : 'none';\n",
              "\n",
              "        async function convertToInteractive(key) {\n",
              "          const element = document.querySelector('#df-3671e53f-73fe-4a59-a46a-46be776a4d76');\n",
              "          const dataTable =\n",
              "            await google.colab.kernel.invokeFunction('convertToInteractive',\n",
              "                                                     [key], {});\n",
              "          if (!dataTable) return;\n",
              "\n",
              "          const docLinkHtml = 'Like what you see? Visit the ' +\n",
              "            '<a target=\"_blank\" href=https://colab.research.google.com/notebooks/data_table.ipynb>data table notebook</a>'\n",
              "            + ' to learn more about interactive tables.';\n",
              "          element.innerHTML = '';\n",
              "          dataTable['output_type'] = 'display_data';\n",
              "          await google.colab.output.renderOutput(dataTable, element);\n",
              "          const docLink = document.createElement('div');\n",
              "          docLink.innerHTML = docLinkHtml;\n",
              "          element.appendChild(docLink);\n",
              "        }\n",
              "      </script>\n",
              "    </div>\n",
              "  </div>\n",
              "  "
            ]
          },
          "metadata": {},
          "execution_count": 38
        }
      ]
    },
    {
      "cell_type": "code",
      "source": [
        "df.text[279]"
      ],
      "metadata": {
        "id": "Ze2QBOQxeja7",
        "colab": {
          "base_uri": "https://localhost:8080/",
          "height": 35
        },
        "outputId": "9e0e6844-d74e-4c44-bc14-f71e0df9e149"
      },
      "execution_count": null,
      "outputs": [
        {
          "output_type": "execute_result",
          "data": {
            "text/plain": [
              "\"Whinging. My client&amp;boss don't understand English well. Rewrote some text unreadable. It's written by v. good writer&amp;reviewed correctly. \""
            ],
            "application/vnd.google.colaboratory.intrinsic+json": {
              "type": "string"
            }
          },
          "metadata": {},
          "execution_count": 39
        }
      ]
    },
    {
      "cell_type": "code",
      "source": [
        "df.text[343]"
      ],
      "metadata": {
        "colab": {
          "base_uri": "https://localhost:8080/",
          "height": 35
        },
        "id": "IhdkUk9VKId_",
        "outputId": "b172c48a-3cb7-4c23-95af-24bb62310807"
      },
      "execution_count": null,
      "outputs": [
        {
          "output_type": "execute_result",
          "data": {
            "text/plain": [
              "'@TheLeagueSF Not Fun &amp; Furious? The new mantra for the Bay 2 Breakers? It was getting 2 rambunctious;the city overreacted &amp; clamped down '"
            ],
            "application/vnd.google.colaboratory.intrinsic+json": {
              "type": "string"
            }
          },
          "metadata": {},
          "execution_count": 40
        }
      ]
    },
    {
      "cell_type": "code",
      "source": [
        "import re\n",
        "re.sub(r'@[A-Za-z0-9]+','',df.text[343])"
      ],
      "metadata": {
        "id": "2t0dvIQUejdl",
        "colab": {
          "base_uri": "https://localhost:8080/",
          "height": 35
        },
        "outputId": "7ff94f7d-78f2-473b-ecda-21736527953f"
      },
      "execution_count": null,
      "outputs": [
        {
          "output_type": "execute_result",
          "data": {
            "text/plain": [
              "' Not Fun &amp; Furious? The new mantra for the Bay 2 Breakers? It was getting 2 rambunctious;the city overreacted &amp; clamped down '"
            ],
            "application/vnd.google.colaboratory.intrinsic+json": {
              "type": "string"
            }
          },
          "metadata": {},
          "execution_count": 23
        }
      ]
    },
    {
      "cell_type": "code",
      "source": [
        "df.text[0]"
      ],
      "metadata": {
        "id": "39ffsEmIfKum",
        "colab": {
          "base_uri": "https://localhost:8080/",
          "height": 35
        },
        "outputId": "a0835b34-5b2f-4d72-a238-37a3c8c5cd6b"
      },
      "execution_count": null,
      "outputs": [
        {
          "output_type": "execute_result",
          "data": {
            "text/plain": [
              "\"@switchfoot http://twitpic.com/2y1zl - Awww, that's a bummer.  You shoulda got David Carr of Third Day to do it. ;D\""
            ],
            "application/vnd.google.colaboratory.intrinsic+json": {
              "type": "string"
            }
          },
          "metadata": {},
          "execution_count": 24
        }
      ]
    },
    {
      "cell_type": "code",
      "source": [
        "re.sub('https?://[A-Za-z0-9./]+','',df.text[0])"
      ],
      "metadata": {
        "id": "z4VP7VbKfKsY",
        "colab": {
          "base_uri": "https://localhost:8080/",
          "height": 35
        },
        "outputId": "beb46ee9-efc9-4c67-b42d-a0433202b4cd"
      },
      "execution_count": null,
      "outputs": [
        {
          "output_type": "execute_result",
          "data": {
            "text/plain": [
              "\"@switchfoot  - Awww, that's a bummer.  You shoulda got David Carr of Third Day to do it. ;D\""
            ],
            "application/vnd.google.colaboratory.intrinsic+json": {
              "type": "string"
            }
          },
          "metadata": {},
          "execution_count": 25
        }
      ]
    },
    {
      "cell_type": "code",
      "source": [
        "df.text[226]"
      ],
      "metadata": {
        "id": "aRpN7ZC2fKqH",
        "colab": {
          "base_uri": "https://localhost:8080/",
          "height": 35
        },
        "outputId": "a532c868-af41-47e9-f431-0a10af1f2866"
      },
      "execution_count": null,
      "outputs": [
        {
          "output_type": "execute_result",
          "data": {
            "text/plain": [
              "'Tuesdayï¿½ll start with reflection ï¿½n then a lecture in Stress reducing techniques. That sure might become very useful for us accompaniers '"
            ],
            "application/vnd.google.colaboratory.intrinsic+json": {
              "type": "string"
            }
          },
          "metadata": {},
          "execution_count": 26
        }
      ]
    },
    {
      "cell_type": "markdown",
      "source": [
        ""
      ],
      "metadata": {
        "id": "w893Ay14LMq8"
      }
    },
    {
      "cell_type": "code",
      "source": [
        "from nltk.tokenize import WordPunctTokenizer\n",
        "tok = WordPunctTokenizer()\n",
        "pat1 = r'@[A-Za-z0-9]+'\n",
        "pat2 = r'https?://[A-Za-z0-9./]+'\n",
        "combined_pat = r'|'.join((pat1, pat2))"
      ],
      "metadata": {
        "id": "fSiQbMnUfKnl"
      },
      "execution_count": null,
      "outputs": []
    },
    {
      "cell_type": "code",
      "source": [
        "from bs4 import BeautifulSoup \n",
        "\n",
        "def tweet_cleaner(text):\n",
        "    soup = BeautifulSoup(text, 'lxml')\n",
        "    souped = soup.get_text()\n",
        "    stripped = re.sub(combined_pat, '', souped)\n",
        "    try:\n",
        "        clean = stripped.decode(\"utf-8-sig\").replace(u\"\\ufffd\", \"?\")\n",
        "    except:\n",
        "        clean = stripped\n",
        "    letters_only = re.sub(\"[^a-zA-Z]\", \" \", clean)\n",
        "    lower_case = letters_only.lower()\n",
        "    # During the letters_only process , it has created unnecessay white spaces,\n",
        "    # Lets tokenize and join together to remove unneccessary white spaces\n",
        "    words = tok.tokenize(lower_case)\n",
        "    return (\" \".join(words)).strip()\n",
        "testing = df.text[:100]\n",
        "test_result = []\n",
        "for t in testing:\n",
        "    test_result.append(tweet_cleaner(t))\n",
        "test_result"
      ],
      "metadata": {
        "id": "ptD47UiufKlH",
        "colab": {
          "base_uri": "https://localhost:8080/"
        },
        "outputId": "8441b6e8-d121-49b9-a9b3-cebc9f533b80"
      },
      "execution_count": null,
      "outputs": [
        {
          "output_type": "execute_result",
          "data": {
            "text/plain": [
              "['awww that s a bummer you shoulda got david carr of third day to do it d',\n",
              " 'is upset that he can t update his facebook by texting it and might cry as a result school today also blah',\n",
              " 'i dived many times for the ball managed to save the rest go out of bounds',\n",
              " 'my whole body feels itchy and like its on fire',\n",
              " 'no it s not behaving at all i m mad why am i here because i can t see you all over there',\n",
              " 'not the whole crew',\n",
              " 'need a hug',\n",
              " 'hey long time no see yes rains a bit only a bit lol i m fine thanks how s you',\n",
              " 'k nope they didn t have it',\n",
              " 'que me muera',\n",
              " 'spring break in plain city it s snowing',\n",
              " 'i just re pierced my ears',\n",
              " 'i couldn t bear to watch it and i thought the ua loss was embarrassing',\n",
              " 'it it counts idk why i did either you never talk to me anymore',\n",
              " 'i would ve been the first but i didn t have a gun not really though zac snyder s just a doucheclown',\n",
              " 'i wish i got to watch it with you i miss you and how was the premiere',\n",
              " 'hollis death scene will hurt me severely to watch on film wry is directors cut not out now',\n",
              " 'about to file taxes',\n",
              " 'ahh ive always wanted to see rent love the soundtrack',\n",
              " 'oh dear were you drinking out of the forgotten table drinks',\n",
              " 'i was out most of the day so didn t get much done',\n",
              " 'one of my friend called me and asked to meet with her at mid valley today but i ve no time sigh',\n",
              " 'barista i baked you a cake but i ated it',\n",
              " 'this week is not going as i had hoped',\n",
              " 'blagh class at tomorrow',\n",
              " 'i hate when i have to call and wake people up',\n",
              " 'just going to cry myself to sleep after watching marley and me',\n",
              " 'im sad now miss lilly',\n",
              " 'ooooh lol that leslie and ok i won t do it again so leslie won t get mad again',\n",
              " 'meh almost lover is the exception this track gets me depressed every time',\n",
              " 'some hacked my account on aim now i have to make a new one',\n",
              " 'i want to go to promote gear and groove but unfornately no ride there i may b going to the one in anaheim in may though',\n",
              " 'thought sleeping in was an option tomorrow but realizing that it now is not evaluations in the morning and work in the afternoon',\n",
              " 'awe i love you too am here i miss you',\n",
              " 'i cry my asian eyes to sleep at night',\n",
              " 'ok i m sick and spent an hour sitting in the shower cause i was too sick to stand and held back the puke like a champ bed now',\n",
              " 'ill tell ya the story later not a good day and ill be workin for like three more hours',\n",
              " 'sorry bed time came here gmt',\n",
              " 'i don t either its depressing i don t think i even want to know about the kids in suitcases',\n",
              " 'bed class work gym or then class another day that s gonna fly by i miss my girlfriend',\n",
              " 'really don t feel like getting up today but got to study to for tomorrows practical exam',\n",
              " 'he s the reason for the teardrops on my guitar the only one who has enough of me to break my heart',\n",
              " 'sad sad sad i don t know why but i hate this feeling i wanna sleep and i still can t',\n",
              " 'awww i soo wish i was there to see you finally comfortable im sad that i missed it',\n",
              " 'falling asleep just heard about that tracy girl s body being found how sad my heart breaks for that family',\n",
              " 'yay i m happy for you with your job but that also means less time for me and you',\n",
              " 'just checked my user timeline on my blackberry it looks like the twanking is still happening are ppl still having probs w bgs and uids',\n",
              " 'oh man was ironing s fave top to wear to a meeting burnt it',\n",
              " 'is strangely sad about lilo and samro breaking up',\n",
              " 'oh i m so sorry i didn t think about that before retweeting',\n",
              " 'broadband plan a massive broken promise via www diigo com tautao still waiting for broadband we are',\n",
              " 'wow tons of replies from you may have to unfollow so i can see my friends tweets you re scrolling the feed a lot',\n",
              " 'our duck and chicken are taking wayyy too long to hatch',\n",
              " 'put vacation photos online a few yrs ago pc crashed and now i forget the name of the site',\n",
              " 'i need a hug',\n",
              " 'not sure what they are only that they are pos as much as i want to i dont think can trade away company assets sorry andy',\n",
              " 'i hate when that happens',\n",
              " 'i have a sad feeling that dallas is not going to show up i gotta say though you d think more shows would use music from the game mmm',\n",
              " 'ugh degrees tomorrow',\n",
              " 'where did u move to i thought u were already in sd hmmm random u found me glad to hear yer doing well',\n",
              " 'i miss my ps it s out of commission wutcha playing have you copped blood on the sand',\n",
              " 'just leaving the parking lot of work',\n",
              " 'the life is cool but not for me',\n",
              " 'sadly though i ve never gotten to experience the post coitus cigarette before and now i never will',\n",
              " 'i had such a nice day too bad the rain comes in tomorrow at am',\n",
              " 'too bad i won t be around i lost my job and can t even pay my phone bill lmao aw shucks',\n",
              " 'damm back to school tomorrow',\n",
              " 'mo jobs no money how in the hell is min wage here f n clams an hour',\n",
              " 'not forever see you soon',\n",
              " 'algonquin agreed i saw the failwhale allllll day today',\n",
              " 'oh haha dude i dont really look at em unless someone says hey i added you sorry i m so terrible at that i need a pop up',\n",
              " 'i m sure you re right i need to start working out with you and the nikster or jared at least',\n",
              " 'i really hate how people diss my bands trace is clearly not ugly',\n",
              " 'gym attire today was puma singlet adidas shorts and black business socks and leather shoes lucky did not run into any cute girls',\n",
              " 'why won t you show my location',\n",
              " 'no picnic my phone smells like citrus',\n",
              " 'my donkey is sensitive about such comments nevertheless he d and me d be glad to see your mug asap charger is still awol',\n",
              " 'no new csi tonight fml',\n",
              " 'i think my arms are sore from tennis',\n",
              " 'wonders why someone that u like so much can make you so unhappy in a split seccond depressed',\n",
              " 'sleep soon i just hate saying bye and see you tomorrow for the night',\n",
              " 'just got ur newsletter those fares really are unbelievable shame i already booked and paid for mine',\n",
              " 'missin the boo',\n",
              " 'me too itm',\n",
              " 'damn i don t have any chalk my chalkboard is useless',\n",
              " 'had a blast at the getty villa but hates that she s had a sore throat all day it s just getting worse too',\n",
              " 'hey missed ya at the meeting sup mama',\n",
              " 'my tummy hurts i wonder if the hypnosis has anything to do with it if so it s working i get it stop smoking',\n",
              " 'why is it always the fat ones',\n",
              " 'sorry babe my fam annoys me too thankfully they re asleep right now muahaha evil laugh',\n",
              " 'i should have paid more attention when we covered photoshop in my webpage design class in undergrad',\n",
              " 'wednesday my b day don t know what do',\n",
              " 'poor cameron the hills',\n",
              " 'pray for me please the ex is threatening to start sh at my our babies st birthday party what a jerk and i still have a headache',\n",
              " 'hmm do u really enjoy being with him if the problems are too constants u should think things more find someone ulike',\n",
              " 'strider is a sick little puppy',\n",
              " 'so rylee grace wana go steve s party or not sadly since its easter i wnt b able do much but ohh well',\n",
              " 'hey i actually won one of my bracket pools too bad it wasn t the one for money',\n",
              " 'you don t follow me either and i work for you',\n",
              " 'a bad nite for the favorite teams astros and spartans lose the nite out with t w was good']"
            ]
          },
          "metadata": {},
          "execution_count": 42
        }
      ]
    },
    {
      "cell_type": "code",
      "source": [
        "import pandas as pd  \n",
        "import numpy as np\n",
        "import matplotlib.pyplot as plt\n",
        "plt.style.use('fivethirtyeight')\n",
        "\n",
        "%matplotlib inline\n",
        "%config InlineBackend.figure_format = 'retina'\n",
        "\n",
        "import re\n",
        "from bs4 import BeautifulSoup\n",
        "from nltk.tokenize import WordPunctTokenizer\n",
        "tok = WordPunctTokenizer()\n",
        "pat1 = r'@[A-Za-z0-9_]+'\n",
        "pat2 = r'https?://[^ ]+'\n",
        "combined_pat = r'|'.join((pat1, pat2))\n",
        "www_pat = r'www.[^ ]+'\n",
        "\n",
        "negations_dic = {\"isn't\":\"is not\", \"aren't\":\"are not\", \"wasn't\":\"was not\", \"weren't\":\"were not\",\n",
        "                \"haven't\":\"have not\",\"hasn't\":\"has not\",\"hadn't\":\"had not\",\"won't\":\"will not\",\n",
        "                \"wouldn't\":\"would not\", \"don't\":\"do not\", \"doesn't\":\"does not\",\"didn't\":\"did not\",\n",
        "                \"can't\":\"can not\",\"couldn't\":\"could not\",\"shouldn't\":\"should not\",\"mightn't\":\"might not\",\n",
        "                \"mustn't\":\"must not\"}\n",
        "                \n",
        "neg_pattern = re.compile(r'\\b(' + '|'.join(negations_dic.keys()) + r')\\b')"
      ],
      "metadata": {
        "id": "Fflru8uHfKii"
      },
      "execution_count": null,
      "outputs": []
    },
    {
      "cell_type": "code",
      "source": [
        "example1 = BeautifulSoup(df.text[279], 'lxml')\n",
        "print (example1.get_text())\n",
        "plt.style.use('fivethirtyeight')\n",
        "\n",
        "%matplotlib inline\n",
        "%config InlineBackend.figure_format = 'retina'\n",
        "import re\n",
        "from bs4 import BeautifulSoup\n",
        "from nltk.tokenize import WordPunctTokenizer\n",
        "tok = WordPunctTokenizer()\n",
        "\n",
        "pat1 = r'@[A-Za-z0-9_]+'\n",
        "pat2 = r'https?://[^ ]+'\n",
        "combined_pat = r'|'.join((pat1, pat2))\n",
        "www_pat = r'www.[^ ]+'\n",
        "negations_dic = {\"isn't\":\"is not\", \"aren't\":\"are not\", \"wasn't\":\"was not\", \"weren't\":\"were not\",\n",
        "                \"haven't\":\"have not\",\"hasn't\":\"has not\",\"hadn't\":\"had not\",\"won't\":\"will not\",\n",
        "                \"wouldn't\":\"would not\", \"don't\":\"do not\", \"doesn't\":\"does not\",\"didn't\":\"did not\",\n",
        "                \"can't\":\"can not\",\"couldn't\":\"could not\",\"shouldn't\":\"should not\",\"mightn't\":\"might not\",\n",
        "                \"mustn't\":\"must not\"}\n",
        "neg_pattern = re.compile(r'\\b(' + '|'.join(negations_dic.keys()) + r')\\b')"
      ],
      "metadata": {
        "id": "oRZtlA4YfKgC",
        "colab": {
          "base_uri": "https://localhost:8080/"
        },
        "outputId": "38c193a3-3b05-49f3-e51d-bba9287ea6b5"
      },
      "execution_count": null,
      "outputs": [
        {
          "output_type": "stream",
          "name": "stdout",
          "text": [
            "Whinging. My client&boss don't understand English well. Rewrote some text unreadable. It's written by v. good writer&reviewed correctly. \n"
          ]
        }
      ]
    },
    {
      "cell_type": "code",
      "source": [
        "def tweet_cleaner_updated(text):\n",
        "    soup = BeautifulSoup(text, 'lxml')\n",
        "    souped = soup.get_text()\n",
        "    try:\n",
        "        bom_removed = souped.decode(\"utf-8-sig\").replace(u\"\\ufffd\", \"?\")\n",
        "    except:\n",
        "        bom_removed = souped\n",
        "    stripped = re.sub(combined_pat, '', bom_removed)\n",
        "    stripped = re.sub(www_pat, '', stripped)\n",
        "    lower_case = stripped.lower()\n",
        "    neg_handled = neg_pattern.sub(lambda x: negations_dic[x.group()], lower_case)\n",
        "    letters_only = re.sub(\"[^a-zA-Z]\", \" \", neg_handled)\n",
        "    # During the letters_only process two lines above, it has created unnecessay white spaces,\n",
        "    # tokenize and join together to remove unneccessary white spaces\n",
        "    words = [x for x  in tok.tokenize(letters_only) if len(x) > 1]\n",
        "    return (\" \".join(words)).strip()"
      ],
      "metadata": {
        "id": "9goJ4R-0fKGq"
      },
      "execution_count": null,
      "outputs": []
    },
    {
      "cell_type": "code",
      "source": [
        "import re\n",
        "nums = [0,20000]\n",
        "print (\"Cleaning and parsing the tweets...\\n\")\n",
        "clean_tweet_texts = []\n",
        "for i in range(nums[0],nums[1]):\n",
        "    if( (i+1)%10000 == 0 ):\n",
        "        print( \"Tweets %d of %d has been processed\" % ( i+1, nums[1] )    )                                                                \n",
        "    clean_tweet_texts.append(tweet_cleaner_updated(df['text'][i]))"
      ],
      "metadata": {
        "id": "Wxox4Ah9fT_v",
        "colab": {
          "base_uri": "https://localhost:8080/"
        },
        "outputId": "7271c175-bb55-47ef-ab54-055c0b5ba229"
      },
      "execution_count": null,
      "outputs": [
        {
          "output_type": "stream",
          "name": "stdout",
          "text": [
            "Cleaning and parsing the tweets...\n",
            "\n",
            "Tweets 10000 of 20000 has been processed\n",
            "Tweets 20000 of 20000 has been processed\n"
          ]
        }
      ]
    },
    {
      "cell_type": "code",
      "source": [
        "clean_df = pd.DataFrame(clean_tweet_texts,columns=['text'])\n",
        "clean_df['target'] = df.sentiment\n",
        "clean_df.head()"
      ],
      "metadata": {
        "id": "hD1FwcaEfT7Q",
        "colab": {
          "base_uri": "https://localhost:8080/",
          "height": 206
        },
        "outputId": "5462d730-a101-4192-efdc-a62029aea205"
      },
      "execution_count": null,
      "outputs": [
        {
          "output_type": "execute_result",
          "data": {
            "text/plain": [
              "                                                text  target\n",
              "0  awww that bummer you shoulda got david carr of...       0\n",
              "1  is upset that he can not update his facebook b...       0\n",
              "2  dived many times for the ball managed to save ...       0\n",
              "3     my whole body feels itchy and like its on fire       0\n",
              "4  no it not behaving at all mad why am here beca...       0"
            ],
            "text/html": [
              "\n",
              "  <div id=\"df-1fa0d275-e784-441d-b950-973141f19331\">\n",
              "    <div class=\"colab-df-container\">\n",
              "      <div>\n",
              "<style scoped>\n",
              "    .dataframe tbody tr th:only-of-type {\n",
              "        vertical-align: middle;\n",
              "    }\n",
              "\n",
              "    .dataframe tbody tr th {\n",
              "        vertical-align: top;\n",
              "    }\n",
              "\n",
              "    .dataframe thead th {\n",
              "        text-align: right;\n",
              "    }\n",
              "</style>\n",
              "<table border=\"1\" class=\"dataframe\">\n",
              "  <thead>\n",
              "    <tr style=\"text-align: right;\">\n",
              "      <th></th>\n",
              "      <th>text</th>\n",
              "      <th>target</th>\n",
              "    </tr>\n",
              "  </thead>\n",
              "  <tbody>\n",
              "    <tr>\n",
              "      <th>0</th>\n",
              "      <td>awww that bummer you shoulda got david carr of...</td>\n",
              "      <td>0</td>\n",
              "    </tr>\n",
              "    <tr>\n",
              "      <th>1</th>\n",
              "      <td>is upset that he can not update his facebook b...</td>\n",
              "      <td>0</td>\n",
              "    </tr>\n",
              "    <tr>\n",
              "      <th>2</th>\n",
              "      <td>dived many times for the ball managed to save ...</td>\n",
              "      <td>0</td>\n",
              "    </tr>\n",
              "    <tr>\n",
              "      <th>3</th>\n",
              "      <td>my whole body feels itchy and like its on fire</td>\n",
              "      <td>0</td>\n",
              "    </tr>\n",
              "    <tr>\n",
              "      <th>4</th>\n",
              "      <td>no it not behaving at all mad why am here beca...</td>\n",
              "      <td>0</td>\n",
              "    </tr>\n",
              "  </tbody>\n",
              "</table>\n",
              "</div>\n",
              "      <button class=\"colab-df-convert\" onclick=\"convertToInteractive('df-1fa0d275-e784-441d-b950-973141f19331')\"\n",
              "              title=\"Convert this dataframe to an interactive table.\"\n",
              "              style=\"display:none;\">\n",
              "        \n",
              "  <svg xmlns=\"http://www.w3.org/2000/svg\" height=\"24px\"viewBox=\"0 0 24 24\"\n",
              "       width=\"24px\">\n",
              "    <path d=\"M0 0h24v24H0V0z\" fill=\"none\"/>\n",
              "    <path d=\"M18.56 5.44l.94 2.06.94-2.06 2.06-.94-2.06-.94-.94-2.06-.94 2.06-2.06.94zm-11 1L8.5 8.5l.94-2.06 2.06-.94-2.06-.94L8.5 2.5l-.94 2.06-2.06.94zm10 10l.94 2.06.94-2.06 2.06-.94-2.06-.94-.94-2.06-.94 2.06-2.06.94z\"/><path d=\"M17.41 7.96l-1.37-1.37c-.4-.4-.92-.59-1.43-.59-.52 0-1.04.2-1.43.59L10.3 9.45l-7.72 7.72c-.78.78-.78 2.05 0 2.83L4 21.41c.39.39.9.59 1.41.59.51 0 1.02-.2 1.41-.59l7.78-7.78 2.81-2.81c.8-.78.8-2.07 0-2.86zM5.41 20L4 18.59l7.72-7.72 1.47 1.35L5.41 20z\"/>\n",
              "  </svg>\n",
              "      </button>\n",
              "      \n",
              "  <style>\n",
              "    .colab-df-container {\n",
              "      display:flex;\n",
              "      flex-wrap:wrap;\n",
              "      gap: 12px;\n",
              "    }\n",
              "\n",
              "    .colab-df-convert {\n",
              "      background-color: #E8F0FE;\n",
              "      border: none;\n",
              "      border-radius: 50%;\n",
              "      cursor: pointer;\n",
              "      display: none;\n",
              "      fill: #1967D2;\n",
              "      height: 32px;\n",
              "      padding: 0 0 0 0;\n",
              "      width: 32px;\n",
              "    }\n",
              "\n",
              "    .colab-df-convert:hover {\n",
              "      background-color: #E2EBFA;\n",
              "      box-shadow: 0px 1px 2px rgba(60, 64, 67, 0.3), 0px 1px 3px 1px rgba(60, 64, 67, 0.15);\n",
              "      fill: #174EA6;\n",
              "    }\n",
              "\n",
              "    [theme=dark] .colab-df-convert {\n",
              "      background-color: #3B4455;\n",
              "      fill: #D2E3FC;\n",
              "    }\n",
              "\n",
              "    [theme=dark] .colab-df-convert:hover {\n",
              "      background-color: #434B5C;\n",
              "      box-shadow: 0px 1px 3px 1px rgba(0, 0, 0, 0.15);\n",
              "      filter: drop-shadow(0px 1px 2px rgba(0, 0, 0, 0.3));\n",
              "      fill: #FFFFFF;\n",
              "    }\n",
              "  </style>\n",
              "\n",
              "      <script>\n",
              "        const buttonEl =\n",
              "          document.querySelector('#df-1fa0d275-e784-441d-b950-973141f19331 button.colab-df-convert');\n",
              "        buttonEl.style.display =\n",
              "          google.colab.kernel.accessAllowed ? 'block' : 'none';\n",
              "\n",
              "        async function convertToInteractive(key) {\n",
              "          const element = document.querySelector('#df-1fa0d275-e784-441d-b950-973141f19331');\n",
              "          const dataTable =\n",
              "            await google.colab.kernel.invokeFunction('convertToInteractive',\n",
              "                                                     [key], {});\n",
              "          if (!dataTable) return;\n",
              "\n",
              "          const docLinkHtml = 'Like what you see? Visit the ' +\n",
              "            '<a target=\"_blank\" href=https://colab.research.google.com/notebooks/data_table.ipynb>data table notebook</a>'\n",
              "            + ' to learn more about interactive tables.';\n",
              "          element.innerHTML = '';\n",
              "          dataTable['output_type'] = 'display_data';\n",
              "          await google.colab.output.renderOutput(dataTable, element);\n",
              "          const docLink = document.createElement('div');\n",
              "          docLink.innerHTML = docLinkHtml;\n",
              "          element.appendChild(docLink);\n",
              "        }\n",
              "      </script>\n",
              "    </div>\n",
              "  </div>\n",
              "  "
            ]
          },
          "metadata": {},
          "execution_count": 52
        }
      ]
    },
    {
      "cell_type": "code",
      "source": [
        "clean_df['clean_len'] = [len(t) for t in clean_df.text]"
      ],
      "metadata": {
        "id": "E8wF4rRFEmRa"
      },
      "execution_count": null,
      "outputs": []
    },
    {
      "cell_type": "code",
      "source": [
        "fig, ax = plt.subplots(figsize=(5, 5))\n",
        "plt.boxplot(clean_df.clean_len)\n",
        "plt.show()"
      ],
      "metadata": {
        "colab": {
          "base_uri": "https://localhost:8080/",
          "height": 316
        },
        "id": "1Z419eY9EYoB",
        "outputId": "c8a244e9-11ed-4401-f1c6-d4c2b2a475fa"
      },
      "execution_count": null,
      "outputs": [
        {
          "output_type": "display_data",
          "data": {
            "text/plain": [
              "<Figure size 360x360 with 1 Axes>"
            ],
            "image/png": "[encoded data removed]"
          },
          "metadata": {
            "image/png": {
              "width": 350,
              "height": 299
            },
            "needs_background": "light"
          }
        }
      ]
    },
    {
      "cell_type": "code",
      "source": [
        "clean_df.to_csv('clean_tweet.csv',encoding='utf-8')\n",
        "csv = 'clean_tweet.csv'\n",
        "my_df = pd.read_csv(csv,index_col=0)\n",
        "my_df.head()"
      ],
      "metadata": {
        "id": "uB3Xf8OxfT48",
        "colab": {
          "base_uri": "https://localhost:8080/",
          "height": 206
        },
        "outputId": "0ce77297-bb48-4563-b668-f32318496bc4"
      },
      "execution_count": null,
      "outputs": [
        {
          "output_type": "execute_result",
          "data": {
            "text/plain": [
              "                                                text  target  clean_len\n",
              "0  awww that bummer you shoulda got david carr of...       0         65\n",
              "1  is upset that he can not update his facebook b...       0        105\n",
              "2  dived many times for the ball managed to save ...       0         71\n",
              "3     my whole body feels itchy and like its on fire       0         46\n",
              "4  no it not behaving at all mad why am here beca...       0         80"
            ],
            "text/html": [
              "\n",
              "  <div id=\"df-7ed6102d-57f7-4a22-90e2-2de1e74fdbec\">\n",
              "    <div class=\"colab-df-container\">\n",
              "      <div>\n",
              "<style scoped>\n",
              "    .dataframe tbody tr th:only-of-type {\n",
              "        vertical-align: middle;\n",
              "    }\n",
              "\n",
              "    .dataframe tbody tr th {\n",
              "        vertical-align: top;\n",
              "    }\n",
              "\n",
              "    .dataframe thead th {\n",
              "        text-align: right;\n",
              "    }\n",
              "</style>\n",
              "<table border=\"1\" class=\"dataframe\">\n",
              "  <thead>\n",
              "    <tr style=\"text-align: right;\">\n",
              "      <th></th>\n",
              "      <th>text</th>\n",
              "      <th>target</th>\n",
              "      <th>clean_len</th>\n",
              "    </tr>\n",
              "  </thead>\n",
              "  <tbody>\n",
              "    <tr>\n",
              "      <th>0</th>\n",
              "      <td>awww that bummer you shoulda got david carr of...</td>\n",
              "      <td>0</td>\n",
              "      <td>65</td>\n",
              "    </tr>\n",
              "    <tr>\n",
              "      <th>1</th>\n",
              "      <td>is upset that he can not update his facebook b...</td>\n",
              "      <td>0</td>\n",
              "      <td>105</td>\n",
              "    </tr>\n",
              "    <tr>\n",
              "      <th>2</th>\n",
              "      <td>dived many times for the ball managed to save ...</td>\n",
              "      <td>0</td>\n",
              "      <td>71</td>\n",
              "    </tr>\n",
              "    <tr>\n",
              "      <th>3</th>\n",
              "      <td>my whole body feels itchy and like its on fire</td>\n",
              "      <td>0</td>\n",
              "      <td>46</td>\n",
              "    </tr>\n",
              "    <tr>\n",
              "      <th>4</th>\n",
              "      <td>no it not behaving at all mad why am here beca...</td>\n",
              "      <td>0</td>\n",
              "      <td>80</td>\n",
              "    </tr>\n",
              "  </tbody>\n",
              "</table>\n",
              "</div>\n",
              "      <button class=\"colab-df-convert\" onclick=\"convertToInteractive('df-7ed6102d-57f7-4a22-90e2-2de1e74fdbec')\"\n",
              "              title=\"Convert this dataframe to an interactive table.\"\n",
              "              style=\"display:none;\">\n",
              "        \n",
              "  <svg xmlns=\"http://www.w3.org/2000/svg\" height=\"24px\"viewBox=\"0 0 24 24\"\n",
              "       width=\"24px\">\n",
              "    <path d=\"M0 0h24v24H0V0z\" fill=\"none\"/>\n",
              "    <path d=\"M18.56 5.44l.94 2.06.94-2.06 2.06-.94-2.06-.94-.94-2.06-.94 2.06-2.06.94zm-11 1L8.5 8.5l.94-2.06 2.06-.94-2.06-.94L8.5 2.5l-.94 2.06-2.06.94zm10 10l.94 2.06.94-2.06 2.06-.94-2.06-.94-.94-2.06-.94 2.06-2.06.94z\"/><path d=\"M17.41 7.96l-1.37-1.37c-.4-.4-.92-.59-1.43-.59-.52 0-1.04.2-1.43.59L10.3 9.45l-7.72 7.72c-.78.78-.78 2.05 0 2.83L4 21.41c.39.39.9.59 1.41.59.51 0 1.02-.2 1.41-.59l7.78-7.78 2.81-2.81c.8-.78.8-2.07 0-2.86zM5.41 20L4 18.59l7.72-7.72 1.47 1.35L5.41 20z\"/>\n",
              "  </svg>\n",
              "      </button>\n",
              "      \n",
              "  <style>\n",
              "    .colab-df-container {\n",
              "      display:flex;\n",
              "      flex-wrap:wrap;\n",
              "      gap: 12px;\n",
              "    }\n",
              "\n",
              "    .colab-df-convert {\n",
              "      background-color: #E8F0FE;\n",
              "      border: none;\n",
              "      border-radius: 50%;\n",
              "      cursor: pointer;\n",
              "      display: none;\n",
              "      fill: #1967D2;\n",
              "      height: 32px;\n",
              "      padding: 0 0 0 0;\n",
              "      width: 32px;\n",
              "    }\n",
              "\n",
              "    .colab-df-convert:hover {\n",
              "      background-color: #E2EBFA;\n",
              "      box-shadow: 0px 1px 2px rgba(60, 64, 67, 0.3), 0px 1px 3px 1px rgba(60, 64, 67, 0.15);\n",
              "      fill: #174EA6;\n",
              "    }\n",
              "\n",
              "    [theme=dark] .colab-df-convert {\n",
              "      background-color: #3B4455;\n",
              "      fill: #D2E3FC;\n",
              "    }\n",
              "\n",
              "    [theme=dark] .colab-df-convert:hover {\n",
              "      background-color: #434B5C;\n",
              "      box-shadow: 0px 1px 3px 1px rgba(0, 0, 0, 0.15);\n",
              "      filter: drop-shadow(0px 1px 2px rgba(0, 0, 0, 0.3));\n",
              "      fill: #FFFFFF;\n",
              "    }\n",
              "  </style>\n",
              "\n",
              "      <script>\n",
              "        const buttonEl =\n",
              "          document.querySelector('#df-7ed6102d-57f7-4a22-90e2-2de1e74fdbec button.colab-df-convert');\n",
              "        buttonEl.style.display =\n",
              "          google.colab.kernel.accessAllowed ? 'block' : 'none';\n",
              "\n",
              "        async function convertToInteractive(key) {\n",
              "          const element = document.querySelector('#df-7ed6102d-57f7-4a22-90e2-2de1e74fdbec');\n",
              "          const dataTable =\n",
              "            await google.colab.kernel.invokeFunction('convertToInteractive',\n",
              "                                                     [key], {});\n",
              "          if (!dataTable) return;\n",
              "\n",
              "          const docLinkHtml = 'Like what you see? Visit the ' +\n",
              "            '<a target=\"_blank\" href=https://colab.research.google.com/notebooks/data_table.ipynb>data table notebook</a>'\n",
              "            + ' to learn more about interactive tables.';\n",
              "          element.innerHTML = '';\n",
              "          dataTable['output_type'] = 'display_data';\n",
              "          await google.colab.output.renderOutput(dataTable, element);\n",
              "          const docLink = document.createElement('div');\n",
              "          docLink.innerHTML = docLinkHtml;\n",
              "          element.appendChild(docLink);\n",
              "        }\n",
              "      </script>\n",
              "    </div>\n",
              "  </div>\n",
              "  "
            ]
          },
          "metadata": {},
          "execution_count": 56
        }
      ]
    },
    {
      "cell_type": "code",
      "source": [
        "from wordcloud import WordCloud, STOPWORDS\n",
        "import matplotlib.pyplot as plt\n",
        "stopwords = set(STOPWORDS)\n",
        "\n",
        "def show_wordcloud(data, title = None):\n",
        "    wordcloud = WordCloud(\n",
        "        background_color='white',\n",
        "        stopwords=stopwords,\n",
        "        max_words=200,\n",
        "        max_font_size=40, \n",
        "        scale=3,\n",
        "        random_state=1 # chosen at random by flipping a coin; it was heads\n",
        "    ).generate(str(data))\n",
        "\n",
        "    fig = plt.figure(1, figsize=(12, 12))\n",
        "    plt.axis('off')\n",
        "    if title: \n",
        "        fig.suptitle(title, fontsize=20)\n",
        "        fig.subplots_adjust(top=2.3)\n",
        "\n",
        "    plt.imshow(wordcloud)\n",
        "    plt.show()\n",
        "\n",
        "show_wordcloud(my_df)"
      ],
      "metadata": {
        "colab": {
          "base_uri": "https://localhost:8080/",
          "height": 407
        },
        "id": "HO32SboOMtAW",
        "outputId": "f1a6c5d1-bef8-454f-acdb-ef258b858f1b"
      },
      "execution_count": null,
      "outputs": [
        {
          "output_type": "display_data",
          "data": {
            "text/plain": [
              "<Figure size 864x864 with 1 Axes>"
            ],
            "image/png": "[encoded data removed]"
          },
          "metadata": {
            "image/png": {
              "width": 766,
              "height": 390
            },
            "needs_background": "light"
          }
        }
      ]
    },
    {
      "cell_type": "markdown",
      "source": [
        "# **SPARKS SQL**"
      ],
      "metadata": {
        "id": "jkO4MxJlPWFa"
      }
    },
    {
      "cell_type": "code",
      "source": [
        "import sys\n",
        "from pyspark import SparkContext\n",
        "from pyspark.sql import SQLContext\n",
        "from pyspark.sql.types import Row, StructField, StructType, StringType, IntegerType\n",
        "%pylab inline"
      ],
      "metadata": {
        "id": "DDbwQ39JfT0v",
        "colab": {
          "base_uri": "https://localhost:8080/"
        },
        "outputId": "46f7c767-7613-449a-ac97-74d412827871"
      },
      "execution_count": null,
      "outputs": [
        {
          "output_type": "stream",
          "name": "stdout",
          "text": [
            "Populating the interactive namespace from numpy and matplotlib\n"
          ]
        }
      ]
    },
    {
      "cell_type": "code",
      "source": [
        "import pyspark as ps"
      ],
      "metadata": {
        "id": "FyGJsUkSfTyc"
      },
      "execution_count": null,
      "outputs": []
    },
    {
      "cell_type": "code",
      "source": [
        "import findspark\n",
        "findspark.init()\n",
        "from pyspark.sql import SparkSession  #Connect spark code on top of spark engine\n",
        "spark = SparkSession.builder.master(\"local[4]\").getOrCreate()"
      ],
      "metadata": {
        "id": "1VFV5EcRfTwO"
      },
      "execution_count": null,
      "outputs": []
    },
    {
      "cell_type": "code",
      "source": [
        "import pyspark\n",
        "from pyspark.context import SparkContext \n",
        "\n",
        "from pyspark import SparkConf \n",
        "sc = SparkContext.getOrCreate(SparkConf().setMaster(\"local[4]\"))"
      ],
      "metadata": {
        "id": "UIC_QNg3feXg"
      },
      "execution_count": null,
      "outputs": []
    },
    {
      "cell_type": "code",
      "source": [
        "sqlContext = SQLContext(sc)\n",
        "sqlContext"
      ],
      "metadata": {
        "id": "wreReLkdfeU_",
        "colab": {
          "base_uri": "https://localhost:8080/"
        },
        "outputId": "cd855914-cef3-42c9-ce24-350ffc26724d"
      },
      "execution_count": null,
      "outputs": [
        {
          "output_type": "execute_result",
          "data": {
            "text/plain": [
              "<pyspark.sql.context.SQLContext at 0x7fbe8987f690>"
            ]
          },
          "metadata": {},
          "execution_count": 62
        }
      ]
    },
    {
      "cell_type": "code",
      "source": [
        "df = sqlContext.read.format('com.databricks.spark.csv').options(header='true', inferschema='true').load('clean_tweet.csv')"
      ],
      "metadata": {
        "id": "XZug-nUVfeS2"
      },
      "execution_count": null,
      "outputs": []
    },
    {
      "cell_type": "code",
      "source": [
        "df.printSchema()"
      ],
      "metadata": {
        "colab": {
          "base_uri": "https://localhost:8080/"
        },
        "id": "yOJji7ApPt7h",
        "outputId": "30626db5-9f75-49c9-8098-4d158e8d6db8"
      },
      "execution_count": null,
      "outputs": [
        {
          "output_type": "stream",
          "name": "stdout",
          "text": [
            "root\n",
            " |-- _c0: integer (nullable = true)\n",
            " |-- text: string (nullable = true)\n",
            " |-- target: integer (nullable = true)\n",
            " |-- clean_len: integer (nullable = true)\n",
            "\n"
          ]
        }
      ]
    },
    {
      "cell_type": "code",
      "source": [
        "type(df)"
      ],
      "metadata": {
        "id": "5byPwGGOfeQi",
        "colab": {
          "base_uri": "https://localhost:8080/"
        },
        "outputId": "b3c48020-a8d7-49dd-ea99-af877483ec48"
      },
      "execution_count": null,
      "outputs": [
        {
          "output_type": "execute_result",
          "data": {
            "text/plain": [
              "pyspark.sql.dataframe.DataFrame"
            ]
          },
          "metadata": {},
          "execution_count": 65
        }
      ]
    },
    {
      "cell_type": "code",
      "source": [
        "df.show(5)"
      ],
      "metadata": {
        "id": "mDVjrwSWfeOA",
        "colab": {
          "base_uri": "https://localhost:8080/"
        },
        "outputId": "4977b0c7-b9d4-4327-e3a1-5f82e43d7c51"
      },
      "execution_count": null,
      "outputs": [
        {
          "output_type": "stream",
          "name": "stdout",
          "text": [
            "+---+--------------------+------+---------+\n",
            "|_c0|                text|target|clean_len|\n",
            "+---+--------------------+------+---------+\n",
            "|  0|awww that bummer ...|     0|       65|\n",
            "|  1|is upset that he ...|     0|      105|\n",
            "|  2|dived many times ...|     0|       71|\n",
            "|  3|my whole body fee...|     0|       46|\n",
            "|  4|no it not behavin...|     0|       80|\n",
            "+---+--------------------+------+---------+\n",
            "only showing top 5 rows\n",
            "\n"
          ]
        }
      ]
    },
    {
      "cell_type": "code",
      "source": [
        "df=df.dropna()"
      ],
      "metadata": {
        "id": "Q7IEF36GfeJ_"
      },
      "execution_count": null,
      "outputs": []
    },
    {
      "cell_type": "code",
      "source": [
        "df.count()"
      ],
      "metadata": {
        "id": "eBigZjn1feHf",
        "colab": {
          "base_uri": "https://localhost:8080/"
        },
        "outputId": "96912ba5-038b-4f3a-cabe-6462fd9b2242"
      },
      "execution_count": null,
      "outputs": [
        {
          "output_type": "execute_result",
          "data": {
            "text/plain": [
              "19958"
            ]
          },
          "metadata": {},
          "execution_count": 68
        }
      ]
    },
    {
      "cell_type": "code",
      "source": [
        "import pandas as pd\n",
        "\n",
        "from matplotlib import pyplot as plt\n",
        "import seaborn as sns\n",
        "\n",
        "import plotly.express as px\n",
        "import plotly.graph_objects as go\n",
        "\n",
        "dataset = df.sample(0.10).toPandas()"
      ],
      "metadata": {
        "id": "ENd7E-keQSE5"
      },
      "execution_count": null,
      "outputs": []
    },
    {
      "cell_type": "code",
      "source": [
        "values = dataset['target'].value_counts().keys().tolist()\n",
        "counts = dataset['target'].value_counts().tolist()\n",
        "\n",
        "fig = px.pie(values=counts, names=['Postitive','Negative'], title='Feedback distribuition')\n",
        "fig.show()"
      ],
      "metadata": {
        "colab": {
          "base_uri": "https://localhost:8080/",
          "height": 542
        },
        "id": "znyqKAyYQTCu",
        "outputId": "1e53803d-f9e7-40fd-b46b-8654db8ef48e"
      },
      "execution_count": null,
      "outputs": [
        {
          "output_type": "display_data",
          "data": {
            "text/html": [
              "<html>\n",
              "<head><meta charset=\"utf-8\" /></head>\n",
              "<body>\n",
              "    <div>            <script src=\"https://cdnjs.cloudflare.com/ajax/libs/mathjax/2.7.5/MathJax.js?config=TeX-AMS-MML_SVG\"></script><script type=\"text/javascript\">if (window.MathJax) {MathJax.Hub.Config({SVG: {font: \"STIX-Web\"}});}</script>                <script type=\"text/javascript\">window.PlotlyConfig = {MathJaxConfig: 'local'};</script>\n",
              "        <script src=\"https://cdn.plot.ly/plotly-2.8.3.min.js\"></script>                <div id=\"54f6d92a-a8e5-4113-a1a1-0d20c10c63de\" class=\"plotly-graph-div\" style=\"height:525px; width:100%;\"></div>            <script type=\"text/javascript\">                                    window.PLOTLYENV=window.PLOTLYENV || {};                                    if (document.getElementById(\"54f6d92a-a8e5-4113-a1a1-0d20c10c63de\")) {                    Plotly.newPlot(                        \"54f6d92a-a8e5-4113-a1a1-0d20c10c63de\",                        [{\"domain\":{\"x\":[0.0,1.0],\"y\":[0.0,1.0]},\"hovertemplate\":\"label=%{label}<br>value=%{value}<extra></extra>\",\"labels\":[\"Postitive\",\"Negative\"],\"legendgroup\":\"\",\"name\":\"\",\"showlegend\":true,\"values\":[1032,996],\"type\":\"pie\"}],                        {\"template\":{\"data\":{\"bar\":[{\"error_x\":{\"color\":\"#2a3f5f\"},\"error_y\":{\"color\":\"#2a3f5f\"},\"marker\":{\"line\":{\"color\":\"#E5ECF6\",\"width\":0.5},\"pattern\":{\"fillmode\":\"overlay\",\"size\":10,\"solidity\":0.2}},\"type\":\"bar\"}],\"barpolar\":[{\"marker\":{\"line\":{\"color\":\"#E5ECF6\",\"width\":0.5},\"pattern\":{\"fillmode\":\"overlay\",\"size\":10,\"solidity\":0.2}},\"type\":\"barpolar\"}],\"carpet\":[{\"aaxis\":{\"endlinecolor\":\"#2a3f5f\",\"gridcolor\":\"white\",\"linecolor\":\"white\",\"minorgridcolor\":\"white\",\"startlinecolor\":\"#2a3f5f\"},\"baxis\":{\"endlinecolor\":\"#2a3f5f\",\"gridcolor\":\"white\",\"linecolor\":\"white\",\"minorgridcolor\":\"white\",\"startlinecolor\":\"#2a3f5f\"},\"type\":\"carpet\"}],\"choropleth\":[{\"colorbar\":{\"outlinewidth\":0,\"ticks\":\"\"},\"type\":\"choropleth\"}],\"contour\":[{\"colorbar\":{\"outlinewidth\":0,\"ticks\":\"\"},\"colorscale\":[[0.0,\"#0d0887\"],[0.1111111111111111,\"#46039f\"],[0.2222222222222222,\"#7201a8\"],[0.3333333333333333,\"#9c179e\"],[0.4444444444444444,\"#bd3786\"],[0.5555555555555556,\"#d8576b\"],[0.6666666666666666,\"#ed7953\"],[0.7777777777777778,\"#fb9f3a\"],[0.8888888888888888,\"#fdca26\"],[1.0,\"#f0f921\"]],\"type\":\"contour\"}],\"contourcarpet\":[{\"colorbar\":{\"outlinewidth\":0,\"ticks\":\"\"},\"type\":\"contourcarpet\"}],\"heatmap\":[{\"colorbar\":{\"outlinewidth\":0,\"ticks\":\"\"},\"colorscale\":[[0.0,\"#0d0887\"],[0.1111111111111111,\"#46039f\"],[0.2222222222222222,\"#7201a8\"],[0.3333333333333333,\"#9c179e\"],[0.4444444444444444,\"#bd3786\"],[0.5555555555555556,\"#d8576b\"],[0.6666666666666666,\"#ed7953\"],[0.7777777777777778,\"#fb9f3a\"],[0.8888888888888888,\"#fdca26\"],[1.0,\"#f0f921\"]],\"type\":\"heatmap\"}],\"heatmapgl\":[{\"colorbar\":{\"outlinewidth\":0,\"ticks\":\"\"},\"colorscale\":[[0.0,\"#0d0887\"],[0.1111111111111111,\"#46039f\"],[0.2222222222222222,\"#7201a8\"],[0.3333333333333333,\"#9c179e\"],[0.4444444444444444,\"#bd3786\"],[0.5555555555555556,\"#d8576b\"],[0.6666666666666666,\"#ed7953\"],[0.7777777777777778,\"#fb9f3a\"],[0.8888888888888888,\"#fdca26\"],[1.0,\"#f0f921\"]],\"type\":\"heatmapgl\"}],\"histogram\":[{\"marker\":{\"pattern\":{\"fillmode\":\"overlay\",\"size\":10,\"solidity\":0.2}},\"type\":\"histogram\"}],\"histogram2d\":[{\"colorbar\":{\"outlinewidth\":0,\"ticks\":\"\"},\"colorscale\":[[0.0,\"#0d0887\"],[0.1111111111111111,\"#46039f\"],[0.2222222222222222,\"#7201a8\"],[0.3333333333333333,\"#9c179e\"],[0.4444444444444444,\"#bd3786\"],[0.5555555555555556,\"#d8576b\"],[0.6666666666666666,\"#ed7953\"],[0.7777777777777778,\"#fb9f3a\"],[0.8888888888888888,\"#fdca26\"],[1.0,\"#f0f921\"]],\"type\":\"histogram2d\"}],\"histogram2dcontour\":[{\"colorbar\":{\"outlinewidth\":0,\"ticks\":\"\"},\"colorscale\":[[0.0,\"#0d0887\"],[0.1111111111111111,\"#46039f\"],[0.2222222222222222,\"#7201a8\"],[0.3333333333333333,\"#9c179e\"],[0.4444444444444444,\"#bd3786\"],[0.5555555555555556,\"#d8576b\"],[0.6666666666666666,\"#ed7953\"],[0.7777777777777778,\"#fb9f3a\"],[0.8888888888888888,\"#fdca26\"],[1.0,\"#f0f921\"]],\"type\":\"histogram2dcontour\"}],\"mesh3d\":[{\"colorbar\":{\"outlinewidth\":0,\"ticks\":\"\"},\"type\":\"mesh3d\"}],\"parcoords\":[{\"line\":{\"colorbar\":{\"outlinewidth\":0,\"ticks\":\"\"}},\"type\":\"parcoords\"}],\"pie\":[{\"automargin\":true,\"type\":\"pie\"}],\"scatter\":[{\"marker\":{\"colorbar\":{\"outlinewidth\":0,\"ticks\":\"\"}},\"type\":\"scatter\"}],\"scatter3d\":[{\"line\":{\"colorbar\":{\"outlinewidth\":0,\"ticks\":\"\"}},\"marker\":{\"colorbar\":{\"outlinewidth\":0,\"ticks\":\"\"}},\"type\":\"scatter3d\"}],\"scattercarpet\":[{\"marker\":{\"colorbar\":{\"outlinewidth\":0,\"ticks\":\"\"}},\"type\":\"scattercarpet\"}],\"scattergeo\":[{\"marker\":{\"colorbar\":{\"outlinewidth\":0,\"ticks\":\"\"}},\"type\":\"scattergeo\"}],\"scattergl\":[{\"marker\":{\"colorbar\":{\"outlinewidth\":0,\"ticks\":\"\"}},\"type\":\"scattergl\"}],\"scattermapbox\":[{\"marker\":{\"colorbar\":{\"outlinewidth\":0,\"ticks\":\"\"}},\"type\":\"scattermapbox\"}],\"scatterpolar\":[{\"marker\":{\"colorbar\":{\"outlinewidth\":0,\"ticks\":\"\"}},\"type\":\"scatterpolar\"}],\"scatterpolargl\":[{\"marker\":{\"colorbar\":{\"outlinewidth\":0,\"ticks\":\"\"}},\"type\":\"scatterpolargl\"}],\"scatterternary\":[{\"marker\":{\"colorbar\":{\"outlinewidth\":0,\"ticks\":\"\"}},\"type\":\"scatterternary\"}],\"surface\":[{\"colorbar\":{\"outlinewidth\":0,\"ticks\":\"\"},\"colorscale\":[[0.0,\"#0d0887\"],[0.1111111111111111,\"#46039f\"],[0.2222222222222222,\"#7201a8\"],[0.3333333333333333,\"#9c179e\"],[0.4444444444444444,\"#bd3786\"],[0.5555555555555556,\"#d8576b\"],[0.6666666666666666,\"#ed7953\"],[0.7777777777777778,\"#fb9f3a\"],[0.8888888888888888,\"#fdca26\"],[1.0,\"#f0f921\"]],\"type\":\"surface\"}],\"table\":[{\"cells\":{\"fill\":{\"color\":\"#EBF0F8\"},\"line\":{\"color\":\"white\"}},\"header\":{\"fill\":{\"color\":\"#C8D4E3\"},\"line\":{\"color\":\"white\"}},\"type\":\"table\"}]},\"layout\":{\"annotationdefaults\":{\"arrowcolor\":\"#2a3f5f\",\"arrowhead\":0,\"arrowwidth\":1},\"autotypenumbers\":\"strict\",\"coloraxis\":{\"colorbar\":{\"outlinewidth\":0,\"ticks\":\"\"}},\"colorscale\":{\"diverging\":[[0,\"#8e0152\"],[0.1,\"#c51b7d\"],[0.2,\"#de77ae\"],[0.3,\"#f1b6da\"],[0.4,\"#fde0ef\"],[0.5,\"#f7f7f7\"],[0.6,\"#e6f5d0\"],[0.7,\"#b8e186\"],[0.8,\"#7fbc41\"],[0.9,\"#4d9221\"],[1,\"#276419\"]],\"sequential\":[[0.0,\"#0d0887\"],[0.1111111111111111,\"#46039f\"],[0.2222222222222222,\"#7201a8\"],[0.3333333333333333,\"#9c179e\"],[0.4444444444444444,\"#bd3786\"],[0.5555555555555556,\"#d8576b\"],[0.6666666666666666,\"#ed7953\"],[0.7777777777777778,\"#fb9f3a\"],[0.8888888888888888,\"#fdca26\"],[1.0,\"#f0f921\"]],\"sequentialminus\":[[0.0,\"#0d0887\"],[0.1111111111111111,\"#46039f\"],[0.2222222222222222,\"#7201a8\"],[0.3333333333333333,\"#9c179e\"],[0.4444444444444444,\"#bd3786\"],[0.5555555555555556,\"#d8576b\"],[0.6666666666666666,\"#ed7953\"],[0.7777777777777778,\"#fb9f3a\"],[0.8888888888888888,\"#fdca26\"],[1.0,\"#f0f921\"]]},\"colorway\":[\"#636efa\",\"#EF553B\",\"#00cc96\",\"#ab63fa\",\"#FFA15A\",\"#19d3f3\",\"#FF6692\",\"#B6E880\",\"#FF97FF\",\"#FECB52\"],\"font\":{\"color\":\"#2a3f5f\"},\"geo\":{\"bgcolor\":\"white\",\"lakecolor\":\"white\",\"landcolor\":\"#E5ECF6\",\"showlakes\":true,\"showland\":true,\"subunitcolor\":\"white\"},\"hoverlabel\":{\"align\":\"left\"},\"hovermode\":\"closest\",\"mapbox\":{\"style\":\"light\"},\"paper_bgcolor\":\"white\",\"plot_bgcolor\":\"#E5ECF6\",\"polar\":{\"angularaxis\":{\"gridcolor\":\"white\",\"linecolor\":\"white\",\"ticks\":\"\"},\"bgcolor\":\"#E5ECF6\",\"radialaxis\":{\"gridcolor\":\"white\",\"linecolor\":\"white\",\"ticks\":\"\"}},\"scene\":{\"xaxis\":{\"backgroundcolor\":\"#E5ECF6\",\"gridcolor\":\"white\",\"gridwidth\":2,\"linecolor\":\"white\",\"showbackground\":true,\"ticks\":\"\",\"zerolinecolor\":\"white\"},\"yaxis\":{\"backgroundcolor\":\"#E5ECF6\",\"gridcolor\":\"white\",\"gridwidth\":2,\"linecolor\":\"white\",\"showbackground\":true,\"ticks\":\"\",\"zerolinecolor\":\"white\"},\"zaxis\":{\"backgroundcolor\":\"#E5ECF6\",\"gridcolor\":\"white\",\"gridwidth\":2,\"linecolor\":\"white\",\"showbackground\":true,\"ticks\":\"\",\"zerolinecolor\":\"white\"}},\"shapedefaults\":{\"line\":{\"color\":\"#2a3f5f\"}},\"ternary\":{\"aaxis\":{\"gridcolor\":\"white\",\"linecolor\":\"white\",\"ticks\":\"\"},\"baxis\":{\"gridcolor\":\"white\",\"linecolor\":\"white\",\"ticks\":\"\"},\"bgcolor\":\"#E5ECF6\",\"caxis\":{\"gridcolor\":\"white\",\"linecolor\":\"white\",\"ticks\":\"\"}},\"title\":{\"x\":0.05},\"xaxis\":{\"automargin\":true,\"gridcolor\":\"white\",\"linecolor\":\"white\",\"ticks\":\"\",\"title\":{\"standoff\":15},\"zerolinecolor\":\"white\",\"zerolinewidth\":2},\"yaxis\":{\"automargin\":true,\"gridcolor\":\"white\",\"linecolor\":\"white\",\"ticks\":\"\",\"title\":{\"standoff\":15},\"zerolinecolor\":\"white\",\"zerolinewidth\":2}}},\"legend\":{\"tracegroupgap\":0},\"title\":{\"text\":\"Feedback distribuition\"}},                        {\"responsive\": true}                    ).then(function(){\n",
              "                            \n",
              "var gd = document.getElementById('54f6d92a-a8e5-4113-a1a1-0d20c10c63de');\n",
              "var x = new MutationObserver(function (mutations, observer) {{\n",
              "        var display = window.getComputedStyle(gd).display;\n",
              "        if (!display || display === 'none') {{\n",
              "            console.log([gd, 'removed!']);\n",
              "            Plotly.purge(gd);\n",
              "            observer.disconnect();\n",
              "        }}\n",
              "}});\n",
              "\n",
              "// Listen for the removal of the full notebook cells\n",
              "var notebookContainer = gd.closest('#notebook-container');\n",
              "if (notebookContainer) {{\n",
              "    x.observe(notebookContainer, {childList: true});\n",
              "}}\n",
              "\n",
              "// Listen for the clearing of the current output cell\n",
              "var outputEl = gd.closest('.output');\n",
              "if (outputEl) {{\n",
              "    x.observe(outputEl, {childList: true});\n",
              "}}\n",
              "\n",
              "                        })                };                            </script>        </div>\n",
              "</body>\n",
              "</html>"
            ]
          },
          "metadata": {}
        }
      ]
    },
    {
      "cell_type": "markdown",
      "source": [
        "Splitting the dataset into train and test"
      ],
      "metadata": {
        "id": "EDX5LhcVP-05"
      }
    },
    {
      "cell_type": "code",
      "source": [
        "(train_set, val_set, test_set) = df.randomSplit([0.98, 0.01, 0.01], seed = 2000)"
      ],
      "metadata": {
        "id": "VPT4shNOfeFj"
      },
      "execution_count": null,
      "outputs": []
    },
    {
      "cell_type": "code",
      "source": [
        "from pyspark.ml.feature import HashingTF, IDF, Tokenizer, CountVectorizer\n",
        "from pyspark.ml.feature import StringIndexer\n",
        "from pyspark.ml import Pipeline\n",
        "from pyspark.ml.classification import LogisticRegression\n",
        "from pyspark.ml.evaluation import BinaryClassificationEvaluator"
      ],
      "metadata": {
        "id": "30D7WSwjfeDR"
      },
      "execution_count": null,
      "outputs": []
    },
    {
      "cell_type": "code",
      "source": [
        "from pyspark.ml.feature import HashingTF, IDF, Tokenizer\n",
        "from pyspark.ml.feature import StringIndexer\n",
        "from pyspark.ml import Pipeline\n",
        "\n",
        "tokenizer = Tokenizer(inputCol=\"text\", outputCol=\"words\")\n",
        "hashtf = HashingTF(numFeatures=2**16, inputCol=\"words\", outputCol='tf')\n",
        "idf = IDF(inputCol='tf', outputCol=\"features\", minDocFreq=5) #minDocFreq: remove sparse terms\n",
        "label_stringIdx = StringIndexer(inputCol = \"target\", outputCol = \"label\")\n",
        "pipeline = Pipeline(stages=[tokenizer, hashtf, idf, label_stringIdx])\n",
        "\n",
        "pipelineFit = pipeline.fit(train_set)\n",
        "train_df = pipelineFit.transform(train_set)\n",
        "val_df = pipelineFit.transform(val_set)\n",
        "train_df.show(5)"
      ],
      "metadata": {
        "id": "zNs0qr6nfeAw",
        "colab": {
          "base_uri": "https://localhost:8080/"
        },
        "outputId": "d197b2b1-9c12-46cc-8814-4affbfe2aacc"
      },
      "execution_count": null,
      "outputs": [
        {
          "output_type": "stream",
          "name": "stdout",
          "text": [
            "+---+--------------------+------+---------+--------------------+--------------------+--------------------+-----+\n",
            "|_c0|                text|target|clean_len|               words|                  tf|            features|label|\n",
            "+---+--------------------+------+---------+--------------------+--------------------+--------------------+-----+\n",
            "|  0|awww that bummer ...|     0|       65|[awww, that, bumm...|(65536,[18354,216...|(65536,[18354,216...|  1.0|\n",
            "|  1|is upset that he ...|     0|      105|[is, upset, that,...|(65536,[1981,3085...|(65536,[1981,3085...|  1.0|\n",
            "|  2|dived many times ...|     0|       71|[dived, many, tim...|(65536,[2548,2888...|(65536,[2548,2888...|  1.0|\n",
            "|  3|my whole body fee...|     0|       46|[my, whole, body,...|(65536,[1880,9243...|(65536,[1880,9243...|  1.0|\n",
            "|  4|no it not behavin...|     0|       80|[no, it, not, beh...|(65536,[1968,8538...|(65536,[1968,8538...|  1.0|\n",
            "+---+--------------------+------+---------+--------------------+--------------------+--------------------+-----+\n",
            "only showing top 5 rows\n",
            "\n"
          ]
        }
      ]
    },
    {
      "cell_type": "code",
      "source": [
        "train_df.count()"
      ],
      "metadata": {
        "colab": {
          "base_uri": "https://localhost:8080/"
        },
        "id": "Qc-pFc9wUU0b",
        "outputId": "53f33bce-b91a-464f-c89b-aa0143c43eda"
      },
      "execution_count": null,
      "outputs": [
        {
          "output_type": "execute_result",
          "data": {
            "text/plain": [
              "19570"
            ]
          },
          "metadata": {},
          "execution_count": 97
        }
      ]
    },
    {
      "cell_type": "code",
      "source": [
        "val_df.tail(10)"
      ],
      "metadata": {
        "colab": {
          "base_uri": "https://localhost:8080/"
        },
        "id": "pwoMhp8XT4ob",
        "outputId": "cde45376-dd81-4516-ec19-3deb415ca617"
      },
      "execution_count": null,
      "outputs": [
        {
          "output_type": "execute_result",
          "data": {
            "text/plain": [
              "[Row(_c0=18934, text='let me see listened to can play with madness the clairvoyant mother russia and minutes to midnight', target=4, clean_len=98, words=['let', 'me', 'see', 'listened', 'to', 'can', 'play', 'with', 'madness', 'the', 'clairvoyant', 'mother', 'russia', 'and', 'minutes', 'to', 'midnight'], tf=SparseVector(65536, {8538: 1.0, 12130: 1.0, 14587: 1.0, 15910: 1.0, 23307: 1.0, 25414: 1.0, 27576: 2.0, 30353: 1.0, 34400: 1.0, 40055: 1.0, 42267: 1.0, 42901: 1.0, 48818: 1.0, 50001: 1.0, 58445: 1.0, 60930: 1.0}), features=SparseVector(65536, {8538: 3.628, 12130: 3.777, 14587: 0.0, 15910: 5.7875, 23307: 1.7374, 25414: 0.0, 27576: 2.4293, 30353: 1.3239, 34400: 7.1738, 40055: 6.9914, 42267: 4.6614, 42901: 2.8778, 48818: 6.6237, 50001: 2.3913, 58445: 5.1723, 60930: 2.6957}), label=0.0),\n",
              " Row(_c0=19131, text='like the new hair', target=4, clean_len=17, words=['like', 'the', 'new', 'hair'], tf=SparseVector(65536, {11650: 1.0, 24297: 1.0, 30353: 1.0, 61232: 1.0}), features=SparseVector(65536, {11650: 3.133, 24297: 3.5432, 30353: 1.3239, 61232: 5.5643}), label=0.0),\n",
              " Row(_c0=19313, text='lol that would be the best', target=4, clean_len=26, words=['lol', 'that', 'would', 'be', 'the', 'best'], tf=SparseVector(65536, {6783: 1.0, 14135: 1.0, 30353: 1.0, 34955: 1.0, 41809: 1.0, 48448: 1.0}), features=SparseVector(65536, {6783: 4.0499, 14135: 2.6806, 30353: 1.3239, 34955: 4.5686, 41809: 3.5292, 48448: 2.3285}), label=0.0),\n",
              " Row(_c0=19536, text='sheesh that lot of money you ve reminded me to put my stuff away and keep it nice', target=4, clean_len=81, words=['sheesh', 'that', 'lot', 'of', 'money', 'you', 've', 'reminded', 'me', 'to', 'put', 'my', 'stuff', 'away', 'and', 'keep', 'it', 'nice'], tf=SparseVector(65536, {3639: 1.0, 3861: 1.0, 5780: 1.0, 9129: 1.0, 12215: 1.0, 15674: 1.0, 18354: 1.0, 22346: 1.0, 22479: 1.0, 23307: 1.0, 27576: 1.0, 30950: 1.0, 32890: 1.0, 44336: 1.0, 48448: 1.0, 48991: 1.0, 50001: 1.0, 61401: 1.0}), features=SparseVector(65536, {3639: 5.7074, 3861: 4.1356, 5780: 0.0, 9129: 4.8004, 12215: 5.086, 15674: 5.0143, 18354: 1.917, 22346: 4.2328, 22479: 2.1993, 23307: 1.7374, 27576: 1.2146, 30950: 1.766, 32890: 4.8514, 44336: 1.7497, 48448: 2.3285, 48991: 5.1723, 50001: 2.3913, 61401: 0.0}), label=0.0),\n",
              " Row(_c0=19572, text='freshman again learning how to read my schedule hahah mostly just missing math for', target=4, clean_len=82, words=['freshman', 'again', 'learning', 'how', 'to', 'read', 'my', 'schedule', 'hahah', 'mostly', 'just', 'missing', 'math', 'for'], tf=SparseVector(65536, {731: 1.0, 835: 1.0, 19478: 1.0, 24360: 1.0, 27576: 1.0, 30780: 1.0, 31635: 1.0, 32912: 1.0, 41240: 1.0, 44336: 1.0, 45843: 1.0, 46854: 1.0, 53570: 1.0, 62145: 1.0}), features=SparseVector(65536, {731: 5.3279, 835: 3.6127, 19478: 7.1092, 24360: 7.3169, 27576: 1.2146, 30780: 6.6237, 31635: 2.5619, 32912: 7.1738, 41240: 2.0251, 44336: 1.7497, 45843: 3.8954, 46854: 7.0486, 53570: 5.2184, 62145: 0.0}), label=0.0),\n",
              " Row(_c0=19632, text='followers', target=4, clean_len=9, words=['followers'], tf=SparseVector(65536, {60502: 1.0}), features=SparseVector(65536, {60502: 5.4874}), label=0.0),\n",
              " Row(_c0=19794, text='did not realize you had shop really cute stuff', target=4, clean_len=46, words=['did', 'not', 'realize', 'you', 'had', 'shop', 'really', 'cute', 'stuff'], tf=SparseVector(65536, {4254: 1.0, 13003: 1.0, 15674: 1.0, 18354: 1.0, 23837: 1.0, 25085: 1.0, 32656: 1.0, 38665: 1.0, 54507: 1.0}), features=SparseVector(65536, {4254: 7.2427, 13003: 6.3265, 15674: 5.0143, 18354: 1.917, 23837: 5.5777, 25085: 1.7914, 32656: 3.5737, 38665: 3.5362, 54507: 3.5884}), label=0.0),\n",
              " Row(_c0=19838, text='new to the twitta someone help', target=4, clean_len=30, words=['new', 'to', 'the', 'twitta', 'someone', 'help'], tf=SparseVector(65536, {16967: 1.0, 24297: 1.0, 27576: 1.0, 30353: 1.0, 31614: 1.0, 43251: 1.0}), features=SparseVector(65536, {16967: 4.933, 24297: 3.5432, 27576: 1.2146, 30353: 1.3239, 31614: 0.0, 43251: 4.8579}), label=0.0),\n",
              " Row(_c0=19865, text='ve watched spongebob now going find gr coffee spot this did not even feel like public holiday', target=4, clean_len=93, words=['ve', 'watched', 'spongebob', 'now', 'going', 'find', 'gr', 'coffee', 'spot', 'this', 'did', 'not', 'even', 'feel', 'like', 'public', 'holiday'], tf=SparseVector(65536, {3861: 1.0, 9836: 1.0, 11650: 1.0, 12109: 1.0, 16666: 1.0, 25085: 1.0, 26342: 1.0, 28140: 1.0, 36846: 1.0, 42914: 1.0, 43005: 1.0, 43434: 1.0, 43894: 1.0, 44923: 1.0, 47263: 1.0, 54507: 1.0, 61899: 1.0}), features=SparseVector(65536, {3861: 4.1356, 9836: 7.2427, 11650: 3.133, 12109: 5.6191, 16666: 2.8751, 25085: 1.7914, 26342: 4.5785, 28140: 4.933, 36846: 3.2341, 42914: 7.3169, 43005: 2.7366, 43434: 7.3169, 43894: 4.3765, 44923: 5.6623, 47263: 6.2442, 54507: 3.5884, 61899: 4.0069}), label=0.0),\n",
              " Row(_c0=19986, text='too much ads on my blog', target=4, clean_len=23, words=['too', 'much', 'ads', 'on', 'my', 'blog'], tf=SparseVector(65536, {1880: 1.0, 5923: 1.0, 11228: 1.0, 20785: 1.0, 44336: 1.0, 51542: 1.0}), features=SparseVector(65536, {1880: 2.3343, 5923: 3.1508, 11228: 3.8065, 20785: 5.6333, 44336: 1.7497, 51542: 8.09}), label=0.0)]"
            ]
          },
          "metadata": {},
          "execution_count": 99
        }
      ]
    },
    {
      "cell_type": "code",
      "source": [
        "val_df.count()"
      ],
      "metadata": {
        "colab": {
          "base_uri": "https://localhost:8080/"
        },
        "id": "0ZBPfINRT_rH",
        "outputId": "a1de616d-150f-4b14-8812-ad4b8970bfa0"
      },
      "execution_count": null,
      "outputs": [
        {
          "output_type": "execute_result",
          "data": {
            "text/plain": [
              "187"
            ]
          },
          "metadata": {},
          "execution_count": 96
        }
      ]
    },
    {
      "cell_type": "markdown",
      "source": [
        "**Decision Tree**"
      ],
      "metadata": {
        "id": "2VdA5kV2lfRa"
      }
    },
    {
      "cell_type": "code",
      "source": [
        "from pyspark.ml.classification import DecisionTreeClassifier\n",
        "dt = DecisionTreeClassifier(featuresCol = 'features', labelCol = 'label', maxDepth = 3)\n",
        "dtModel = dt.fit(train_df)\n",
        "predictions1 = dtModel.transform(val_df)"
      ],
      "metadata": {
        "id": "DmPSjUTolkON"
      },
      "execution_count": null,
      "outputs": []
    },
    {
      "cell_type": "code",
      "source": [
        "evaluator = BinaryClassificationEvaluator()\n",
        "print(\"Test Area Under ROC: \" + str(evaluator.evaluate(predictions1, {evaluator.metricName: \"areaUnderROC\"})))"
      ],
      "metadata": {
        "colab": {
          "base_uri": "https://localhost:8080/"
        },
        "id": "ZqB56QrVmuCZ",
        "outputId": "d1dc1574-20e6-4799-9d22-33ef6edcb049"
      },
      "execution_count": null,
      "outputs": [
        {
          "output_type": "stream",
          "name": "stdout",
          "text": [
            "Test Area Under ROC: 0.5346597462514417\n"
          ]
        }
      ]
    },
    {
      "cell_type": "markdown",
      "source": [
        "**Random Forest Classifier**"
      ],
      "metadata": {
        "id": "VL3krSgAqqxP"
      }
    },
    {
      "cell_type": "code",
      "source": [
        "from pyspark.ml.classification import RandomForestClassifier\n",
        "rf = RandomForestClassifier(featuresCol = 'features', labelCol = 'label')\n",
        "rfModel = rf.fit(train_df)\n",
        "predictions2 = rfModel.transform(val_df)"
      ],
      "metadata": {
        "id": "elrlI7r9q0nx"
      },
      "execution_count": null,
      "outputs": []
    },
    {
      "cell_type": "code",
      "source": [
        "evaluator = BinaryClassificationEvaluator()\n",
        "print(\"Test Area Under ROC: \" + str(evaluator.evaluate(predictions2, {evaluator.metricName: \"areaUnderROC\"})))"
      ],
      "metadata": {
        "colab": {
          "base_uri": "https://localhost:8080/"
        },
        "id": "t8Vz89Oyq6Td",
        "outputId": "39db3360-ea71-4de9-8e86-27ba09af54d3"
      },
      "execution_count": null,
      "outputs": [
        {
          "output_type": "stream",
          "name": "stdout",
          "text": [
            "Test Area Under ROC: 0.6645905420991927\n"
          ]
        }
      ]
    },
    {
      "cell_type": "markdown",
      "source": [
        "**NAIVE BAYES**"
      ],
      "metadata": {
        "id": "sy007k1jMGF5"
      }
    },
    {
      "cell_type": "code",
      "source": [
        "from pyspark.ml.classification import NaiveBayes \n",
        "from pyspark.ml.evaluation import MulticlassClassificationEvaluator"
      ],
      "metadata": {
        "id": "hHmjIK52LdgS"
      },
      "execution_count": null,
      "outputs": []
    },
    {
      "cell_type": "code",
      "source": [
        "nb = NaiveBayes(modelType=\"multinomial\")"
      ],
      "metadata": {
        "id": "EO8Lo4kqLU7O"
      },
      "execution_count": null,
      "outputs": []
    },
    {
      "cell_type": "code",
      "source": [
        "nbmodel = nb.fit(train_df)"
      ],
      "metadata": {
        "id": "4D4NaksdLXYJ"
      },
      "execution_count": null,
      "outputs": []
    },
    {
      "cell_type": "code",
      "source": [
        "predictions_df = nbmodel.transform(val_df)\n",
        "predictions_df.show(5, True)"
      ],
      "metadata": {
        "colab": {
          "base_uri": "https://localhost:8080/"
        },
        "id": "yfaItdjeLbn7",
        "outputId": "4f966765-b4df-4ad1-ebc5-2a426735e199"
      },
      "execution_count": null,
      "outputs": [
        {
          "output_type": "stream",
          "name": "stdout",
          "text": [
            "+---+--------------------+------+---------+--------------------+--------------------+--------------------+-----+--------------------+--------------------+----------+\n",
            "|_c0|                text|target|clean_len|               words|                  tf|            features|label|       rawPrediction|         probability|prediction|\n",
            "+---+--------------------+------+---------+--------------------+--------------------+--------------------+-----+--------------------+--------------------+----------+\n",
            "|135|            agh snow|     0|        8|         [agh, snow]|(65536,[19988,456...|(65536,[19988,456...|  1.0|[-54.872194047438...|[1.68730784359987...|       1.0|\n",
            "|237|want tacos and ma...|     0|       46|[want, tacos, and...|(65536,[14013,233...|(65536,[14013,233...|  1.0|[-170.43375268799...|[0.99999719858520...|       0.0|\n",
            "|513|dammit need to st...|     0|       36|[dammit, need, to...|(65536,[5660,1762...|(65536,[5660,1762...|  1.0|[-209.82521822276...|[1.03396716836989...|       1.0|\n",
            "|537|ill so cant go to...|     0|       28|[ill, so, cant, g...|(65536,[3785,1760...|(65536,[3785,1760...|  1.0|[-121.89646644501...|[4.69532565947034...|       1.0|\n",
            "|594|im in the mood fo...|     0|       64|[im, in, the, moo...|(65536,[2576,1666...|(65536,[2576,1666...|  1.0|[-301.30479743480...|[1.93617220244333...|       1.0|\n",
            "+---+--------------------+------+---------+--------------------+--------------------+--------------------+-----+--------------------+--------------------+----------+\n",
            "only showing top 5 rows\n",
            "\n"
          ]
        }
      ]
    },
    {
      "cell_type": "code",
      "source": [
        "evaluator = MulticlassClassificationEvaluator(labelCol=\"label\", predictionCol=\"prediction\", metricName=\"accuracy\") \n",
        "nbaccuracy = evaluator.evaluate(predictions_df) \n",
        "print(\"Test accuracy = \" + str(nbaccuracy))"
      ],
      "metadata": {
        "colab": {
          "base_uri": "https://localhost:8080/"
        },
        "id": "Eygc0250L8zq",
        "outputId": "85c942c5-3571-4e17-d894-ddcb622fbde0"
      },
      "execution_count": null,
      "outputs": [
        {
          "output_type": "stream",
          "name": "stdout",
          "text": [
            "Test accuracy = 0.7754010695187166\n"
          ]
        }
      ]
    },
    {
      "cell_type": "markdown",
      "source": [
        "**Logistic Regression**"
      ],
      "metadata": {
        "id": "f1WA7OHpk_92"
      }
    },
    {
      "cell_type": "code",
      "source": [
        "from pyspark.ml.classification import LogisticRegression\n",
        "lr = LogisticRegression(maxIter=100)\n",
        "lrModel = lr.fit(train_df)\n",
        "predictions = lrModel.transform(val_df)"
      ],
      "metadata": {
        "id": "g2PTVSVTfd-Q"
      },
      "execution_count": null,
      "outputs": []
    },
    {
      "cell_type": "code",
      "source": [
        "trainingSummary = lrModel.summary\n",
        "roc = trainingSummary.roc.toPandas()\n",
        "plt.plot(roc['FPR'],roc['TPR'])\n",
        "plt.ylabel('False Positive Rate')\n",
        "plt.xlabel('True Positive Rate')\n",
        "plt.title('ROC Curve')\n",
        "plt.show()\n",
        "print('Training set areaUnderROC: ' + str(trainingSummary.areaUnderROC))"
      ],
      "metadata": {
        "colab": {
          "base_uri": "https://localhost:8080/",
          "height": 311
        },
        "id": "LW4scrU5lEl5",
        "outputId": "aa55eed8-67a8-4db9-a898-4ea88ad4a6bd"
      },
      "execution_count": null,
      "outputs": [
        {
          "output_type": "display_data",
          "data": {
            "text/plain": [
              "<Figure size 432x288 with 1 Axes>"
            ],
            "image/png": "[encoded data removed]"
          },
          "metadata": {
            "image/png": {
              "width": 425,
              "height": 277
            },
            "needs_background": "light"
          }
        },
        {
          "output_type": "stream",
          "name": "stdout",
          "text": [
            "Training set areaUnderROC: 0.9311603984572168\n"
          ]
        }
      ]
    },
    {
      "cell_type": "code",
      "source": [
        "pr = trainingSummary.pr.toPandas()\n",
        "plt.plot(pr['recall'],pr['precision'])\n",
        "plt.ylabel('Precision')\n",
        "plt.xlabel('Recall')\n",
        "plt.show()"
      ],
      "metadata": {
        "colab": {
          "base_uri": "https://localhost:8080/",
          "height": 277
        },
        "id": "eJf5DTVMldNB",
        "outputId": "2fd25089-1932-49b7-8bbe-b448a5e2431e"
      },
      "execution_count": null,
      "outputs": [
        {
          "output_type": "display_data",
          "data": {
            "text/plain": [
              "<Figure size 432x288 with 1 Axes>"
            ],
            "image/png": "[encoded data removed]"
          },
          "metadata": {
            "image/png": {
              "width": 425,
              "height": 260
            },
            "needs_background": "light"
          }
        }
      ]
    },
    {
      "cell_type": "markdown",
      "source": [
        "We are using Logistic Regression as it has ROC score as 0.93"
      ],
      "metadata": {
        "id": "wj0IoVyBtHjw"
      }
    },
    {
      "cell_type": "code",
      "source": [
        "from pyspark.ml.evaluation import BinaryClassificationEvaluator\n",
        "evaluator = BinaryClassificationEvaluator(rawPredictionCol=\"rawPrediction\")\n",
        "evaluator.evaluate(predictions)"
      ],
      "metadata": {
        "colab": {
          "base_uri": "https://localhost:8080/"
        },
        "id": "G6RMIOaUo2G-",
        "outputId": "398495b9-759e-4eb4-8f6b-caf3633fd8ec"
      },
      "execution_count": null,
      "outputs": [
        {
          "output_type": "execute_result",
          "data": {
            "text/plain": [
              "0.8079584775086506"
            ]
          },
          "metadata": {},
          "execution_count": 100
        }
      ]
    },
    {
      "cell_type": "code",
      "source": [
        "evaluator.getMetricName()"
      ],
      "metadata": {
        "id": "dXKFrXUBfzlm",
        "colab": {
          "base_uri": "https://localhost:8080/",
          "height": 35
        },
        "outputId": "55b1f690-5ca8-43ec-875f-da1d6407b703"
      },
      "execution_count": null,
      "outputs": [
        {
          "output_type": "execute_result",
          "data": {
            "text/plain": [
              "'areaUnderROC'"
            ],
            "application/vnd.google.colaboratory.intrinsic+json": {
              "type": "string"
            }
          },
          "metadata": {},
          "execution_count": 101
        }
      ]
    },
    {
      "cell_type": "code",
      "source": [
        "accuracy = predictions.filter(predictions.label == predictions.prediction).count() / float(val_set.count())\n",
        "accuracy"
      ],
      "metadata": {
        "id": "HsENVKbrfzcA",
        "colab": {
          "base_uri": "https://localhost:8080/"
        },
        "outputId": "4c209455-5e5c-4b03-cecb-51ceb181d82a"
      },
      "execution_count": null,
      "outputs": [
        {
          "output_type": "execute_result",
          "data": {
            "text/plain": [
              "0.7540106951871658"
            ]
          },
          "metadata": {},
          "execution_count": 102
        }
      ]
    },
    {
      "cell_type": "code",
      "source": [
        "%%time\n",
        "from pyspark.ml.feature import CountVectorizer\n",
        "\n",
        "tokenizer = Tokenizer(inputCol=\"text\", outputCol=\"words\")\n",
        "cv = CountVectorizer(vocabSize=2**16, inputCol=\"words\", outputCol='cv')\n",
        "idf = IDF(inputCol='cv', outputCol=\"features\", minDocFreq=5) #minDocFreq: remove sparse terms\n",
        "label_stringIdx = StringIndexer(inputCol = \"target\", outputCol = \"label\")\n",
        "lr = LogisticRegression(maxIter=100)\n",
        "pipeline = Pipeline(stages=[tokenizer, cv, idf, label_stringIdx, lr])\n",
        "\n",
        "pipelineFit = pipeline.fit(train_set)\n",
        "predictions = pipelineFit.transform(val_set)\n",
        "accuracy = predictions.filter(predictions.label == predictions.prediction).count() / float(val_set.count())\n",
        "roc_auc = evaluator.evaluate(predictions)\n",
        "\n",
        "print (\"Accuracy Score: {0:.4f}\".format(accuracy))\n",
        "print (\"ROC-AUC: {0:.4f}\".format(roc_auc))"
      ],
      "metadata": {
        "id": "AAiQXGZnfzZe",
        "colab": {
          "base_uri": "https://localhost:8080/"
        },
        "outputId": "c03c12c3-fb41-4214-de8a-59e953fd6998"
      },
      "execution_count": null,
      "outputs": [
        {
          "output_type": "stream",
          "name": "stdout",
          "text": [
            "Accuracy Score: 0.7594\n",
            "ROC-AUC: 0.8201\n",
            "CPU times: user 196 ms, sys: 17.8 ms, total: 214 ms\n",
            "Wall time: 15.5 s\n"
          ]
        }
      ]
    },
    {
      "cell_type": "code",
      "source": [
        "from pyspark.ml.feature import NGram, VectorAssembler\n",
        "from pyspark.ml.feature import ChiSqSelector\n",
        "\n",
        "def build_trigrams(inputCol=[\"text\",\"target\"], n=3):\n",
        "    tokenizer = [Tokenizer(inputCol=\"text\", outputCol=\"words\")]\n",
        "    ngrams = [\n",
        "        NGram(n=i, inputCol=\"words\", outputCol=\"{0}_grams\".format(i))\n",
        "        for i in range(1, n + 1)\n",
        "    ]\n",
        "\n",
        "    cv = [\n",
        "        CountVectorizer(vocabSize=2**14,inputCol=\"{0}_grams\".format(i),\n",
        "            outputCol=\"{0}_tf\".format(i))\n",
        "        for i in range(1, n + 1)\n",
        "    ]\n",
        "    idf = [IDF(inputCol=\"{0}_tf\".format(i), outputCol=\"{0}_tfidf\".format(i), minDocFreq=5) for i in range(1, n + 1)]\n",
        "\n",
        "    assembler = [VectorAssembler(\n",
        "        inputCols=[\"{0}_tfidf\".format(i) for i in range(1, n + 1)],\n",
        "        outputCol=\"rawFeatures\"\n",
        "    )]\n",
        "    label_stringIdx = [StringIndexer(inputCol = \"target\", outputCol = \"label\")]\n",
        "    selector = [ChiSqSelector(numTopFeatures=2**14,featuresCol='rawFeatures', outputCol=\"features\")]\n",
        "    lr = [LogisticRegression(maxIter=100)]\n",
        "    return Pipeline(stages=tokenizer + ngrams + cv + idf+ assembler + label_stringIdx+selector+lr)"
      ],
      "metadata": {
        "id": "4dMvp4GhfzXK"
      },
      "execution_count": null,
      "outputs": []
    },
    {
      "cell_type": "code",
      "source": [
        ""
      ],
      "metadata": {
        "id": "PjZIlR-7fKEI"
      },
      "execution_count": null,
      "outputs": []
    },
    {
      "cell_type": "code",
      "source": [
        "from pyspark.ml.feature import NGram, VectorAssembler\n",
        "\n",
        "def build_ngrams_wocs(inputCol=[\"text\",\"target\"], n=3):\n",
        "    tokenizer = [Tokenizer(inputCol=\"text\", outputCol=\"words\")]\n",
        "    ngrams = [\n",
        "        NGram(n=i, inputCol=\"words\", outputCol=\"{0}_grams\".format(i))\n",
        "        for i in range(1, n + 1)\n",
        "    ]\n",
        "\n",
        "    cv = [\n",
        "        CountVectorizer(vocabSize=5460,inputCol=\"{0}_grams\".format(i),\n",
        "            outputCol=\"{0}_tf\".format(i))\n",
        "        for i in range(1, n + 1)\n",
        "    ]\n",
        "    idf = [IDF(inputCol=\"{0}_tf\".format(i), outputCol=\"{0}_tfidf\".format(i), minDocFreq=5) for i in range(1, n + 1)]\n",
        "\n",
        "    assembler = [VectorAssembler(\n",
        "        inputCols=[\"{0}_tfidf\".format(i) for i in range(1, n + 1)],\n",
        "        outputCol=\"features\"\n",
        "    )]\n",
        "    label_stringIdx = [StringIndexer(inputCol = \"target\", outputCol = \"label\")]\n",
        "    lr = [LogisticRegression(maxIter=100)]\n",
        "    return Pipeline(stages=tokenizer + ngrams + cv + idf+ assembler + label_stringIdx+lr)"
      ],
      "metadata": {
        "id": "6T11G6ODfzUq"
      },
      "execution_count": null,
      "outputs": []
    },
    {
      "cell_type": "code",
      "source": [
        "%%time\n",
        "\n",
        "trigramwocs_pipelineFit = build_ngrams_wocs().fit(train_set)\n",
        "predictions_wocs = trigramwocs_pipelineFit.transform(val_set)\n",
        "accuracy_wocs = predictions_wocs.filter(predictions_wocs.label == predictions_wocs.prediction).count() / float(val_set.count())\n",
        "roc_auc_wocs = evaluator.evaluate(predictions_wocs)\n",
        "\n",
        "# print accuracy, roc_auc\n",
        "print (\"Accuracy Score: {0:.4f}\".format(accuracy_wocs))\n",
        "print (\"ROC-AUC: {0:.4f}\".format(roc_auc_wocs))"
      ],
      "metadata": {
        "id": "XRQFwMe7gHAx",
        "colab": {
          "base_uri": "https://localhost:8080/"
        },
        "outputId": "945cd996-4c7b-4d2f-b407-2e96cf778219"
      },
      "execution_count": null,
      "outputs": [
        {
          "output_type": "stream",
          "name": "stdout",
          "text": [
            "Accuracy Score: 0.6952\n",
            "ROC-AUC: 0.7609\n",
            "CPU times: user 338 ms, sys: 62.7 ms, total: 401 ms\n",
            "Wall time: 25.3 s\n"
          ]
        }
      ]
    }
  ],
  "metadata": {
    "colab": {
      "collapsed_sections": [],
      "name": "Big Data Final Review.ipynb",
      "provenance": []
    },
    "kernelspec": {
      "display_name": "Python 3",
      "name": "python3"
    },
    "language_info": {
      "name": "python"
    }
  },
  "nbformat": 4,
  "nbformat_minor": 0
}